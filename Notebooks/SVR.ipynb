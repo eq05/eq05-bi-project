{
 "cells": [
  {
   "cell_type": "code",
   "execution_count": null,
   "metadata": {
    "cell_id": "828bf04d-a6bd-4186-b8c6-c0eac14c3075",
    "deepnote_cell_type": "code",
    "deepnote_to_be_reexecuted": false,
    "execution_millis": 4,
    "execution_start": 1642828068137,
    "source_hash": "4be613be",
    "tags": []
   },
   "outputs": [],
   "source": [
    "#DESCRIPCIÓN: Este programa predice el precio de la acción de AMD para un día específico"
   ]
  },
  {
   "cell_type": "code",
   "execution_count": null,
   "metadata": {
    "cell_id": "3dab5ff5-f67a-48a7-a25d-713266d7737c",
    "deepnote_cell_type": "code",
    "deepnote_to_be_reexecuted": false,
    "execution_millis": 4102,
    "execution_start": 1642828068145,
    "source_hash": "333a6aa3",
    "tags": []
   },
   "outputs": [],
   "source": [
    "#Importar las librerías\n",
    "from sklearn.svm import SVR\n",
    "import numpy as np\n",
    "import pandas as pd\n",
    "import matplotlib.pyplot as plt\n",
    "plt.style.use('fivethirtyeight')"
   ]
  },
  {
   "cell_type": "code",
   "execution_count": null,
   "metadata": {
    "cell_id": "97a2f37d-2b32-4c38-b9e3-b69ebd0d3fd3",
    "deepnote_cell_type": "code",
    "deepnote_to_be_reexecuted": false,
    "execution_millis": 250,
    "execution_start": 1642828072251,
    "source_hash": "fadfad52",
    "tags": []
   },
   "outputs": [
    {
     "data": {
      "application/vnd.deepnote.dataframe.v3+json": {
       "column_count": 7,
       "columns": [
        {
         "dtype": "object",
         "name": "Date",
         "stats": {
          "categories": [
           {
            "count": 1,
            "name": "2021-12-01"
           },
           {
            "count": 1,
            "name": "2021-12-02"
           },
           {
            "count": 20,
            "name": "20 others"
           }
          ],
          "nan_count": 0,
          "unique_count": 22
         }
        },
        {
         "dtype": "float64",
         "name": "Open",
         "stats": {
          "histogram": [
           {
            "bin_end": 134.5399977,
            "bin_start": 131.669998,
            "count": 1
           },
           {
            "bin_end": 137.40999739999998,
            "bin_start": 134.5399977,
            "count": 3
           },
           {
            "bin_end": 140.2799971,
            "bin_start": 137.40999739999998,
            "count": 2
           },
           {
            "bin_end": 143.1499968,
            "bin_start": 140.2799971,
            "count": 3
           },
           {
            "bin_end": 146.0199965,
            "bin_start": 143.1499968,
            "count": 4
           },
           {
            "bin_end": 148.88999619999998,
            "bin_start": 146.0199965,
            "count": 5
           },
           {
            "bin_end": 151.75999589999998,
            "bin_start": 148.88999619999998,
            "count": 1
           },
           {
            "bin_end": 154.6299956,
            "bin_start": 151.75999589999998,
            "count": 1
           },
           {
            "bin_end": 157.4999953,
            "bin_start": 154.6299956,
            "count": 1
           },
           {
            "bin_end": 160.369995,
            "bin_start": 157.4999953,
            "count": 1
           }
          ],
          "max": "160.369995",
          "min": "131.669998",
          "nan_count": 0,
          "unique_count": 22
         }
        },
        {
         "dtype": "float64",
         "name": "High",
         "stats": {
          "histogram": [
           {
            "bin_end": 139.604005,
            "bin_start": 137.240005,
            "count": 3
           },
           {
            "bin_end": 141.968005,
            "bin_start": 139.604005,
            "count": 2
           },
           {
            "bin_end": 144.332005,
            "bin_start": 141.968005,
            "count": 1
           },
           {
            "bin_end": 146.696005,
            "bin_start": 144.332005,
            "count": 5
           },
           {
            "bin_end": 149.060005,
            "bin_start": 146.696005,
            "count": 5
           },
           {
            "bin_end": 151.424005,
            "bin_start": 149.060005,
            "count": 0
           },
           {
            "bin_end": 153.788005,
            "bin_start": 151.424005,
            "count": 2
           },
           {
            "bin_end": 156.152005,
            "bin_start": 153.788005,
            "count": 2
           },
           {
            "bin_end": 158.516005,
            "bin_start": 156.152005,
            "count": 1
           },
           {
            "bin_end": 160.880005,
            "bin_start": 158.516005,
            "count": 1
           }
          ],
          "max": "160.880005",
          "min": "137.240005",
          "nan_count": 0,
          "unique_count": 20
         }
        },
        {
         "dtype": "float64",
         "name": "Low",
         "stats": {
          "histogram": [
           {
            "bin_end": 132.67800590000002,
            "bin_start": 130.600006,
            "count": 1
           },
           {
            "bin_end": 134.7560058,
            "bin_start": 132.67800590000002,
            "count": 4
           },
           {
            "bin_end": 136.8340057,
            "bin_start": 134.7560058,
            "count": 3
           },
           {
            "bin_end": 138.91200560000001,
            "bin_start": 136.8340057,
            "count": 2
           },
           {
            "bin_end": 140.9900055,
            "bin_start": 138.91200560000001,
            "count": 2
           },
           {
            "bin_end": 143.0680054,
            "bin_start": 140.9900055,
            "count": 2
           },
           {
            "bin_end": 145.1460053,
            "bin_start": 143.0680054,
            "count": 3
           },
           {
            "bin_end": 147.22400520000002,
            "bin_start": 145.1460053,
            "count": 1
           },
           {
            "bin_end": 149.3020051,
            "bin_start": 147.22400520000002,
            "count": 3
           },
           {
            "bin_end": 151.380005,
            "bin_start": 149.3020051,
            "count": 1
           }
          ],
          "max": "151.380005",
          "min": "130.600006",
          "nan_count": 0,
          "unique_count": 22
         }
        },
        {
         "dtype": "float64",
         "name": "Close",
         "stats": {
          "histogram": [
           {
            "bin_end": 135.8560028,
            "bin_start": 133.800003,
            "count": 3
           },
           {
            "bin_end": 137.9120026,
            "bin_start": 135.8560028,
            "count": 1
           },
           {
            "bin_end": 139.96800240000002,
            "bin_start": 137.9120026,
            "count": 4
           },
           {
            "bin_end": 142.0240022,
            "bin_start": 139.96800240000002,
            "count": 0
           },
           {
            "bin_end": 144.080002,
            "bin_start": 142.0240022,
            "count": 3
           },
           {
            "bin_end": 146.1360018,
            "bin_start": 144.080002,
            "count": 4
           },
           {
            "bin_end": 148.1920016,
            "bin_start": 146.1360018,
            "count": 2
           },
           {
            "bin_end": 150.24800140000002,
            "bin_start": 148.1920016,
            "count": 2
           },
           {
            "bin_end": 152.30400120000002,
            "bin_start": 150.24800140000002,
            "count": 1
           },
           {
            "bin_end": 154.360001,
            "bin_start": 152.30400120000002,
            "count": 2
           }
          ],
          "max": "154.360001",
          "min": "133.800003",
          "nan_count": 0,
          "unique_count": 22
         }
        },
        {
         "dtype": "float64",
         "name": "Adj Close",
         "stats": {
          "histogram": [
           {
            "bin_end": 135.8560028,
            "bin_start": 133.800003,
            "count": 3
           },
           {
            "bin_end": 137.9120026,
            "bin_start": 135.8560028,
            "count": 1
           },
           {
            "bin_end": 139.96800240000002,
            "bin_start": 137.9120026,
            "count": 4
           },
           {
            "bin_end": 142.0240022,
            "bin_start": 139.96800240000002,
            "count": 0
           },
           {
            "bin_end": 144.080002,
            "bin_start": 142.0240022,
            "count": 3
           },
           {
            "bin_end": 146.1360018,
            "bin_start": 144.080002,
            "count": 4
           },
           {
            "bin_end": 148.1920016,
            "bin_start": 146.1360018,
            "count": 2
           },
           {
            "bin_end": 150.24800140000002,
            "bin_start": 148.1920016,
            "count": 2
           },
           {
            "bin_end": 152.30400120000002,
            "bin_start": 150.24800140000002,
            "count": 1
           },
           {
            "bin_end": 154.360001,
            "bin_start": 152.30400120000002,
            "count": 2
           }
          ],
          "max": "154.360001",
          "min": "133.800003",
          "nan_count": 0,
          "unique_count": 22
         }
        },
        {
         "dtype": "int64",
         "name": "Volume",
         "stats": {
          "histogram": [
           {
            "bin_end": 41618440,
            "bin_start": 38195400,
            "count": 2
           },
           {
            "bin_end": 45041480,
            "bin_start": 41618440,
            "count": 3
           },
           {
            "bin_end": 48464520,
            "bin_start": 45041480,
            "count": 1
           },
           {
            "bin_end": 51887560,
            "bin_start": 48464520,
            "count": 4
           },
           {
            "bin_end": 55310600,
            "bin_start": 51887560,
            "count": 3
           },
           {
            "bin_end": 58733640,
            "bin_start": 55310600,
            "count": 4
           },
           {
            "bin_end": 62156680,
            "bin_start": 58733640,
            "count": 0
           },
           {
            "bin_end": 65579720,
            "bin_start": 62156680,
            "count": 2
           },
           {
            "bin_end": 69002760,
            "bin_start": 65579720,
            "count": 2
           },
           {
            "bin_end": 72425800,
            "bin_start": 69002760,
            "count": 1
           }
          ],
          "max": "72425800",
          "min": "38195400",
          "nan_count": 0,
          "unique_count": 22
         }
        },
        {
         "dtype": "int64",
         "name": "_deepnote_index_column"
        }
       ],
       "row_count": 22,
       "rows": [
        {
         "Adj Close": 149.110001,
         "Close": 149.110001,
         "Date": "2021-12-01",
         "High": 160.880005,
         "Low": 148.919998,
         "Open": 160.369995,
         "Volume": 64039100,
         "_deepnote_index_column": 0
        },
        {
         "Adj Close": 150.679993,
         "Close": 150.679993,
         "Date": "2021-12-02",
         "High": 152.529999,
         "Low": 146.470001,
         "Open": 147.679993,
         "Volume": 56161200,
         "_deepnote_index_column": 1
        },
        {
         "Adj Close": 144.009995,
         "Close": 144.009995,
         "Date": "2021-12-03",
         "High": 152.380005,
         "Low": 140.720001,
         "Open": 151.649994,
         "Volume": 65856800,
         "_deepnote_index_column": 2
        },
        {
         "Adj Close": 139.059998,
         "Close": 139.059998,
         "Date": "2021-12-06",
         "High": 141.309998,
         "Low": 134.199997,
         "Open": 141.139999,
         "Volume": 66776500,
         "_deepnote_index_column": 3
        },
        {
         "Adj Close": 144.850006,
         "Close": 144.850006,
         "Date": "2021-12-07",
         "High": 145.759995,
         "Low": 141,
         "Open": 143.899994,
         "Volume": 53359400,
         "_deepnote_index_column": 4
        },
        {
         "Adj Close": 145.240005,
         "Close": 145.240005,
         "Date": "2021-12-08",
         "High": 147.039993,
         "Low": 142.699997,
         "Open": 144.960007,
         "Volume": 40977500,
         "_deepnote_index_column": 5
        },
        {
         "Adj Close": 138.100006,
         "Close": 138.100006,
         "Date": "2021-12-09",
         "High": 146.690002,
         "Low": 137.800003,
         "Open": 145.160004,
         "Volume": 53019900,
         "_deepnote_index_column": 6
        },
        {
         "Adj Close": 138.550003,
         "Close": 138.550003,
         "Date": "2021-12-10",
         "High": 141.369995,
         "Low": 135.820007,
         "Open": 141.289993,
         "Volume": 42187900,
         "_deepnote_index_column": 7
        },
        {
         "Adj Close": 133.800003,
         "Close": 133.800003,
         "Date": "2021-12-13",
         "High": 139.399994,
         "Low": 133.419998,
         "Open": 138.25,
         "Volume": 42174000,
         "_deepnote_index_column": 8
        },
        {
         "Adj Close": 135.600006,
         "Close": 135.600006,
         "Date": "2021-12-14",
         "High": 137.240005,
         "Low": 130.600006,
         "Open": 131.669998,
         "Volume": 50754600,
         "_deepnote_index_column": 9
        }
       ]
      },
      "text/html": [
       "<div>\n",
       "<style scoped>\n",
       "    .dataframe tbody tr th:only-of-type {\n",
       "        vertical-align: middle;\n",
       "    }\n",
       "\n",
       "    .dataframe tbody tr th {\n",
       "        vertical-align: top;\n",
       "    }\n",
       "\n",
       "    .dataframe thead th {\n",
       "        text-align: right;\n",
       "    }\n",
       "</style>\n",
       "<table border=\"1\" class=\"dataframe\">\n",
       "  <thead>\n",
       "    <tr style=\"text-align: right;\">\n",
       "      <th></th>\n",
       "      <th>Date</th>\n",
       "      <th>Open</th>\n",
       "      <th>High</th>\n",
       "      <th>Low</th>\n",
       "      <th>Close</th>\n",
       "      <th>Adj Close</th>\n",
       "      <th>Volume</th>\n",
       "    </tr>\n",
       "  </thead>\n",
       "  <tbody>\n",
       "    <tr>\n",
       "      <th>0</th>\n",
       "      <td>2021-12-01</td>\n",
       "      <td>160.369995</td>\n",
       "      <td>160.880005</td>\n",
       "      <td>148.919998</td>\n",
       "      <td>149.110001</td>\n",
       "      <td>149.110001</td>\n",
       "      <td>64039100</td>\n",
       "    </tr>\n",
       "    <tr>\n",
       "      <th>1</th>\n",
       "      <td>2021-12-02</td>\n",
       "      <td>147.679993</td>\n",
       "      <td>152.529999</td>\n",
       "      <td>146.470001</td>\n",
       "      <td>150.679993</td>\n",
       "      <td>150.679993</td>\n",
       "      <td>56161200</td>\n",
       "    </tr>\n",
       "    <tr>\n",
       "      <th>2</th>\n",
       "      <td>2021-12-03</td>\n",
       "      <td>151.649994</td>\n",
       "      <td>152.380005</td>\n",
       "      <td>140.720001</td>\n",
       "      <td>144.009995</td>\n",
       "      <td>144.009995</td>\n",
       "      <td>65856800</td>\n",
       "    </tr>\n",
       "    <tr>\n",
       "      <th>3</th>\n",
       "      <td>2021-12-06</td>\n",
       "      <td>141.139999</td>\n",
       "      <td>141.309998</td>\n",
       "      <td>134.199997</td>\n",
       "      <td>139.059998</td>\n",
       "      <td>139.059998</td>\n",
       "      <td>66776500</td>\n",
       "    </tr>\n",
       "    <tr>\n",
       "      <th>4</th>\n",
       "      <td>2021-12-07</td>\n",
       "      <td>143.899994</td>\n",
       "      <td>145.759995</td>\n",
       "      <td>141.000000</td>\n",
       "      <td>144.850006</td>\n",
       "      <td>144.850006</td>\n",
       "      <td>53359400</td>\n",
       "    </tr>\n",
       "    <tr>\n",
       "      <th>5</th>\n",
       "      <td>2021-12-08</td>\n",
       "      <td>144.960007</td>\n",
       "      <td>147.039993</td>\n",
       "      <td>142.699997</td>\n",
       "      <td>145.240005</td>\n",
       "      <td>145.240005</td>\n",
       "      <td>40977500</td>\n",
       "    </tr>\n",
       "    <tr>\n",
       "      <th>6</th>\n",
       "      <td>2021-12-09</td>\n",
       "      <td>145.160004</td>\n",
       "      <td>146.690002</td>\n",
       "      <td>137.800003</td>\n",
       "      <td>138.100006</td>\n",
       "      <td>138.100006</td>\n",
       "      <td>53019900</td>\n",
       "    </tr>\n",
       "    <tr>\n",
       "      <th>7</th>\n",
       "      <td>2021-12-10</td>\n",
       "      <td>141.289993</td>\n",
       "      <td>141.369995</td>\n",
       "      <td>135.820007</td>\n",
       "      <td>138.550003</td>\n",
       "      <td>138.550003</td>\n",
       "      <td>42187900</td>\n",
       "    </tr>\n",
       "    <tr>\n",
       "      <th>8</th>\n",
       "      <td>2021-12-13</td>\n",
       "      <td>138.250000</td>\n",
       "      <td>139.399994</td>\n",
       "      <td>133.419998</td>\n",
       "      <td>133.800003</td>\n",
       "      <td>133.800003</td>\n",
       "      <td>42174000</td>\n",
       "    </tr>\n",
       "    <tr>\n",
       "      <th>9</th>\n",
       "      <td>2021-12-14</td>\n",
       "      <td>131.669998</td>\n",
       "      <td>137.240005</td>\n",
       "      <td>130.600006</td>\n",
       "      <td>135.600006</td>\n",
       "      <td>135.600006</td>\n",
       "      <td>50754600</td>\n",
       "    </tr>\n",
       "    <tr>\n",
       "      <th>10</th>\n",
       "      <td>2021-12-15</td>\n",
       "      <td>135.110001</td>\n",
       "      <td>146.690002</td>\n",
       "      <td>133.809998</td>\n",
       "      <td>146.500000</td>\n",
       "      <td>146.500000</td>\n",
       "      <td>72425800</td>\n",
       "    </tr>\n",
       "    <tr>\n",
       "      <th>11</th>\n",
       "      <td>2021-12-16</td>\n",
       "      <td>147.000000</td>\n",
       "      <td>147.929993</td>\n",
       "      <td>137.020004</td>\n",
       "      <td>138.639999</td>\n",
       "      <td>138.639999</td>\n",
       "      <td>63369600</td>\n",
       "    </tr>\n",
       "    <tr>\n",
       "      <th>12</th>\n",
       "      <td>2021-12-17</td>\n",
       "      <td>136.300003</td>\n",
       "      <td>142.039993</td>\n",
       "      <td>136.110001</td>\n",
       "      <td>137.750000</td>\n",
       "      <td>137.750000</td>\n",
       "      <td>55642100</td>\n",
       "    </tr>\n",
       "    <tr>\n",
       "      <th>13</th>\n",
       "      <td>2021-12-20</td>\n",
       "      <td>135.970001</td>\n",
       "      <td>138.259995</td>\n",
       "      <td>133.520004</td>\n",
       "      <td>135.800003</td>\n",
       "      <td>135.800003</td>\n",
       "      <td>38195400</td>\n",
       "    </tr>\n",
       "    <tr>\n",
       "      <th>14</th>\n",
       "      <td>2021-12-21</td>\n",
       "      <td>138.190002</td>\n",
       "      <td>144.500000</td>\n",
       "      <td>135.149994</td>\n",
       "      <td>144.250000</td>\n",
       "      <td>144.250000</td>\n",
       "      <td>57785200</td>\n",
       "    </tr>\n",
       "    <tr>\n",
       "      <th>15</th>\n",
       "      <td>2021-12-22</td>\n",
       "      <td>142.649994</td>\n",
       "      <td>144.500000</td>\n",
       "      <td>140.270004</td>\n",
       "      <td>143.880005</td>\n",
       "      <td>143.880005</td>\n",
       "      <td>46923700</td>\n",
       "    </tr>\n",
       "    <tr>\n",
       "      <th>16</th>\n",
       "      <td>2021-12-23</td>\n",
       "      <td>143.889999</td>\n",
       "      <td>149.020004</td>\n",
       "      <td>143.850006</td>\n",
       "      <td>146.139999</td>\n",
       "      <td>146.139999</td>\n",
       "      <td>48653800</td>\n",
       "    </tr>\n",
       "    <tr>\n",
       "      <th>17</th>\n",
       "      <td>2021-12-27</td>\n",
       "      <td>147.509995</td>\n",
       "      <td>154.889999</td>\n",
       "      <td>147.250000</td>\n",
       "      <td>154.360001</td>\n",
       "      <td>154.360001</td>\n",
       "      <td>53296400</td>\n",
       "    </tr>\n",
       "    <tr>\n",
       "      <th>18</th>\n",
       "      <td>2021-12-28</td>\n",
       "      <td>155.880005</td>\n",
       "      <td>156.729996</td>\n",
       "      <td>151.380005</td>\n",
       "      <td>153.149994</td>\n",
       "      <td>153.149994</td>\n",
       "      <td>58699100</td>\n",
       "    </tr>\n",
       "    <tr>\n",
       "      <th>19</th>\n",
       "      <td>2021-12-29</td>\n",
       "      <td>152.820007</td>\n",
       "      <td>154.339996</td>\n",
       "      <td>147.289993</td>\n",
       "      <td>148.259995</td>\n",
       "      <td>148.259995</td>\n",
       "      <td>51300200</td>\n",
       "    </tr>\n",
       "    <tr>\n",
       "      <th>20</th>\n",
       "      <td>2021-12-30</td>\n",
       "      <td>147.440002</td>\n",
       "      <td>148.850006</td>\n",
       "      <td>144.850006</td>\n",
       "      <td>145.149994</td>\n",
       "      <td>145.149994</td>\n",
       "      <td>44358000</td>\n",
       "    </tr>\n",
       "    <tr>\n",
       "      <th>21</th>\n",
       "      <td>2021-12-31</td>\n",
       "      <td>146.160004</td>\n",
       "      <td>148.610001</td>\n",
       "      <td>143.550003</td>\n",
       "      <td>143.899994</td>\n",
       "      <td>143.899994</td>\n",
       "      <td>49416000</td>\n",
       "    </tr>\n",
       "  </tbody>\n",
       "</table>\n",
       "</div>"
      ],
      "text/plain": [
       "          Date        Open        High         Low       Close   Adj Close  \\\n",
       "0   2021-12-01  160.369995  160.880005  148.919998  149.110001  149.110001   \n",
       "1   2021-12-02  147.679993  152.529999  146.470001  150.679993  150.679993   \n",
       "2   2021-12-03  151.649994  152.380005  140.720001  144.009995  144.009995   \n",
       "3   2021-12-06  141.139999  141.309998  134.199997  139.059998  139.059998   \n",
       "4   2021-12-07  143.899994  145.759995  141.000000  144.850006  144.850006   \n",
       "5   2021-12-08  144.960007  147.039993  142.699997  145.240005  145.240005   \n",
       "6   2021-12-09  145.160004  146.690002  137.800003  138.100006  138.100006   \n",
       "7   2021-12-10  141.289993  141.369995  135.820007  138.550003  138.550003   \n",
       "8   2021-12-13  138.250000  139.399994  133.419998  133.800003  133.800003   \n",
       "9   2021-12-14  131.669998  137.240005  130.600006  135.600006  135.600006   \n",
       "10  2021-12-15  135.110001  146.690002  133.809998  146.500000  146.500000   \n",
       "11  2021-12-16  147.000000  147.929993  137.020004  138.639999  138.639999   \n",
       "12  2021-12-17  136.300003  142.039993  136.110001  137.750000  137.750000   \n",
       "13  2021-12-20  135.970001  138.259995  133.520004  135.800003  135.800003   \n",
       "14  2021-12-21  138.190002  144.500000  135.149994  144.250000  144.250000   \n",
       "15  2021-12-22  142.649994  144.500000  140.270004  143.880005  143.880005   \n",
       "16  2021-12-23  143.889999  149.020004  143.850006  146.139999  146.139999   \n",
       "17  2021-12-27  147.509995  154.889999  147.250000  154.360001  154.360001   \n",
       "18  2021-12-28  155.880005  156.729996  151.380005  153.149994  153.149994   \n",
       "19  2021-12-29  152.820007  154.339996  147.289993  148.259995  148.259995   \n",
       "20  2021-12-30  147.440002  148.850006  144.850006  145.149994  145.149994   \n",
       "21  2021-12-31  146.160004  148.610001  143.550003  143.899994  143.899994   \n",
       "\n",
       "      Volume  \n",
       "0   64039100  \n",
       "1   56161200  \n",
       "2   65856800  \n",
       "3   66776500  \n",
       "4   53359400  \n",
       "5   40977500  \n",
       "6   53019900  \n",
       "7   42187900  \n",
       "8   42174000  \n",
       "9   50754600  \n",
       "10  72425800  \n",
       "11  63369600  \n",
       "12  55642100  \n",
       "13  38195400  \n",
       "14  57785200  \n",
       "15  46923700  \n",
       "16  48653800  \n",
       "17  53296400  \n",
       "18  58699100  \n",
       "19  51300200  \n",
       "20  44358000  \n",
       "21  49416000  "
      ]
     },
     "execution_count": 3,
     "metadata": {},
     "output_type": "execute_result"
    }
   ],
   "source": [
    "#Cargar y mostrar la data\n",
    "df = pd.read_csv('AMD.csv')\n",
    "df"
   ]
  },
  {
   "cell_type": "code",
   "execution_count": null,
   "metadata": {
    "cell_id": "246d56ef-db11-4cd5-a09a-3841f69e40ba",
    "deepnote_cell_type": "code",
    "deepnote_output_heights": [
     21.1875
    ],
    "deepnote_to_be_reexecuted": false,
    "execution_millis": 2,
    "execution_start": 1642828072549,
    "source_hash": "1e403f01",
    "tags": []
   },
   "outputs": [
    {
     "data": {
      "text/plain": [
       "(22, 7)"
      ]
     },
     "execution_count": 4,
     "metadata": {},
     "output_type": "execute_result"
    }
   ],
   "source": [
    "#Obtener el número de filas y columnas\n",
    "df.shape"
   ]
  },
  {
   "cell_type": "code",
   "execution_count": null,
   "metadata": {
    "cell_id": "1e25b6f6-68c2-4f8b-9654-3cb5296fff65",
    "deepnote_cell_type": "code",
    "deepnote_to_be_reexecuted": false,
    "execution_millis": 61,
    "execution_start": 1642828072550,
    "source_hash": "46a12f1c",
    "tags": []
   },
   "outputs": [
    {
     "data": {
      "application/vnd.deepnote.dataframe.v3+json": {
       "column_count": 7,
       "columns": [
        {
         "dtype": "object",
         "name": "Date",
         "stats": {
          "categories": [
           {
            "count": 1,
            "name": "2021-12-31"
           }
          ],
          "nan_count": 0,
          "unique_count": 1
         }
        },
        {
         "dtype": "float64",
         "name": "Open",
         "stats": {
          "histogram": [
           {
            "bin_end": 145.76000399999998,
            "bin_start": 145.660004,
            "count": 0
           },
           {
            "bin_end": 145.86000399999998,
            "bin_start": 145.76000399999998,
            "count": 0
           },
           {
            "bin_end": 145.960004,
            "bin_start": 145.86000399999998,
            "count": 0
           },
           {
            "bin_end": 146.060004,
            "bin_start": 145.960004,
            "count": 0
           },
           {
            "bin_end": 146.160004,
            "bin_start": 146.060004,
            "count": 0
           },
           {
            "bin_end": 146.26000399999998,
            "bin_start": 146.160004,
            "count": 1
           },
           {
            "bin_end": 146.36000399999998,
            "bin_start": 146.26000399999998,
            "count": 0
           },
           {
            "bin_end": 146.460004,
            "bin_start": 146.36000399999998,
            "count": 0
           },
           {
            "bin_end": 146.560004,
            "bin_start": 146.460004,
            "count": 0
           },
           {
            "bin_end": 146.660004,
            "bin_start": 146.560004,
            "count": 0
           }
          ],
          "max": "146.160004",
          "min": "146.160004",
          "nan_count": 0,
          "unique_count": 1
         }
        },
        {
         "dtype": "float64",
         "name": "High",
         "stats": {
          "histogram": [
           {
            "bin_end": 148.210001,
            "bin_start": 148.110001,
            "count": 0
           },
           {
            "bin_end": 148.310001,
            "bin_start": 148.210001,
            "count": 0
           },
           {
            "bin_end": 148.41000100000002,
            "bin_start": 148.310001,
            "count": 0
           },
           {
            "bin_end": 148.51000100000002,
            "bin_start": 148.41000100000002,
            "count": 0
           },
           {
            "bin_end": 148.610001,
            "bin_start": 148.51000100000002,
            "count": 0
           },
           {
            "bin_end": 148.710001,
            "bin_start": 148.610001,
            "count": 1
           },
           {
            "bin_end": 148.810001,
            "bin_start": 148.710001,
            "count": 0
           },
           {
            "bin_end": 148.91000100000002,
            "bin_start": 148.810001,
            "count": 0
           },
           {
            "bin_end": 149.01000100000002,
            "bin_start": 148.91000100000002,
            "count": 0
           },
           {
            "bin_end": 149.110001,
            "bin_start": 149.01000100000002,
            "count": 0
           }
          ],
          "max": "148.610001",
          "min": "148.610001",
          "nan_count": 0,
          "unique_count": 1
         }
        },
        {
         "dtype": "float64",
         "name": "Low",
         "stats": {
          "histogram": [
           {
            "bin_end": 143.150003,
            "bin_start": 143.050003,
            "count": 0
           },
           {
            "bin_end": 143.250003,
            "bin_start": 143.150003,
            "count": 0
           },
           {
            "bin_end": 143.35000300000002,
            "bin_start": 143.250003,
            "count": 0
           },
           {
            "bin_end": 143.450003,
            "bin_start": 143.35000300000002,
            "count": 0
           },
           {
            "bin_end": 143.550003,
            "bin_start": 143.450003,
            "count": 0
           },
           {
            "bin_end": 143.650003,
            "bin_start": 143.550003,
            "count": 1
           },
           {
            "bin_end": 143.750003,
            "bin_start": 143.650003,
            "count": 0
           },
           {
            "bin_end": 143.85000300000002,
            "bin_start": 143.750003,
            "count": 0
           },
           {
            "bin_end": 143.950003,
            "bin_start": 143.85000300000002,
            "count": 0
           },
           {
            "bin_end": 144.050003,
            "bin_start": 143.950003,
            "count": 0
           }
          ],
          "max": "143.550003",
          "min": "143.550003",
          "nan_count": 0,
          "unique_count": 1
         }
        },
        {
         "dtype": "float64",
         "name": "Close",
         "stats": {
          "histogram": [
           {
            "bin_end": 143.499994,
            "bin_start": 143.399994,
            "count": 0
           },
           {
            "bin_end": 143.59999399999998,
            "bin_start": 143.499994,
            "count": 0
           },
           {
            "bin_end": 143.699994,
            "bin_start": 143.59999399999998,
            "count": 0
           },
           {
            "bin_end": 143.799994,
            "bin_start": 143.699994,
            "count": 0
           },
           {
            "bin_end": 143.899994,
            "bin_start": 143.799994,
            "count": 0
           },
           {
            "bin_end": 143.999994,
            "bin_start": 143.899994,
            "count": 1
           },
           {
            "bin_end": 144.09999399999998,
            "bin_start": 143.999994,
            "count": 0
           },
           {
            "bin_end": 144.199994,
            "bin_start": 144.09999399999998,
            "count": 0
           },
           {
            "bin_end": 144.299994,
            "bin_start": 144.199994,
            "count": 0
           },
           {
            "bin_end": 144.399994,
            "bin_start": 144.299994,
            "count": 0
           }
          ],
          "max": "143.899994",
          "min": "143.899994",
          "nan_count": 0,
          "unique_count": 1
         }
        },
        {
         "dtype": "float64",
         "name": "Adj Close",
         "stats": {
          "histogram": [
           {
            "bin_end": 143.499994,
            "bin_start": 143.399994,
            "count": 0
           },
           {
            "bin_end": 143.59999399999998,
            "bin_start": 143.499994,
            "count": 0
           },
           {
            "bin_end": 143.699994,
            "bin_start": 143.59999399999998,
            "count": 0
           },
           {
            "bin_end": 143.799994,
            "bin_start": 143.699994,
            "count": 0
           },
           {
            "bin_end": 143.899994,
            "bin_start": 143.799994,
            "count": 0
           },
           {
            "bin_end": 143.999994,
            "bin_start": 143.899994,
            "count": 1
           },
           {
            "bin_end": 144.09999399999998,
            "bin_start": 143.999994,
            "count": 0
           },
           {
            "bin_end": 144.199994,
            "bin_start": 144.09999399999998,
            "count": 0
           },
           {
            "bin_end": 144.299994,
            "bin_start": 144.199994,
            "count": 0
           },
           {
            "bin_end": 144.399994,
            "bin_start": 144.299994,
            "count": 0
           }
          ],
          "max": "143.899994",
          "min": "143.899994",
          "nan_count": 0,
          "unique_count": 1
         }
        },
        {
         "dtype": "int64",
         "name": "Volume",
         "stats": {
          "histogram": [
           {
            "bin_end": 49415999.6,
            "bin_start": 49415999.5,
            "count": 0
           },
           {
            "bin_end": 49415999.7,
            "bin_start": 49415999.6,
            "count": 0
           },
           {
            "bin_end": 49415999.8,
            "bin_start": 49415999.7,
            "count": 0
           },
           {
            "bin_end": 49415999.9,
            "bin_start": 49415999.8,
            "count": 0
           },
           {
            "bin_end": 49416000,
            "bin_start": 49415999.9,
            "count": 0
           },
           {
            "bin_end": 49416000.1,
            "bin_start": 49416000,
            "count": 1
           },
           {
            "bin_end": 49416000.2,
            "bin_start": 49416000.1,
            "count": 0
           },
           {
            "bin_end": 49416000.3,
            "bin_start": 49416000.2,
            "count": 0
           },
           {
            "bin_end": 49416000.4,
            "bin_start": 49416000.3,
            "count": 0
           },
           {
            "bin_end": 49416000.5,
            "bin_start": 49416000.4,
            "count": 0
           }
          ],
          "max": "49416000",
          "min": "49416000",
          "nan_count": 0,
          "unique_count": 1
         }
        },
        {
         "dtype": "int64",
         "name": "_deepnote_index_column"
        }
       ],
       "row_count": 1,
       "rows": [
        {
         "Adj Close": 143.899994,
         "Close": 143.899994,
         "Date": "2021-12-31",
         "High": 148.610001,
         "Low": 143.550003,
         "Open": 146.160004,
         "Volume": 49416000,
         "_deepnote_index_column": 21
        }
       ]
      },
      "text/html": [
       "<div>\n",
       "<style scoped>\n",
       "    .dataframe tbody tr th:only-of-type {\n",
       "        vertical-align: middle;\n",
       "    }\n",
       "\n",
       "    .dataframe tbody tr th {\n",
       "        vertical-align: top;\n",
       "    }\n",
       "\n",
       "    .dataframe thead th {\n",
       "        text-align: right;\n",
       "    }\n",
       "</style>\n",
       "<table border=\"1\" class=\"dataframe\">\n",
       "  <thead>\n",
       "    <tr style=\"text-align: right;\">\n",
       "      <th></th>\n",
       "      <th>Date</th>\n",
       "      <th>Open</th>\n",
       "      <th>High</th>\n",
       "      <th>Low</th>\n",
       "      <th>Close</th>\n",
       "      <th>Adj Close</th>\n",
       "      <th>Volume</th>\n",
       "    </tr>\n",
       "  </thead>\n",
       "  <tbody>\n",
       "    <tr>\n",
       "      <th>21</th>\n",
       "      <td>2021-12-31</td>\n",
       "      <td>146.160004</td>\n",
       "      <td>148.610001</td>\n",
       "      <td>143.550003</td>\n",
       "      <td>143.899994</td>\n",
       "      <td>143.899994</td>\n",
       "      <td>49416000</td>\n",
       "    </tr>\n",
       "  </tbody>\n",
       "</table>\n",
       "</div>"
      ],
      "text/plain": [
       "          Date        Open        High         Low       Close   Adj Close  \\\n",
       "21  2021-12-31  146.160004  148.610001  143.550003  143.899994  143.899994   \n",
       "\n",
       "      Volume  \n",
       "21  49416000  "
      ]
     },
     "execution_count": 5,
     "metadata": {},
     "output_type": "execute_result"
    }
   ],
   "source": [
    "#Mostrar la última fila de la data\n",
    "actual_price = df.tail(1)\n",
    "actual_price"
   ]
  },
  {
   "cell_type": "code",
   "execution_count": null,
   "metadata": {
    "cell_id": "7dcebfd5-50e1-4243-8c12-9250099e1659",
    "deepnote_cell_type": "code",
    "deepnote_to_be_reexecuted": false,
    "execution_millis": 37,
    "execution_start": 1642828072613,
    "source_hash": "fda354ed",
    "tags": []
   },
   "outputs": [
    {
     "name": "stdout",
     "output_type": "stream",
     "text": [
      "          Date        Open        High         Low       Close   Adj Close  \\\n",
      "0   2021-12-01  160.369995  160.880005  148.919998  149.110001  149.110001   \n",
      "1   2021-12-02  147.679993  152.529999  146.470001  150.679993  150.679993   \n",
      "2   2021-12-03  151.649994  152.380005  140.720001  144.009995  144.009995   \n",
      "3   2021-12-06  141.139999  141.309998  134.199997  139.059998  139.059998   \n",
      "4   2021-12-07  143.899994  145.759995  141.000000  144.850006  144.850006   \n",
      "5   2021-12-08  144.960007  147.039993  142.699997  145.240005  145.240005   \n",
      "6   2021-12-09  145.160004  146.690002  137.800003  138.100006  138.100006   \n",
      "7   2021-12-10  141.289993  141.369995  135.820007  138.550003  138.550003   \n",
      "8   2021-12-13  138.250000  139.399994  133.419998  133.800003  133.800003   \n",
      "9   2021-12-14  131.669998  137.240005  130.600006  135.600006  135.600006   \n",
      "10  2021-12-15  135.110001  146.690002  133.809998  146.500000  146.500000   \n",
      "11  2021-12-16  147.000000  147.929993  137.020004  138.639999  138.639999   \n",
      "12  2021-12-17  136.300003  142.039993  136.110001  137.750000  137.750000   \n",
      "13  2021-12-20  135.970001  138.259995  133.520004  135.800003  135.800003   \n",
      "14  2021-12-21  138.190002  144.500000  135.149994  144.250000  144.250000   \n",
      "15  2021-12-22  142.649994  144.500000  140.270004  143.880005  143.880005   \n",
      "16  2021-12-23  143.889999  149.020004  143.850006  146.139999  146.139999   \n",
      "17  2021-12-27  147.509995  154.889999  147.250000  154.360001  154.360001   \n",
      "18  2021-12-28  155.880005  156.729996  151.380005  153.149994  153.149994   \n",
      "19  2021-12-29  152.820007  154.339996  147.289993  148.259995  148.259995   \n",
      "20  2021-12-30  147.440002  148.850006  144.850006  145.149994  145.149994   \n",
      "\n",
      "      Volume  \n",
      "0   64039100  \n",
      "1   56161200  \n",
      "2   65856800  \n",
      "3   66776500  \n",
      "4   53359400  \n",
      "5   40977500  \n",
      "6   53019900  \n",
      "7   42187900  \n",
      "8   42174000  \n",
      "9   50754600  \n",
      "10  72425800  \n",
      "11  63369600  \n",
      "12  55642100  \n",
      "13  38195400  \n",
      "14  57785200  \n",
      "15  46923700  \n",
      "16  48653800  \n",
      "17  53296400  \n",
      "18  58699100  \n",
      "19  51300200  \n",
      "20  44358000  \n"
     ]
    }
   ],
   "source": [
    "#Preparar la data para entrenar los modelos SVR\n",
    "#Obtener todos de la data excepto de la última fila\n",
    "df = df.head(len(df)-1)\n",
    "\n",
    "#Imprimir el nuevo data set\n",
    "print(df)"
   ]
  },
  {
   "cell_type": "code",
   "execution_count": null,
   "metadata": {
    "cell_id": "f60c85c7-f28b-406c-b816-3af6e78d3934",
    "deepnote_cell_type": "code",
    "deepnote_to_be_reexecuted": false,
    "execution_millis": 5,
    "execution_start": 1642828072657,
    "source_hash": "69c9fb89",
    "tags": []
   },
   "outputs": [],
   "source": [
    "#Crear listas vacías para almacenar la data independiente y dependiente\n",
    "days = list()\n",
    "adj_close_prices = list()"
   ]
  },
  {
   "cell_type": "code",
   "execution_count": null,
   "metadata": {
    "cell_id": "879ae65a-37ef-4a70-903e-616f0053beb1",
    "deepnote_cell_type": "code",
    "deepnote_to_be_reexecuted": false,
    "execution_millis": 0,
    "execution_start": 1642828072695,
    "source_hash": "c34d83bd",
    "tags": []
   },
   "outputs": [],
   "source": [
    "#Obtener la fecha y el precio de cierre ajustado\n",
    "df_days = df.loc[:, 'Date']\n",
    "df_adj_close = df.loc[:, 'Adj Close']"
   ]
  },
  {
   "cell_type": "code",
   "execution_count": null,
   "metadata": {
    "cell_id": "b59c16bf-3561-4508-800e-82f497b687d1",
    "deepnote_cell_type": "code",
    "deepnote_to_be_reexecuted": false,
    "execution_start": 1642828072696,
    "source_hash": "76818ff",
    "tags": []
   },
   "outputs": [],
   "source": [
    "#Crear el data set independiente\n",
    "for day in df_days:\n",
    "    days.append([int(day.split('-')[2])])\n",
    "    \n",
    "#Crear el data set dependiente\n",
    "for adj_close_price in df_adj_close:\n",
    "    adj_close_prices.append( float(adj_close_price) )"
   ]
  },
  {
   "cell_type": "code",
   "execution_count": null,
   "metadata": {
    "cell_id": "207784b9-6ec4-485a-be72-7a0bcc7a4890",
    "deepnote_cell_type": "code",
    "deepnote_to_be_reexecuted": false,
    "execution_start": 1642828072697,
    "source_hash": "737fcef",
    "tags": []
   },
   "outputs": [
    {
     "name": "stdout",
     "output_type": "stream",
     "text": [
      "[[1], [2], [3], [6], [7], [8], [9], [10], [13], [14], [15], [16], [17], [20], [21], [22], [23], [27], [28], [29], [30]]\n",
      "[149.110001, 150.679993, 144.009995, 139.059998, 144.850006, 145.240005, 138.100006, 138.550003, 133.800003, 135.600006, 146.5, 138.639999, 137.75, 135.800003, 144.25, 143.880005, 146.139999, 154.360001, 153.149994, 148.259995, 145.149994]\n"
     ]
    }
   ],
   "source": [
    "#Imprimir los días y los precios de cierre ajustados\n",
    "print(days)\n",
    "print(adj_close_prices)"
   ]
  },
  {
   "cell_type": "code",
   "execution_count": null,
   "metadata": {
    "cell_id": "b855f16b-88be-4b04-a1c2-b9006640ff6f",
    "deepnote_cell_type": "code",
    "deepnote_output_heights": [
     21.1875
    ],
    "deepnote_to_be_reexecuted": false,
    "execution_millis": 78,
    "execution_start": 1642828072698,
    "source_hash": "e2fd6ba4",
    "tags": []
   },
   "outputs": [
    {
     "data": {
      "text/plain": [
       "SVR(C=1000.0, gamma=0.15)"
      ]
     },
     "execution_count": 11,
     "metadata": {},
     "output_type": "execute_result"
    }
   ],
   "source": [
    "#Crear los modelos de Support Vector Regression\n",
    "\n",
    "#Crear y entrenar un modelo SVR usando linear kernel\n",
    "lin_svr = SVR(kernel='linear', C=1000.0)\n",
    "lin_svr.fit(days, adj_close_prices)\n",
    "\n",
    "#Crear y entrenar un modelo SVR usando polynomial kernel\n",
    "poly_svr = SVR(kernel='poly', degree=2)\n",
    "poly_svr.fit(days, adj_close_prices)\n",
    "\n",
    "#Crear y entrenar un modelo SVR usando rbf kernel\n",
    "rbf_svr = SVR(kernel='rbf', C=1000.0, gamma=0.15)\n",
    "rbf_svr.fit(days, adj_close_prices)"
   ]
  },
  {
   "cell_type": "code",
   "execution_count": null,
   "metadata": {
    "cell_id": "15409006-f26f-46f0-8e1a-d361a3e17424",
    "deepnote_cell_type": "code",
    "deepnote_output_heights": [
     441.140625
    ],
    "deepnote_to_be_reexecuted": false,
    "execution_millis": 539,
    "execution_start": 1642828072783,
    "source_hash": "247d003c",
    "tags": []
   },
   "outputs": [
    {
     "data": {
      "image/png": "[encoded data removed]",
      "text/plain": [
       "<Figure size 1152x576 with 1 Axes>"
      ]
     },
     "metadata": {
      "image/png": {
       "height": 498,
       "width": 1046
      }
     },
     "output_type": "display_data"
    }
   ],
   "source": [
    "#Mostrar los modelos en un gráfico para ver cuál tiene el mejor ajuste a la data original\n",
    "plt.figure(figsize=(16, 8))\n",
    "plt.scatter(days, adj_close_prices, color='red', label='Data')\n",
    "plt.plot(days, rbf_svr.predict(days), color='green', label='RBF model')\n",
    "plt.plot(days, poly_svr.predict(days), color='orange', label='Polynomial model')\n",
    "plt.plot(days, lin_svr.predict(days), color='blue', label='Linear model')\n",
    "plt.legend()\n",
    "plt.show()"
   ]
  },
  {
   "cell_type": "code",
   "execution_count": null,
   "metadata": {
    "cell_id": "dc885d8c-c113-4460-8427-a384ff49bb39",
    "deepnote_cell_type": "code",
    "deepnote_to_be_reexecuted": false,
    "execution_millis": 0,
    "execution_start": 1642828073373,
    "source_hash": "2eea8039",
    "tags": []
   },
   "outputs": [
    {
     "name": "stdout",
     "output_type": "stream",
     "text": [
      "The RBF SVR predicted: [146.30865635]\n",
      "The Linear SVR predicted: [145.09221619]\n",
      "The Polynomial SVR predicted: [149.36300028]\n"
     ]
    }
   ],
   "source": [
    "#Mostrar la predicción del precio para un dia dado\n",
    "day = [[31]]\n",
    "\n",
    "print('The RBF SVR predicted:', rbf_svr.predict(day))\n",
    "print('The Linear SVR predicted:', lin_svr.predict(day))\n",
    "print('The Polynomial SVR predicted:', poly_svr.predict(day))"
   ]
  },
  {
   "cell_type": "code",
   "execution_count": null,
   "metadata": {
    "cell_id": "588541e1-b7e9-4f9a-9f96-dc8d06ebddd0",
    "deepnote_cell_type": "code",
    "deepnote_to_be_reexecuted": false,
    "execution_millis": 2,
    "execution_start": 1642828073374,
    "source_hash": "3c2071cc",
    "tags": []
   },
   "outputs": [
    {
     "name": "stdout",
     "output_type": "stream",
     "text": [
      "The actual price: 143.899994\n"
     ]
    }
   ],
   "source": [
    "#Imprimr el precio actual de la acción en el día 31\n",
    "print('The actual price:', actual_price['Adj Close'][21])"
   ]
  },
  {
   "cell_type": "markdown",
   "metadata": {
    "created_in_deepnote_cell": true,
    "deepnote_cell_type": "markdown",
    "tags": []
   },
   "source": [
    "<a style='text-decoration:none;line-height:16px;display:flex;color:#5B5B62;padding:10px;justify-content:end;' href='https://deepnote.com?utm_source=created-in-deepnote-cell&projectId=2e251de5-0dc4-4401-98b7-759471e83f8e' target=\"_blank\">\n",
    "<img alt='Created in deepnote.com' style='display:inline;max-height:16px;margin:0px;margin-right:7.5px;' src='data:image/svg+xml;base64,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' > </img>\n",
    "Created in <span style='font-weight:600;margin-left:4px;'>Deepnote</span></a>"
   ]
  }
 ],
 "metadata": {
  "deepnote": {
   "is_reactive": false
  },
  "deepnote_execution_queue": [],
  "deepnote_notebook_id": "692c7334-9855-4be4-adc2-202d3699c4f1",
  "kernelspec": {
   "display_name": "Python 3",
   "language": "python",
   "name": "python3"
  },
  "language_info": {
   "codemirror_mode": {
    "name": "ipython",
    "version": 3
   },
   "file_extension": ".py",
   "mimetype": "text/x-python",
   "name": "python",
   "nbconvert_exporter": "python",
   "pygments_lexer": "ipython3",
   "version": "3.8.8"
  }
 },
 "nbformat": 4,
 "nbformat_minor": 2
}
