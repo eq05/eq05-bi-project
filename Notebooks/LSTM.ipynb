{
 "cells": [
  {
   "cell_type": "markdown",
   "source": "# LSTM\nModificar las variables para evaluar otra acción o la fecha.\n",
   "metadata": {
    "cell_id": "0209da5a-fae4-4988-a0ce-63344034c1e6",
    "tags": [],
    "deepnote_cell_type": "markdown"
   }
  },
  {
   "cell_type": "code",
   "metadata": {
    "cell_id": "2f63f7ed-cff0-4bc3-8d6d-c52a40ffc7f3",
    "tags": [],
    "deepnote_to_be_reexecuted": false,
    "source_hash": "813b49b3",
    "execution_start": 1642743295593,
    "execution_millis": 46,
    "deepnote_cell_type": "code"
   },
   "source": "# --------------------------------\n# ----- Variables del modelo -----\n# --------------------------------\nACCION = 'AAPL'\nFECHA_INICIO = '2016-01-01'\nFECHA_FINAL  = '2017-12-01'",
   "execution_count": null,
   "outputs": []
  },
  {
   "cell_type": "code",
   "metadata": {
    "cell_id": "2982801e-e636-4e8f-adc7-64011861f6dc",
    "tags": [],
    "deepnote_to_be_reexecuted": false,
    "source_hash": "fb01b45e",
    "execution_start": 1642743295639,
    "execution_millis": 7740,
    "deepnote_cell_type": "code"
   },
   "source": "# Importaciones generales\nimport numpy as np\nnp.random.seed(4)\nimport matplotlib.pyplot as plt\nimport pandas as pd\n\n# Para cargar los datos de Yahoo Finance \nfrom pandas_datareader.data import DataReader\n\n# Para los modelos\nfrom sklearn.preprocessing import MinMaxScaler\nfrom tensorflow.keras.models import Sequential\nfrom tensorflow.keras.layers import Dense, LSTM",
   "execution_count": null,
   "outputs": []
  },
  {
   "cell_type": "code",
   "metadata": {
    "cell_id": "ba6d010b-b5d0-4d34-af32-a202f8bd222d",
    "tags": [],
    "deepnote_to_be_reexecuted": false,
    "source_hash": "a52d250",
    "execution_start": 1642743303383,
    "execution_millis": 4,
    "deepnote_cell_type": "code"
   },
   "source": "# Utilidades\n\ndef graficar_predicciones(real, prediccion):\n    plt.plot(real[0:len(prediccion)],color='red', label='Valor real de la acción')\n    plt.plot(prediccion, color='blue', label='Predicción de la acción')\n    plt.ylim(1.1 * np.min(prediccion)/2, 1.1 * np.max(prediccion))\n    plt.xlabel('Tiempo')\n    plt.ylabel('Valor de la acción')\n    plt.legend()\n    plt.show()",
   "execution_count": null,
   "outputs": []
  },
  {
   "cell_type": "code",
   "metadata": {
    "cell_id": "729c29bb-8e61-4e55-9b28-b56c50dbc85f",
    "tags": [],
    "deepnote_to_be_reexecuted": false,
    "source_hash": "5da145c4",
    "execution_start": 1642743303396,
    "execution_millis": 560,
    "deepnote_cell_type": "code"
   },
   "source": "dataset = DataReader(\n    ACCION, \n    data_source='yahoo', \n    start=FECHA_INICIO, \n    end=FECHA_FINAL\n)\n\ndataset.head()",
   "execution_count": null,
   "outputs": [
    {
     "output_type": "execute_result",
     "execution_count": 4,
     "data": {
      "application/vnd.deepnote.dataframe.v3+json": {
       "column_count": 6,
       "row_count": 5,
       "columns": [
        {
         "name": "High",
         "dtype": "float64",
         "stats": {
          "unique_count": 5,
          "nan_count": 0,
          "min": "24.77750015258789",
          "max": "26.462499618530273",
          "histogram": [
           {
            "bin_start": 24.77750015258789,
            "bin_end": 24.94600009918213,
            "count": 1
           },
           {
            "bin_start": 24.94600009918213,
            "bin_end": 25.114500045776367,
            "count": 1
           },
           {
            "bin_start": 25.114500045776367,
            "bin_end": 25.282999992370605,
            "count": 0
           },
           {
            "bin_start": 25.282999992370605,
            "bin_end": 25.451499938964844,
            "count": 0
           },
           {
            "bin_start": 25.451499938964844,
            "bin_end": 25.619999885559082,
            "count": 1
           },
           {
            "bin_start": 25.619999885559082,
            "bin_end": 25.78849983215332,
            "count": 0
           },
           {
            "bin_start": 25.78849983215332,
            "bin_end": 25.95699977874756,
            "count": 0
           },
           {
            "bin_start": 25.95699977874756,
            "bin_end": 26.125499725341797,
            "count": 0
           },
           {
            "bin_start": 26.125499725341797,
            "bin_end": 26.293999671936035,
            "count": 0
           },
           {
            "bin_start": 26.293999671936035,
            "bin_end": 26.462499618530273,
            "count": 2
           }
          ]
         }
        },
        {
         "name": "Low",
         "dtype": "float64",
         "stats": {
          "unique_count": 5,
          "nan_count": 0,
          "min": "24.107500076293945",
          "max": "25.602500915527344",
          "histogram": [
           {
            "bin_start": 24.107500076293945,
            "bin_end": 24.257000160217284,
            "count": 2
           },
           {
            "bin_start": 24.257000160217284,
            "bin_end": 24.406500244140624,
            "count": 0
           },
           {
            "bin_start": 24.406500244140624,
            "bin_end": 24.556000328063966,
            "count": 0
           },
           {
            "bin_start": 24.556000328063966,
            "bin_end": 24.705500411987305,
            "count": 0
           },
           {
            "bin_start": 24.705500411987305,
            "bin_end": 24.855000495910645,
            "count": 0
           },
           {
            "bin_start": 24.855000495910645,
            "bin_end": 25.004500579833984,
            "count": 1
           },
           {
            "bin_start": 25.004500579833984,
            "bin_end": 25.154000663757323,
            "count": 0
           },
           {
            "bin_start": 25.154000663757323,
            "bin_end": 25.303500747680665,
            "count": 0
           },
           {
            "bin_start": 25.303500747680665,
            "bin_end": 25.453000831604005,
            "count": 0
           },
           {
            "bin_start": 25.453000831604005,
            "bin_end": 25.602500915527344,
            "count": 2
           }
          ]
         }
        },
        {
         "name": "Open",
         "dtype": "float64",
         "stats": {
          "unique_count": 5,
          "nan_count": 0,
          "min": "24.637500762939453",
          "max": "26.4375",
          "histogram": [
           {
            "bin_start": 24.637500762939453,
            "bin_end": 24.81750068664551,
            "count": 2
           },
           {
            "bin_start": 24.81750068664551,
            "bin_end": 24.997500610351562,
            "count": 0
           },
           {
            "bin_start": 24.997500610351562,
            "bin_end": 25.177500534057618,
            "count": 1
           },
           {
            "bin_start": 25.177500534057618,
            "bin_end": 25.35750045776367,
            "count": 0
           },
           {
            "bin_start": 25.35750045776367,
            "bin_end": 25.537500381469727,
            "count": 0
           },
           {
            "bin_start": 25.537500381469727,
            "bin_end": 25.717500305175783,
            "count": 1
           },
           {
            "bin_start": 25.717500305175783,
            "bin_end": 25.897500228881835,
            "count": 0
           },
           {
            "bin_start": 25.897500228881835,
            "bin_end": 26.07750015258789,
            "count": 0
           },
           {
            "bin_start": 26.07750015258789,
            "bin_end": 26.257500076293944,
            "count": 0
           },
           {
            "bin_start": 26.257500076293944,
            "bin_end": 26.4375,
            "count": 1
           }
          ]
         }
        },
        {
         "name": "Close",
         "dtype": "float64",
         "stats": {
          "unique_count": 5,
          "nan_count": 0,
          "min": "24.112499237060547",
          "max": "26.337499618530273",
          "histogram": [
           {
            "bin_start": 24.112499237060547,
            "bin_end": 24.33499927520752,
            "count": 2
           },
           {
            "bin_start": 24.33499927520752,
            "bin_end": 24.55749931335449,
            "count": 0
           },
           {
            "bin_start": 24.55749931335449,
            "bin_end": 24.779999351501466,
            "count": 0
           },
           {
            "bin_start": 24.779999351501466,
            "bin_end": 25.002499389648438,
            "count": 0
           },
           {
            "bin_start": 25.002499389648438,
            "bin_end": 25.22499942779541,
            "count": 1
           },
           {
            "bin_start": 25.22499942779541,
            "bin_end": 25.447499465942382,
            "count": 0
           },
           {
            "bin_start": 25.447499465942382,
            "bin_end": 25.669999504089354,
            "count": 0
           },
           {
            "bin_start": 25.669999504089354,
            "bin_end": 25.89249954223633,
            "count": 1
           },
           {
            "bin_start": 25.89249954223633,
            "bin_end": 26.1149995803833,
            "count": 0
           },
           {
            "bin_start": 26.1149995803833,
            "bin_end": 26.337499618530273,
            "count": 1
           }
          ]
         }
        },
        {
         "name": "Volume",
         "dtype": "float64",
         "stats": {
          "unique_count": 5,
          "nan_count": 0,
          "min": "223164000.0",
          "max": "324377600.0",
          "histogram": [
           {
            "bin_start": 223164000,
            "bin_end": 233285360,
            "count": 1
           },
           {
            "bin_start": 233285360,
            "bin_end": 243406720,
            "count": 0
           },
           {
            "bin_start": 243406720,
            "bin_end": 253528080,
            "count": 0
           },
           {
            "bin_start": 253528080,
            "bin_end": 263649440,
            "count": 0
           },
           {
            "bin_start": 263649440,
            "bin_end": 273770800,
            "count": 1
           },
           {
            "bin_start": 273770800,
            "bin_end": 283892160,
            "count": 2
           },
           {
            "bin_start": 283892160,
            "bin_end": 294013520,
            "count": 0
           },
           {
            "bin_start": 294013520,
            "bin_end": 304134880,
            "count": 0
           },
           {
            "bin_start": 304134880,
            "bin_end": 314256240,
            "count": 0
           },
           {
            "bin_start": 314256240,
            "bin_end": 324377600,
            "count": 1
           }
          ]
         }
        },
        {
         "name": "Adj Close",
         "dtype": "float64",
         "stats": {
          "unique_count": 5,
          "nan_count": 0,
          "min": "22.202667236328125",
          "max": "24.251436233520508",
          "histogram": [
           {
            "bin_start": 22.202667236328125,
            "bin_end": 22.407544136047363,
            "count": 2
           },
           {
            "bin_start": 22.407544136047363,
            "bin_end": 22.6124210357666,
            "count": 0
           },
           {
            "bin_start": 22.6124210357666,
            "bin_end": 22.81729793548584,
            "count": 0
           },
           {
            "bin_start": 22.81729793548584,
            "bin_end": 23.022174835205078,
            "count": 0
           },
           {
            "bin_start": 23.022174835205078,
            "bin_end": 23.227051734924316,
            "count": 1
           },
           {
            "bin_start": 23.227051734924316,
            "bin_end": 23.431928634643555,
            "count": 0
           },
           {
            "bin_start": 23.431928634643555,
            "bin_end": 23.636805534362793,
            "count": 0
           },
           {
            "bin_start": 23.636805534362793,
            "bin_end": 23.84168243408203,
            "count": 1
           },
           {
            "bin_start": 23.84168243408203,
            "bin_end": 24.04655933380127,
            "count": 0
           },
           {
            "bin_start": 24.04655933380127,
            "bin_end": 24.251436233520508,
            "count": 1
           }
          ]
         }
        },
        {
         "name": "_deepnote_index_column",
         "dtype": "datetime64[ns]"
        }
       ],
       "rows": [
        {
         "High": 26.342500686645508,
         "Low": 25.5,
         "Open": 25.65250015258789,
         "Close": 26.337499618530273,
         "Volume": 270597600,
         "Adj Close": 24.251436233520508,
         "_deepnote_index_column": "2016-01-04T00:00:00.000000"
        },
        {
         "High": 26.462499618530273,
         "Low": 25.602500915527344,
         "Open": 26.4375,
         "Close": 25.677499771118164,
         "Volume": 223164000,
         "Adj Close": 23.64371109008789,
         "_deepnote_index_column": "2016-01-05T00:00:00.000000"
        },
        {
         "High": 25.592500686645508,
         "Low": 24.967500686645508,
         "Open": 25.139999389648438,
         "Close": 25.174999237060547,
         "Volume": 273829600,
         "Adj Close": 23.181015014648438,
         "_deepnote_index_column": "2016-01-06T00:00:00.000000"
        },
        {
         "High": 25.032499313354492,
         "Low": 24.107500076293945,
         "Open": 24.670000076293945,
         "Close": 24.112499237060547,
         "Volume": 324377600,
         "Adj Close": 22.202667236328125,
         "_deepnote_index_column": "2016-01-07T00:00:00.000000"
        },
        {
         "High": 24.77750015258789,
         "Low": 24.190000534057617,
         "Open": 24.637500762939453,
         "Close": 24.239999771118164,
         "Volume": 283192000,
         "Adj Close": 22.320066452026367,
         "_deepnote_index_column": "2016-01-08T00:00:00.000000"
        }
       ]
      },
      "text/plain": "                 High        Low       Open      Close       Volume  Adj Close\nDate                                                                          \n2016-01-04  26.342501  25.500000  25.652500  26.337500  270597600.0  24.251436\n2016-01-05  26.462500  25.602501  26.437500  25.677500  223164000.0  23.643711\n2016-01-06  25.592501  24.967501  25.139999  25.174999  273829600.0  23.181015\n2016-01-07  25.032499  24.107500  24.670000  24.112499  324377600.0  22.202667\n2016-01-08  24.777500  24.190001  24.637501  24.240000  283192000.0  22.320066",
      "text/html": "<div>\n<style scoped>\n    .dataframe tbody tr th:only-of-type {\n        vertical-align: middle;\n    }\n\n    .dataframe tbody tr th {\n        vertical-align: top;\n    }\n\n    .dataframe thead th {\n        text-align: right;\n    }\n</style>\n<table border=\"1\" class=\"dataframe\">\n  <thead>\n    <tr style=\"text-align: right;\">\n      <th></th>\n      <th>High</th>\n      <th>Low</th>\n      <th>Open</th>\n      <th>Close</th>\n      <th>Volume</th>\n      <th>Adj Close</th>\n    </tr>\n    <tr>\n      <th>Date</th>\n      <th></th>\n      <th></th>\n      <th></th>\n      <th></th>\n      <th></th>\n      <th></th>\n    </tr>\n  </thead>\n  <tbody>\n    <tr>\n      <th>2016-01-04</th>\n      <td>26.342501</td>\n      <td>25.500000</td>\n      <td>25.652500</td>\n      <td>26.337500</td>\n      <td>270597600.0</td>\n      <td>24.251436</td>\n    </tr>\n    <tr>\n      <th>2016-01-05</th>\n      <td>26.462500</td>\n      <td>25.602501</td>\n      <td>26.437500</td>\n      <td>25.677500</td>\n      <td>223164000.0</td>\n      <td>23.643711</td>\n    </tr>\n    <tr>\n      <th>2016-01-06</th>\n      <td>25.592501</td>\n      <td>24.967501</td>\n      <td>25.139999</td>\n      <td>25.174999</td>\n      <td>273829600.0</td>\n      <td>23.181015</td>\n    </tr>\n    <tr>\n      <th>2016-01-07</th>\n      <td>25.032499</td>\n      <td>24.107500</td>\n      <td>24.670000</td>\n      <td>24.112499</td>\n      <td>324377600.0</td>\n      <td>22.202667</td>\n    </tr>\n    <tr>\n      <th>2016-01-08</th>\n      <td>24.777500</td>\n      <td>24.190001</td>\n      <td>24.637501</td>\n      <td>24.240000</td>\n      <td>283192000.0</td>\n      <td>22.320066</td>\n    </tr>\n  </tbody>\n</table>\n</div>"
     },
     "metadata": {}
    }
   ]
  },
  {
   "cell_type": "code",
   "metadata": {
    "tags": [],
    "cell_id": "47ba8ec4-e0c8-49e8-865e-594fdecd97e0",
    "deepnote_to_be_reexecuted": false,
    "source_hash": "7e93e0f8",
    "execution_start": 1642743303958,
    "execution_millis": 8,
    "deepnote_cell_type": "code"
   },
   "source": "set_entrenamiento = dataset[:'2016'].iloc[:,0:1]\nset_validacion = dataset['2017':].iloc[:,0:1]",
   "execution_count": null,
   "outputs": []
  },
  {
   "cell_type": "code",
   "metadata": {
    "cell_id": "375ee575-e912-463d-96d3-66b0359f323f",
    "tags": [],
    "deepnote_to_be_reexecuted": false,
    "source_hash": "b236ec3",
    "execution_start": 1642743303970,
    "execution_millis": 586,
    "deepnote_output_heights": [
     265
    ],
    "deepnote_cell_type": "code"
   },
   "source": "set_entrenamiento['High'].plot(legend=True)\nset_validacion['High'].plot(legend=True)\nplt.legend(['Entrenamiento (2006-2016)', 'Validación (2017)'])\nplt.show()",
   "execution_count": null,
   "outputs": [
    {
     "data": {
      "text/plain": "<Figure size 432x288 with 1 Axes>",
      "image/png": "[encoded data removed]"
     },
     "metadata": {
      "needs_background": "light",
      "image/png": {
       "width": 376,
       "height": 263
      }
     },
     "output_type": "display_data"
    }
   ]
  },
  {
   "cell_type": "code",
   "metadata": {
    "cell_id": "bf652aea-6165-4912-87f2-622b130f8f19",
    "tags": [],
    "deepnote_to_be_reexecuted": false,
    "source_hash": "97050e7c",
    "execution_start": 1642743304348,
    "execution_millis": 4,
    "deepnote_output_heights": [
     343.640625
    ],
    "deepnote_cell_type": "code"
   },
   "source": "sc = MinMaxScaler(feature_range=(0,1))\nset_entrenamiento_escalado = sc.fit_transform(set_entrenamiento)",
   "execution_count": null,
   "outputs": []
  },
  {
   "cell_type": "code",
   "metadata": {
    "cell_id": "5a462ae0-d299-42e2-910e-2a99c8a87bfc",
    "tags": [],
    "deepnote_to_be_reexecuted": false,
    "source_hash": "1a5427b5",
    "execution_start": 1642743304354,
    "execution_millis": 8,
    "deepnote_output_heights": [
     21.1875
    ],
    "deepnote_cell_type": "code"
   },
   "source": "# La red LSTM tendrá como entrada \"time_step\" datos consecutivos, y como salida 1 dato (la predicción a\n# partir de esos \"time_step\" datos). Se conformará de esta forma el set de entrenamiento\ntime_step = 60\nX_train = []\nY_train = []\nm = len(set_entrenamiento_escalado)",
   "execution_count": null,
   "outputs": []
  },
  {
   "cell_type": "code",
   "metadata": {
    "cell_id": "d5c47bcf-f743-4f54-bda6-0c1d23ce6bc4",
    "tags": [],
    "deepnote_to_be_reexecuted": false,
    "source_hash": "c677dbe9",
    "execution_start": 1642743304365,
    "execution_millis": 4,
    "deepnote_cell_type": "code"
   },
   "source": "for i in range(time_step,m):\n    # X: bloques de \"time_step\" datos: 0-time_step, 1-time_step+1, 2-time_step+2, etc\n    X_train.append(set_entrenamiento_escalado[i-time_step:i,0])\n\n    # Y: el siguiente dato\n    Y_train.append(set_entrenamiento_escalado[i,0])\nX_train, Y_train = np.array(X_train), np.array(Y_train)",
   "execution_count": null,
   "outputs": []
  },
  {
   "cell_type": "code",
   "metadata": {
    "cell_id": "26a76690-c45d-44ec-8f43-2b9c1ae6a2aa",
    "tags": [],
    "deepnote_to_be_reexecuted": false,
    "source_hash": "953c5aa1",
    "execution_start": 1642743304375,
    "execution_millis": 3,
    "deepnote_cell_type": "code"
   },
   "source": "# Reshape X_train para que se ajuste al modelo en Keras\nX_train = np.reshape(X_train, (X_train.shape[0], X_train.shape[1], 1))",
   "execution_count": null,
   "outputs": []
  },
  {
   "cell_type": "code",
   "metadata": {
    "cell_id": "bfeb7ae1-9f28-4405-aec1-1177cafdab84",
    "tags": [],
    "deepnote_to_be_reexecuted": false,
    "source_hash": "775ef8e3",
    "execution_start": 1642743304381,
    "execution_millis": 2,
    "deepnote_cell_type": "code"
   },
   "source": "#\n# Red LSTM\n#\ndim_entrada = (X_train.shape[1],1)\ndim_salida = 1\nna = 50",
   "execution_count": null,
   "outputs": []
  },
  {
   "cell_type": "code",
   "metadata": {
    "cell_id": "6a55e3a4-ce1a-49b6-8b92-6b15ee156fdf",
    "tags": [],
    "deepnote_to_be_reexecuted": false,
    "source_hash": "a0cccbd9",
    "execution_start": 1642743304426,
    "execution_millis": 4934,
    "deepnote_output_heights": [
     null,
     21.1875
    ],
    "deepnote_cell_type": "code"
   },
   "source": "modelo = Sequential()\nmodelo.add(LSTM(units=na, input_shape=dim_entrada))\nmodelo.add(Dense(units=dim_salida))\nmodelo.compile(optimizer='rmsprop', loss='mse')\nmodelo.fit(X_train,Y_train,epochs=20,batch_size=32)",
   "execution_count": null,
   "outputs": [
    {
     "name": "stdout",
     "text": "Epoch 1/20\n6/6 [==============================] - 2s 19ms/step - loss: 0.2331\nEpoch 2/20\n6/6 [==============================] - 0s 17ms/step - loss: 0.0264\nEpoch 3/20\n6/6 [==============================] - 0s 20ms/step - loss: 0.0263\nEpoch 4/20\n6/6 [==============================] - 0s 19ms/step - loss: 0.0231\nEpoch 5/20\n6/6 [==============================] - 0s 18ms/step - loss: 0.0192\nEpoch 6/20\n6/6 [==============================] - 0s 20ms/step - loss: 0.0149\nEpoch 7/20\n6/6 [==============================] - 0s 22ms/step - loss: 0.0147\nEpoch 8/20\n6/6 [==============================] - 0s 35ms/step - loss: 0.0137\nEpoch 9/20\n6/6 [==============================] - 0s 30ms/step - loss: 0.0144\nEpoch 10/20\n6/6 [==============================] - 0s 33ms/step - loss: 0.0147\nEpoch 11/20\n6/6 [==============================] - 0s 31ms/step - loss: 0.0122\nEpoch 12/20\n6/6 [==============================] - 0s 31ms/step - loss: 0.0126\nEpoch 13/20\n6/6 [==============================] - 0s 40ms/step - loss: 0.0117\nEpoch 14/20\n6/6 [==============================] - 0s 19ms/step - loss: 0.0111\nEpoch 15/20\n6/6 [==============================] - 0s 23ms/step - loss: 0.0089\nEpoch 16/20\n6/6 [==============================] - 0s 19ms/step - loss: 0.0081\nEpoch 17/20\n6/6 [==============================] - 0s 20ms/step - loss: 0.0090\nEpoch 18/20\n6/6 [==============================] - 0s 20ms/step - loss: 0.0072\nEpoch 19/20\n6/6 [==============================] - 0s 19ms/step - loss: 0.0066\nEpoch 20/20\n6/6 [==============================] - 0s 19ms/step - loss: 0.0062\n",
     "output_type": "stream"
    },
    {
     "output_type": "execute_result",
     "execution_count": 12,
     "data": {
      "text/plain": "<tensorflow.python.keras.callbacks.History at 0x7f35f21c2150>"
     },
     "metadata": {}
    }
   ]
  },
  {
   "cell_type": "code",
   "metadata": {
    "cell_id": "7e644136-79a1-4a95-ae56-e4dd16b04e31",
    "tags": [],
    "deepnote_to_be_reexecuted": false,
    "source_hash": "ccf2f914",
    "execution_start": 1642743309285,
    "execution_millis": 417,
    "deepnote_cell_type": "code"
   },
   "source": "#\n# Validación (predicción del valor de las acciones)\n#\nx_test = set_validacion.values\nx_test = sc.transform(x_test)\nprint(x_test)\nX_test = []\nfor i in range(time_step,len(x_test)):\n    X_test.append(x_test[i-time_step:i,0])\nX_test = np.array(X_test)\nX_test = np.reshape(X_test, (X_test.shape[0],X_test.shape[1],1))\n\nprediccion = modelo.predict(X_test)\nprediccion = sc.inverse_transform(prediccion)",
   "execution_count": null,
   "outputs": [
    {
     "name": "stdout",
     "text": "[[0.91265728]\n [0.91931902]\n [0.93227233]\n [0.98038495]\n [1.02738704]\n [1.02553644]\n [1.04589185]\n [1.02257589]\n [1.03441895]\n [1.05736474]\n [1.06698732]\n [1.05181324]\n [1.06513672]\n [1.07846021]\n [1.05218341]\n [1.12620265]\n [1.13878606]\n [1.13545505]\n [1.10880808]\n [1.09992585]\n [1.43671359]\n [1.39600279]\n [1.38860097]\n [1.43708348]\n [1.49592864]\n [1.50074007]\n [1.50925212]\n [1.52738704]\n [1.55995568]\n [1.60695749]\n [1.65062913]\n [1.63693519]\n [1.63434481]\n [1.66839359]\n [1.68208696]\n [1.69541045]\n [1.66506286]\n [1.69393031]\n [1.69393031]\n [1.79422606]\n [1.79903749]\n [1.78238327]\n [1.78016279]\n [1.78793449]\n [1.78127303]\n [1.74389296]\n [1.76498871]\n [1.76757909]\n [1.77572125]\n [1.81643205]\n [1.82642481]\n [1.82568446]\n [1.84418927]\n [1.89230188]\n [1.84789045]\n [1.8471501 ]\n [1.85307178]\n [1.83382662]\n [1.93819344]\n [1.95484822]\n [1.95521812]\n [1.94670606]\n [1.94115428]\n [1.96965184]\n [1.9907476 ]\n [1.95595847]\n [1.94337477]\n [1.93227233]\n [1.91265728]\n [1.86824529]\n [1.87675791]\n [1.8582531 ]\n [1.86417421]\n [1.86269407]\n [1.89674285]\n [1.88786034]\n [1.93486271]\n [1.97002174]\n [1.9589193 ]\n [1.94263498]\n [1.9478163 ]\n [2.05514397]\n [2.0880825 ]\n [2.06587707]\n [2.05292348]\n [2.12102104]\n [2.29570648]\n [2.33937812]\n [2.30458899]\n [2.30940042]\n [2.39637268]\n [2.40488473]\n [2.38304919]\n [2.32790523]\n [2.28238299]\n [2.30606912]\n [2.32827512]\n [2.3401179 ]\n [2.31310104]\n [2.31976307]\n [2.31569198]\n [2.32272334]\n [2.31310104]\n [2.2820131 ]\n [2.3604733 ]\n [2.32346369]\n [2.37379679]\n [2.38008836]\n [2.36380403]\n [2.35085101]\n [2.01406327]\n [2.06439637]\n [2.06624697]\n [1.95447776]\n [1.95521812]\n [2.03811986]\n [2.04293073]\n [2.01332348]\n [2.03663916]\n [2.05366383]\n [2.09511442]\n [2.01665421]\n [2.01480362]\n [1.97853435]\n [1.97224279]\n [1.98482592]\n [1.96595066]\n [1.9182085 ]\n [1.96447052]\n [2.00888195]\n [2.00518132]\n [2.017394  ]\n [2.10288669]\n [2.13397463]\n [2.19207944]\n [2.16358244]\n [2.21132459]\n [2.22316794]\n [2.17505533]\n [2.24907456]\n [2.3008878 ]\n [2.30421853]\n [2.30643958]\n [2.16728306]\n [2.17098425]\n [2.16691317]\n [2.51961477]\n [2.42561059]\n [2.43264194]\n [2.48889672]\n [2.59659484]\n [2.57586954]\n [2.52886717]\n [2.47594369]\n [2.53663944]\n [2.61028822]\n [2.62176111]\n [2.55514425]\n [2.51036237]\n [2.45077686]\n [2.52886717]\n [2.54626174]\n [2.55625449]\n [2.54959247]\n [2.60288641]\n [2.644337  ]\n [2.67283456]\n [2.6961508 ]\n [2.71169477]\n [2.68615804]\n [2.63952613]\n [2.61176892]\n [2.57142801]\n [2.604737  ]\n [2.6754255 ]\n [2.52738704]\n [2.50666118]\n [2.56476655]\n [2.54737198]\n [2.52035512]\n [2.46447024]\n [2.3734269 ]\n [2.24278299]\n [2.22649867]\n [2.30384864]\n [2.33345644]\n [2.31717212]\n [2.3116209 ]\n [2.32346369]\n [2.34714982]\n [2.30162815]\n [2.36010341]\n [2.36195401]\n [2.40784557]\n [2.45484794]\n [2.41709797]\n [2.4315317 ]\n [2.42820097]\n [2.52886717]\n [2.56106536]\n [2.55514425]\n [2.42079916]\n [2.44559554]\n [2.44337505]\n [2.43338229]\n [2.43819373]\n [2.44855637]\n [2.66210202]\n [2.82753505]\n [2.88600975]\n [2.89674285]\n [2.84344891]\n [3.0566241 ]\n [3.08364153]\n [3.09326383]\n [3.12990355]\n [3.12472223]\n [3.09807526]\n [3.06550661]\n [3.02775665]\n [2.91080669]\n [2.96817114]\n [2.95040668]\n [2.91968863]\n [3.03589881]\n [3.08401142]\n [3.10251623]\n [3.08697226]\n [3.07919999]\n [3.00703135]\n [2.9781639 ]\n [2.96076933]]\n/shared-libs/python3.7/py/lib/python3.7/site-packages/sklearn/base.py:446: UserWarning: X does not have valid feature names, but MinMaxScaler was fitted with feature names\n  \"X does not have valid feature names, but\"\n",
     "output_type": "stream"
    }
   ]
  },
  {
   "cell_type": "code",
   "metadata": {
    "cell_id": "f0f7b8c3-3962-4e90-8a56-be739079674d",
    "tags": [],
    "deepnote_to_be_reexecuted": false,
    "source_hash": "ecd09d5",
    "execution_start": 1642743309706,
    "execution_millis": 261,
    "deepnote_output_heights": [
     264
    ],
    "deepnote_cell_type": "code"
   },
   "source": "# Graficar resultados\ngraficar_predicciones(set_validacion.values,prediccion)",
   "execution_count": null,
   "outputs": [
    {
     "data": {
      "text/plain": "<Figure size 432x288 with 1 Axes>",
      "image/png": "[encoded data removed]"
     },
     "metadata": {
      "needs_background": "light",
      "image/png": {
       "width": 384,
       "height": 262
      }
     },
     "output_type": "display_data"
    }
   ]
  },
  {
   "cell_type": "code",
   "metadata": {
    "cell_id": "1f7c8d7a-ba9b-437c-974a-81eacb118215",
    "tags": [],
    "deepnote_to_be_reexecuted": false,
    "source_hash": "90628f01",
    "execution_start": 1642743310015,
    "execution_millis": 3,
    "deepnote_output_heights": [
     155.59375
    ],
    "deepnote_cell_type": "code"
   },
   "source": "set_validacion.index",
   "execution_count": null,
   "outputs": [
    {
     "output_type": "execute_result",
     "execution_count": 15,
     "data": {
      "text/plain": "DatetimeIndex(['2017-01-03', '2017-01-04', '2017-01-05', '2017-01-06',\n               '2017-01-09', '2017-01-10', '2017-01-11', '2017-01-12',\n               '2017-01-13', '2017-01-17',\n               ...\n               '2017-11-17', '2017-11-20', '2017-11-21', '2017-11-22',\n               '2017-11-24', '2017-11-27', '2017-11-28', '2017-11-29',\n               '2017-11-30', '2017-12-01'],\n              dtype='datetime64[ns]', name='Date', length=232, freq=None)"
     },
     "metadata": {}
    }
   ]
  },
  {
   "cell_type": "code",
   "metadata": {
    "cell_id": "a85d23ec-55f2-4c2e-834d-127da53b3a8c",
    "tags": [],
    "deepnote_to_be_reexecuted": false,
    "source_hash": "48842195",
    "execution_start": 1642743310016,
    "execution_millis": 7358418,
    "deepnote_cell_type": "code"
   },
   "source": "# -------------------------------------------------------------------------------------------------------\n# -------------------------------------------------------------------------------------------------------\n# -------------------------------------------------------------------------------------------------------\n# -------------------------------------------------------------------------------------------------------\n# -------------------------------------------------------------------------------------------------------\n# -------------------------------------------------------------------------------------------------------",
   "execution_count": null,
   "outputs": []
  },
  {
   "cell_type": "markdown",
   "source": "<a style='text-decoration:none;line-height:16px;display:flex;color:#5B5B62;padding:10px;justify-content:end;' href='https://deepnote.com?utm_source=created-in-deepnote-cell&projectId=2e251de5-0dc4-4401-98b7-759471e83f8e' target=\"_blank\">\n<img alt='Created in deepnote.com' style='display:inline;max-height:16px;margin:0px;margin-right:7.5px;' src='data:image/svg+xml;base64,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' > </img>\nCreated in <span style='font-weight:600;margin-left:4px;'>Deepnote</span></a>",
   "metadata": {
    "tags": [],
    "created_in_deepnote_cell": true,
    "deepnote_cell_type": "markdown"
   }
  }
 ],
 "nbformat": 4,
 "nbformat_minor": 2,
 "metadata": {
  "orig_nbformat": 2,
  "deepnote": {
   "is_reactive": false
  },
  "deepnote_notebook_id": "8b93b72c-1b73-41bf-9575-01ad8c458e9a",
  "deepnote_execution_queue": []
 }
}