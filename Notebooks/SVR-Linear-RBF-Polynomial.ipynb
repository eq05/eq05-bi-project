{
 "cells": [
  {
   "cell_type": "markdown",
   "source": "# Linear Model - RBF Model - Polynomial Model\nModificar las variables para evaluar otra acción o la fecha.",
   "metadata": {
    "cell_id": "d1161d23-dbee-45d0-8c54-727c3e408c5f",
    "tags": [],
    "deepnote_to_be_reexecuted": false,
    "source_hash": "a1edc2b0",
    "execution_start": 1642568800534,
    "execution_millis": 2800,
    "deepnote_cell_type": "markdown"
   }
  },
  {
   "cell_type": "code",
   "metadata": {
    "cell_id": "313fc61e-f58a-4897-a53c-2b8a13b90106",
    "tags": [],
    "deepnote_to_be_reexecuted": false,
    "source_hash": "84e8791f",
    "execution_start": 1642644939704,
    "execution_millis": 42,
    "deepnote_cell_type": "code"
   },
   "source": "# --------------------------------\n# ----- Variables del modelo -----\n# --------------------------------\nACCION = 'AAPL'\nFECHA_INICIO = '2019-01-01'\nFECHA_FINAL  = '2019-01-30'",
   "execution_count": null,
   "outputs": []
  },
  {
   "cell_type": "code",
   "metadata": {
    "cell_id": "cd7c0740-f7fb-43cd-a57f-44ec9bd57f04",
    "tags": [],
    "deepnote_to_be_reexecuted": false,
    "source_hash": "4ed9d4de",
    "execution_start": 1642644939747,
    "execution_millis": 1188,
    "deepnote_cell_type": "code"
   },
   "source": "# Importaciones\n\nimport numpy as np\nfrom sklearn.svm import SVR \nimport matplotlib.pyplot as plt \nimport pandas as pd \nfrom pandas_datareader.data import DataReader\n%matplotlib inline",
   "execution_count": null,
   "outputs": []
  },
  {
   "cell_type": "code",
   "metadata": {
    "cell_id": "1c8a9bc4-c925-4736-ba4f-eff6e75fca84",
    "tags": [],
    "deepnote_to_be_reexecuted": false,
    "source_hash": "976aeda5",
    "execution_start": 1642644940942,
    "execution_millis": 656,
    "deepnote_cell_type": "code"
   },
   "source": "# Cargamos el dataset\n\ndataframe = DataReader(\n    ACCION, \n    data_source='yahoo', \n    start=FECHA_INICIO, \n    end=FECHA_FINAL\n)\n\ndataframe[\"Date\"] = dataframe.index\ndataframe.head()",
   "execution_count": null,
   "outputs": [
    {
     "output_type": "execute_result",
     "execution_count": 3,
     "data": {
      "application/vnd.deepnote.dataframe.v3+json": {
       "column_count": 7,
       "row_count": 5,
       "columns": [
        {
         "name": "High",
         "dtype": "float64",
         "stats": {
          "unique_count": 5,
          "nan_count": 0,
          "min": "36.43000030517578",
          "max": "39.712501525878906",
          "histogram": [
           {
            "bin_start": 36.43000030517578,
            "bin_end": 36.7582504272461,
            "count": 1
           },
           {
            "bin_start": 36.7582504272461,
            "bin_end": 37.086500549316405,
            "count": 0
           },
           {
            "bin_start": 37.086500549316405,
            "bin_end": 37.41475067138672,
            "count": 2
           },
           {
            "bin_start": 37.41475067138672,
            "bin_end": 37.74300079345703,
            "count": 0
           },
           {
            "bin_start": 37.74300079345703,
            "bin_end": 38.071250915527344,
            "count": 1
           },
           {
            "bin_start": 38.071250915527344,
            "bin_end": 38.39950103759766,
            "count": 0
           },
           {
            "bin_start": 38.39950103759766,
            "bin_end": 38.72775115966797,
            "count": 0
           },
           {
            "bin_start": 38.72775115966797,
            "bin_end": 39.05600128173828,
            "count": 0
           },
           {
            "bin_start": 39.05600128173828,
            "bin_end": 39.38425140380859,
            "count": 0
           },
           {
            "bin_start": 39.38425140380859,
            "bin_end": 39.712501525878906,
            "count": 1
           }
          ]
         }
        },
        {
         "name": "Low",
         "dtype": "float64",
         "stats": {
          "unique_count": 5,
          "nan_count": 0,
          "min": "35.5",
          "max": "38.557498931884766",
          "histogram": [
           {
            "bin_start": 35.5,
            "bin_end": 35.80574989318848,
            "count": 1
           },
           {
            "bin_start": 35.80574989318848,
            "bin_end": 36.11149978637695,
            "count": 1
           },
           {
            "bin_start": 36.11149978637695,
            "bin_end": 36.41724967956543,
            "count": 0
           },
           {
            "bin_start": 36.41724967956543,
            "bin_end": 36.722999572753906,
            "count": 1
           },
           {
            "bin_start": 36.722999572753906,
            "bin_end": 37.02874946594238,
            "count": 0
           },
           {
            "bin_start": 37.02874946594238,
            "bin_end": 37.33449935913086,
            "count": 1
           },
           {
            "bin_start": 37.33449935913086,
            "bin_end": 37.640249252319336,
            "count": 0
           },
           {
            "bin_start": 37.640249252319336,
            "bin_end": 37.94599914550781,
            "count": 0
           },
           {
            "bin_start": 37.94599914550781,
            "bin_end": 38.25174903869629,
            "count": 0
           },
           {
            "bin_start": 38.25174903869629,
            "bin_end": 38.557498931884766,
            "count": 1
           }
          ]
         }
        },
        {
         "name": "Open",
         "dtype": "float64",
         "stats": {
          "unique_count": 5,
          "nan_count": 0,
          "min": "35.994998931884766",
          "max": "38.72249984741211",
          "histogram": [
           {
            "bin_start": 35.994998931884766,
            "bin_end": 36.2677490234375,
            "count": 2
           },
           {
            "bin_start": 36.2677490234375,
            "bin_end": 36.54049911499023,
            "count": 0
           },
           {
            "bin_start": 36.54049911499023,
            "bin_end": 36.81324920654297,
            "count": 0
           },
           {
            "bin_start": 36.81324920654297,
            "bin_end": 37.0859992980957,
            "count": 0
           },
           {
            "bin_start": 37.0859992980957,
            "bin_end": 37.35874938964844,
            "count": 1
           },
           {
            "bin_start": 37.35874938964844,
            "bin_end": 37.631499481201175,
            "count": 1
           },
           {
            "bin_start": 37.631499481201175,
            "bin_end": 37.904249572753905,
            "count": 0
           },
           {
            "bin_start": 37.904249572753905,
            "bin_end": 38.17699966430664,
            "count": 0
           },
           {
            "bin_start": 38.17699966430664,
            "bin_end": 38.44974975585937,
            "count": 0
           },
           {
            "bin_start": 38.44974975585937,
            "bin_end": 38.72249984741211,
            "count": 1
           }
          ]
         }
        },
        {
         "name": "Close",
         "dtype": "float64",
         "stats": {
          "unique_count": 5,
          "nan_count": 0,
          "min": "35.54750061035156",
          "max": "39.47999954223633",
          "histogram": [
           {
            "bin_start": 35.54750061035156,
            "bin_end": 35.94075050354004,
            "count": 1
           },
           {
            "bin_start": 35.94075050354004,
            "bin_end": 36.33400039672851,
            "count": 0
           },
           {
            "bin_start": 36.33400039672851,
            "bin_end": 36.727250289916995,
            "count": 0
           },
           {
            "bin_start": 36.727250289916995,
            "bin_end": 37.12050018310547,
            "count": 2
           },
           {
            "bin_start": 37.12050018310547,
            "bin_end": 37.513750076293945,
            "count": 0
           },
           {
            "bin_start": 37.513750076293945,
            "bin_end": 37.90699996948242,
            "count": 1
           },
           {
            "bin_start": 37.90699996948242,
            "bin_end": 38.300249862670896,
            "count": 0
           },
           {
            "bin_start": 38.300249862670896,
            "bin_end": 38.69349975585938,
            "count": 0
           },
           {
            "bin_start": 38.69349975585938,
            "bin_end": 39.08674964904785,
            "count": 0
           },
           {
            "bin_start": 39.08674964904785,
            "bin_end": 39.47999954223633,
            "count": 1
           }
          ]
         }
        },
        {
         "name": "Volume",
         "dtype": "int64",
         "stats": {
          "unique_count": 5,
          "nan_count": 0,
          "min": "148158800",
          "max": "365248800",
          "histogram": [
           {
            "bin_start": 148158800,
            "bin_end": 169867800,
            "count": 2
           },
           {
            "bin_start": 169867800,
            "bin_end": 191576800,
            "count": 0
           },
           {
            "bin_start": 191576800,
            "bin_end": 213285800,
            "count": 0
           },
           {
            "bin_start": 213285800,
            "bin_end": 234994800,
            "count": 2
           },
           {
            "bin_start": 234994800,
            "bin_end": 256703800,
            "count": 0
           },
           {
            "bin_start": 256703800,
            "bin_end": 278412800,
            "count": 0
           },
           {
            "bin_start": 278412800,
            "bin_end": 300121800,
            "count": 0
           },
           {
            "bin_start": 300121800,
            "bin_end": 321830800,
            "count": 0
           },
           {
            "bin_start": 321830800,
            "bin_end": 343539800,
            "count": 0
           },
           {
            "bin_start": 343539800,
            "bin_end": 365248800,
            "count": 1
           }
          ]
         }
        },
        {
         "name": "Adj Close",
         "dtype": "float64",
         "stats": {
          "unique_count": 5,
          "nan_count": 0,
          "min": "34.50870895385742",
          "max": "38.3262939453125",
          "histogram": [
           {
            "bin_start": 34.50870895385742,
            "bin_end": 34.89046745300293,
            "count": 1
           },
           {
            "bin_start": 34.89046745300293,
            "bin_end": 35.27222595214844,
            "count": 0
           },
           {
            "bin_start": 35.27222595214844,
            "bin_end": 35.653984451293944,
            "count": 0
           },
           {
            "bin_start": 35.653984451293944,
            "bin_end": 36.035742950439456,
            "count": 2
           },
           {
            "bin_start": 36.035742950439456,
            "bin_end": 36.41750144958496,
            "count": 0
           },
           {
            "bin_start": 36.41750144958496,
            "bin_end": 36.799259948730466,
            "count": 1
           },
           {
            "bin_start": 36.799259948730466,
            "bin_end": 37.18101844787598,
            "count": 0
           },
           {
            "bin_start": 37.18101844787598,
            "bin_end": 37.56277694702148,
            "count": 0
           },
           {
            "bin_start": 37.56277694702148,
            "bin_end": 37.944535446166995,
            "count": 0
           },
           {
            "bin_start": 37.944535446166995,
            "bin_end": 38.3262939453125,
            "count": 1
           }
          ]
         }
        },
        {
         "name": "Date",
         "dtype": "datetime64[ns]",
         "stats": {
          "unique_count": 5,
          "nan_count": 0,
          "min": "2019-01-02 00:00:00",
          "max": "2019-01-08 00:00:00",
          "histogram": [
           {
            "bin_start": 1546387200000000000,
            "bin_end": 1546439040000000000,
            "count": 1
           },
           {
            "bin_start": 1546439040000000000,
            "bin_end": 1546490880000000000,
            "count": 1
           },
           {
            "bin_start": 1546490880000000000,
            "bin_end": 1546542720000000000,
            "count": 0
           },
           {
            "bin_start": 1546542720000000000,
            "bin_end": 1546594560000000000,
            "count": 1
           },
           {
            "bin_start": 1546594560000000000,
            "bin_end": 1546646400000000000,
            "count": 0
           },
           {
            "bin_start": 1546646400000000000,
            "bin_end": 1546698240000000000,
            "count": 0
           },
           {
            "bin_start": 1546698240000000000,
            "bin_end": 1546750080000000000,
            "count": 0
           },
           {
            "bin_start": 1546750080000000000,
            "bin_end": 1546801920000000000,
            "count": 0
           },
           {
            "bin_start": 1546801920000000000,
            "bin_end": 1546853760000000000,
            "count": 1
           },
           {
            "bin_start": 1546853760000000000,
            "bin_end": 1546905600000000000,
            "count": 1
           }
          ]
         }
        },
        {
         "name": "_deepnote_index_column",
         "dtype": "datetime64[ns]"
        }
       ],
       "rows": [
        {
         "High": 39.712501525878906,
         "Low": 38.557498931884766,
         "Open": 38.72249984741211,
         "Close": 39.47999954223633,
         "Volume": 148158800,
         "Adj Close": 38.3262939453125,
         "Date": "2019-01-02T00:00:00.000000",
         "_deepnote_index_column": "2019-01-02T00:00:00.000000"
        },
        {
         "High": 36.43000030517578,
         "Low": 35.5,
         "Open": 35.994998931884766,
         "Close": 35.54750061035156,
         "Volume": 365248800,
         "Adj Close": 34.50870895385742,
         "Date": "2019-01-03T00:00:00.000000",
         "_deepnote_index_column": "2019-01-03T00:00:00.000000"
        },
        {
         "High": 37.13750076293945,
         "Low": 35.95000076293945,
         "Open": 36.13249969482422,
         "Close": 37.064998626708984,
         "Volume": 234428400,
         "Adj Close": 35.981868743896484,
         "Date": "2019-01-04T00:00:00.000000",
         "_deepnote_index_column": "2019-01-04T00:00:00.000000"
        },
        {
         "High": 37.20750045776367,
         "Low": 36.474998474121094,
         "Open": 37.17499923706055,
         "Close": 36.98249816894531,
         "Volume": 219111200,
         "Adj Close": 35.901771545410156,
         "Date": "2019-01-07T00:00:00.000000",
         "_deepnote_index_column": "2019-01-07T00:00:00.000000"
        },
        {
         "High": 37.95500183105469,
         "Low": 37.130001068115234,
         "Open": 37.38999938964844,
         "Close": 37.6875,
         "Volume": 164101200,
         "Adj Close": 36.5861701965332,
         "Date": "2019-01-08T00:00:00.000000",
         "_deepnote_index_column": "2019-01-08T00:00:00.000000"
        }
       ]
      },
      "text/plain": "                 High        Low       Open      Close     Volume  Adj Close  \\\nDate                                                                           \n2019-01-02  39.712502  38.557499  38.722500  39.480000  148158800  38.326294   \n2019-01-03  36.430000  35.500000  35.994999  35.547501  365248800  34.508709   \n2019-01-04  37.137501  35.950001  36.132500  37.064999  234428400  35.981869   \n2019-01-07  37.207500  36.474998  37.174999  36.982498  219111200  35.901772   \n2019-01-08  37.955002  37.130001  37.389999  37.687500  164101200  36.586170   \n\n                 Date  \nDate                   \n2019-01-02 2019-01-02  \n2019-01-03 2019-01-03  \n2019-01-04 2019-01-04  \n2019-01-07 2019-01-07  \n2019-01-08 2019-01-08  ",
      "text/html": "<div>\n<style scoped>\n    .dataframe tbody tr th:only-of-type {\n        vertical-align: middle;\n    }\n\n    .dataframe tbody tr th {\n        vertical-align: top;\n    }\n\n    .dataframe thead th {\n        text-align: right;\n    }\n</style>\n<table border=\"1\" class=\"dataframe\">\n  <thead>\n    <tr style=\"text-align: right;\">\n      <th></th>\n      <th>High</th>\n      <th>Low</th>\n      <th>Open</th>\n      <th>Close</th>\n      <th>Volume</th>\n      <th>Adj Close</th>\n      <th>Date</th>\n    </tr>\n    <tr>\n      <th>Date</th>\n      <th></th>\n      <th></th>\n      <th></th>\n      <th></th>\n      <th></th>\n      <th></th>\n      <th></th>\n    </tr>\n  </thead>\n  <tbody>\n    <tr>\n      <th>2019-01-02</th>\n      <td>39.712502</td>\n      <td>38.557499</td>\n      <td>38.722500</td>\n      <td>39.480000</td>\n      <td>148158800</td>\n      <td>38.326294</td>\n      <td>2019-01-02</td>\n    </tr>\n    <tr>\n      <th>2019-01-03</th>\n      <td>36.430000</td>\n      <td>35.500000</td>\n      <td>35.994999</td>\n      <td>35.547501</td>\n      <td>365248800</td>\n      <td>34.508709</td>\n      <td>2019-01-03</td>\n    </tr>\n    <tr>\n      <th>2019-01-04</th>\n      <td>37.137501</td>\n      <td>35.950001</td>\n      <td>36.132500</td>\n      <td>37.064999</td>\n      <td>234428400</td>\n      <td>35.981869</td>\n      <td>2019-01-04</td>\n    </tr>\n    <tr>\n      <th>2019-01-07</th>\n      <td>37.207500</td>\n      <td>36.474998</td>\n      <td>37.174999</td>\n      <td>36.982498</td>\n      <td>219111200</td>\n      <td>35.901772</td>\n      <td>2019-01-07</td>\n    </tr>\n    <tr>\n      <th>2019-01-08</th>\n      <td>37.955002</td>\n      <td>37.130001</td>\n      <td>37.389999</td>\n      <td>37.687500</td>\n      <td>164101200</td>\n      <td>36.586170</td>\n      <td>2019-01-08</td>\n    </tr>\n  </tbody>\n</table>\n</div>"
     },
     "metadata": {}
    }
   ]
  },
  {
   "cell_type": "code",
   "metadata": {
    "cell_id": "3b04c0b0-ea3d-4365-a210-673f880da2f0",
    "tags": [],
    "deepnote_to_be_reexecuted": false,
    "source_hash": "7273f405",
    "execution_start": 1642644941662,
    "execution_millis": 11,
    "deepnote_output_heights": [
     136.390625
    ],
    "deepnote_cell_type": "code"
   },
   "source": "# Formateamos los datos\n\ndf = pd.DataFrame({\n    \"open\": dataframe['Open'],\n    \"volume\": dataframe['Volume'],\n    \"high\": dataframe['High'],\n    \"low\": dataframe['Low'],\n    \"close\": dataframe['Close'],\n    \"date\": dataframe['Date'].astype(str),\n    \"adjclose\": dataframe['Adj Close'],\n})\ndf.head()",
   "execution_count": null,
   "outputs": [
    {
     "output_type": "execute_result",
     "execution_count": 4,
     "data": {
      "application/vnd.deepnote.dataframe.v3+json": {
       "column_count": 7,
       "row_count": 5,
       "columns": [
        {
         "name": "open",
         "dtype": "float64",
         "stats": {
          "unique_count": 5,
          "nan_count": 0,
          "min": "35.994998931884766",
          "max": "38.72249984741211",
          "histogram": [
           {
            "bin_start": 35.994998931884766,
            "bin_end": 36.2677490234375,
            "count": 2
           },
           {
            "bin_start": 36.2677490234375,
            "bin_end": 36.54049911499023,
            "count": 0
           },
           {
            "bin_start": 36.54049911499023,
            "bin_end": 36.81324920654297,
            "count": 0
           },
           {
            "bin_start": 36.81324920654297,
            "bin_end": 37.0859992980957,
            "count": 0
           },
           {
            "bin_start": 37.0859992980957,
            "bin_end": 37.35874938964844,
            "count": 1
           },
           {
            "bin_start": 37.35874938964844,
            "bin_end": 37.631499481201175,
            "count": 1
           },
           {
            "bin_start": 37.631499481201175,
            "bin_end": 37.904249572753905,
            "count": 0
           },
           {
            "bin_start": 37.904249572753905,
            "bin_end": 38.17699966430664,
            "count": 0
           },
           {
            "bin_start": 38.17699966430664,
            "bin_end": 38.44974975585937,
            "count": 0
           },
           {
            "bin_start": 38.44974975585937,
            "bin_end": 38.72249984741211,
            "count": 1
           }
          ]
         }
        },
        {
         "name": "volume",
         "dtype": "int64",
         "stats": {
          "unique_count": 5,
          "nan_count": 0,
          "min": "148158800",
          "max": "365248800",
          "histogram": [
           {
            "bin_start": 148158800,
            "bin_end": 169867800,
            "count": 2
           },
           {
            "bin_start": 169867800,
            "bin_end": 191576800,
            "count": 0
           },
           {
            "bin_start": 191576800,
            "bin_end": 213285800,
            "count": 0
           },
           {
            "bin_start": 213285800,
            "bin_end": 234994800,
            "count": 2
           },
           {
            "bin_start": 234994800,
            "bin_end": 256703800,
            "count": 0
           },
           {
            "bin_start": 256703800,
            "bin_end": 278412800,
            "count": 0
           },
           {
            "bin_start": 278412800,
            "bin_end": 300121800,
            "count": 0
           },
           {
            "bin_start": 300121800,
            "bin_end": 321830800,
            "count": 0
           },
           {
            "bin_start": 321830800,
            "bin_end": 343539800,
            "count": 0
           },
           {
            "bin_start": 343539800,
            "bin_end": 365248800,
            "count": 1
           }
          ]
         }
        },
        {
         "name": "high",
         "dtype": "float64",
         "stats": {
          "unique_count": 5,
          "nan_count": 0,
          "min": "36.43000030517578",
          "max": "39.712501525878906",
          "histogram": [
           {
            "bin_start": 36.43000030517578,
            "bin_end": 36.7582504272461,
            "count": 1
           },
           {
            "bin_start": 36.7582504272461,
            "bin_end": 37.086500549316405,
            "count": 0
           },
           {
            "bin_start": 37.086500549316405,
            "bin_end": 37.41475067138672,
            "count": 2
           },
           {
            "bin_start": 37.41475067138672,
            "bin_end": 37.74300079345703,
            "count": 0
           },
           {
            "bin_start": 37.74300079345703,
            "bin_end": 38.071250915527344,
            "count": 1
           },
           {
            "bin_start": 38.071250915527344,
            "bin_end": 38.39950103759766,
            "count": 0
           },
           {
            "bin_start": 38.39950103759766,
            "bin_end": 38.72775115966797,
            "count": 0
           },
           {
            "bin_start": 38.72775115966797,
            "bin_end": 39.05600128173828,
            "count": 0
           },
           {
            "bin_start": 39.05600128173828,
            "bin_end": 39.38425140380859,
            "count": 0
           },
           {
            "bin_start": 39.38425140380859,
            "bin_end": 39.712501525878906,
            "count": 1
           }
          ]
         }
        },
        {
         "name": "low",
         "dtype": "float64",
         "stats": {
          "unique_count": 5,
          "nan_count": 0,
          "min": "35.5",
          "max": "38.557498931884766",
          "histogram": [
           {
            "bin_start": 35.5,
            "bin_end": 35.80574989318848,
            "count": 1
           },
           {
            "bin_start": 35.80574989318848,
            "bin_end": 36.11149978637695,
            "count": 1
           },
           {
            "bin_start": 36.11149978637695,
            "bin_end": 36.41724967956543,
            "count": 0
           },
           {
            "bin_start": 36.41724967956543,
            "bin_end": 36.722999572753906,
            "count": 1
           },
           {
            "bin_start": 36.722999572753906,
            "bin_end": 37.02874946594238,
            "count": 0
           },
           {
            "bin_start": 37.02874946594238,
            "bin_end": 37.33449935913086,
            "count": 1
           },
           {
            "bin_start": 37.33449935913086,
            "bin_end": 37.640249252319336,
            "count": 0
           },
           {
            "bin_start": 37.640249252319336,
            "bin_end": 37.94599914550781,
            "count": 0
           },
           {
            "bin_start": 37.94599914550781,
            "bin_end": 38.25174903869629,
            "count": 0
           },
           {
            "bin_start": 38.25174903869629,
            "bin_end": 38.557498931884766,
            "count": 1
           }
          ]
         }
        },
        {
         "name": "close",
         "dtype": "float64",
         "stats": {
          "unique_count": 5,
          "nan_count": 0,
          "min": "35.54750061035156",
          "max": "39.47999954223633",
          "histogram": [
           {
            "bin_start": 35.54750061035156,
            "bin_end": 35.94075050354004,
            "count": 1
           },
           {
            "bin_start": 35.94075050354004,
            "bin_end": 36.33400039672851,
            "count": 0
           },
           {
            "bin_start": 36.33400039672851,
            "bin_end": 36.727250289916995,
            "count": 0
           },
           {
            "bin_start": 36.727250289916995,
            "bin_end": 37.12050018310547,
            "count": 2
           },
           {
            "bin_start": 37.12050018310547,
            "bin_end": 37.513750076293945,
            "count": 0
           },
           {
            "bin_start": 37.513750076293945,
            "bin_end": 37.90699996948242,
            "count": 1
           },
           {
            "bin_start": 37.90699996948242,
            "bin_end": 38.300249862670896,
            "count": 0
           },
           {
            "bin_start": 38.300249862670896,
            "bin_end": 38.69349975585938,
            "count": 0
           },
           {
            "bin_start": 38.69349975585938,
            "bin_end": 39.08674964904785,
            "count": 0
           },
           {
            "bin_start": 39.08674964904785,
            "bin_end": 39.47999954223633,
            "count": 1
           }
          ]
         }
        },
        {
         "name": "date",
         "dtype": "object",
         "stats": {
          "unique_count": 5,
          "nan_count": 0,
          "categories": [
           {
            "name": "2019-01-02",
            "count": 1
           },
           {
            "name": "2019-01-03",
            "count": 1
           },
           {
            "name": "3 others",
            "count": 3
           }
          ]
         }
        },
        {
         "name": "adjclose",
         "dtype": "float64",
         "stats": {
          "unique_count": 5,
          "nan_count": 0,
          "min": "34.50870895385742",
          "max": "38.3262939453125",
          "histogram": [
           {
            "bin_start": 34.50870895385742,
            "bin_end": 34.89046745300293,
            "count": 1
           },
           {
            "bin_start": 34.89046745300293,
            "bin_end": 35.27222595214844,
            "count": 0
           },
           {
            "bin_start": 35.27222595214844,
            "bin_end": 35.653984451293944,
            "count": 0
           },
           {
            "bin_start": 35.653984451293944,
            "bin_end": 36.035742950439456,
            "count": 2
           },
           {
            "bin_start": 36.035742950439456,
            "bin_end": 36.41750144958496,
            "count": 0
           },
           {
            "bin_start": 36.41750144958496,
            "bin_end": 36.799259948730466,
            "count": 1
           },
           {
            "bin_start": 36.799259948730466,
            "bin_end": 37.18101844787598,
            "count": 0
           },
           {
            "bin_start": 37.18101844787598,
            "bin_end": 37.56277694702148,
            "count": 0
           },
           {
            "bin_start": 37.56277694702148,
            "bin_end": 37.944535446166995,
            "count": 0
           },
           {
            "bin_start": 37.944535446166995,
            "bin_end": 38.3262939453125,
            "count": 1
           }
          ]
         }
        },
        {
         "name": "_deepnote_index_column",
         "dtype": "datetime64[ns]"
        }
       ],
       "rows": [
        {
         "open": 38.72249984741211,
         "volume": 148158800,
         "high": 39.712501525878906,
         "low": 38.557498931884766,
         "close": 39.47999954223633,
         "date": "2019-01-02",
         "adjclose": 38.3262939453125,
         "_deepnote_index_column": "2019-01-02T00:00:00.000000"
        },
        {
         "open": 35.994998931884766,
         "volume": 365248800,
         "high": 36.43000030517578,
         "low": 35.5,
         "close": 35.54750061035156,
         "date": "2019-01-03",
         "adjclose": 34.50870895385742,
         "_deepnote_index_column": "2019-01-03T00:00:00.000000"
        },
        {
         "open": 36.13249969482422,
         "volume": 234428400,
         "high": 37.13750076293945,
         "low": 35.95000076293945,
         "close": 37.064998626708984,
         "date": "2019-01-04",
         "adjclose": 35.981868743896484,
         "_deepnote_index_column": "2019-01-04T00:00:00.000000"
        },
        {
         "open": 37.17499923706055,
         "volume": 219111200,
         "high": 37.20750045776367,
         "low": 36.474998474121094,
         "close": 36.98249816894531,
         "date": "2019-01-07",
         "adjclose": 35.901771545410156,
         "_deepnote_index_column": "2019-01-07T00:00:00.000000"
        },
        {
         "open": 37.38999938964844,
         "volume": 164101200,
         "high": 37.95500183105469,
         "low": 37.130001068115234,
         "close": 37.6875,
         "date": "2019-01-08",
         "adjclose": 36.5861701965332,
         "_deepnote_index_column": "2019-01-08T00:00:00.000000"
        }
       ]
      },
      "text/plain": "                 open     volume       high        low      close        date  \\\nDate                                                                            \n2019-01-02  38.722500  148158800  39.712502  38.557499  39.480000  2019-01-02   \n2019-01-03  35.994999  365248800  36.430000  35.500000  35.547501  2019-01-03   \n2019-01-04  36.132500  234428400  37.137501  35.950001  37.064999  2019-01-04   \n2019-01-07  37.174999  219111200  37.207500  36.474998  36.982498  2019-01-07   \n2019-01-08  37.389999  164101200  37.955002  37.130001  37.687500  2019-01-08   \n\n             adjclose  \nDate                   \n2019-01-02  38.326294  \n2019-01-03  34.508709  \n2019-01-04  35.981869  \n2019-01-07  35.901772  \n2019-01-08  36.586170  ",
      "text/html": "<div>\n<style scoped>\n    .dataframe tbody tr th:only-of-type {\n        vertical-align: middle;\n    }\n\n    .dataframe tbody tr th {\n        vertical-align: top;\n    }\n\n    .dataframe thead th {\n        text-align: right;\n    }\n</style>\n<table border=\"1\" class=\"dataframe\">\n  <thead>\n    <tr style=\"text-align: right;\">\n      <th></th>\n      <th>open</th>\n      <th>volume</th>\n      <th>high</th>\n      <th>low</th>\n      <th>close</th>\n      <th>date</th>\n      <th>adjclose</th>\n    </tr>\n    <tr>\n      <th>Date</th>\n      <th></th>\n      <th></th>\n      <th></th>\n      <th></th>\n      <th></th>\n      <th></th>\n      <th></th>\n    </tr>\n  </thead>\n  <tbody>\n    <tr>\n      <th>2019-01-02</th>\n      <td>38.722500</td>\n      <td>148158800</td>\n      <td>39.712502</td>\n      <td>38.557499</td>\n      <td>39.480000</td>\n      <td>2019-01-02</td>\n      <td>38.326294</td>\n    </tr>\n    <tr>\n      <th>2019-01-03</th>\n      <td>35.994999</td>\n      <td>365248800</td>\n      <td>36.430000</td>\n      <td>35.500000</td>\n      <td>35.547501</td>\n      <td>2019-01-03</td>\n      <td>34.508709</td>\n    </tr>\n    <tr>\n      <th>2019-01-04</th>\n      <td>36.132500</td>\n      <td>234428400</td>\n      <td>37.137501</td>\n      <td>35.950001</td>\n      <td>37.064999</td>\n      <td>2019-01-04</td>\n      <td>35.981869</td>\n    </tr>\n    <tr>\n      <th>2019-01-07</th>\n      <td>37.174999</td>\n      <td>219111200</td>\n      <td>37.207500</td>\n      <td>36.474998</td>\n      <td>36.982498</td>\n      <td>2019-01-07</td>\n      <td>35.901772</td>\n    </tr>\n    <tr>\n      <th>2019-01-08</th>\n      <td>37.389999</td>\n      <td>164101200</td>\n      <td>37.955002</td>\n      <td>37.130001</td>\n      <td>37.687500</td>\n      <td>2019-01-08</td>\n      <td>36.586170</td>\n    </tr>\n  </tbody>\n</table>\n</div>"
     },
     "metadata": {}
    }
   ]
  },
  {
   "cell_type": "code",
   "metadata": {
    "cell_id": "9d4f27e1-e261-427d-8d25-167cddb6d8a7",
    "tags": [],
    "deepnote_to_be_reexecuted": false,
    "source_hash": "37165082",
    "execution_start": 1642644941706,
    "execution_millis": 1,
    "deepnote_cell_type": "code"
   },
   "source": "def get_data(df):  \n    data = df.copy()\n    data['date'] = data['date'].str.split('-').str[2]\n    data['date'] = pd.to_numeric(data['date'])\n    return [ data['date'].tolist(), data['close'].tolist() ] # Convertimos la serie a una lista",
   "execution_count": null,
   "outputs": []
  },
  {
   "cell_type": "code",
   "metadata": {
    "cell_id": "7f224198-6f5a-4f0b-a408-b32f20f2e3e7",
    "tags": [],
    "deepnote_to_be_reexecuted": false,
    "source_hash": "dbe227ad",
    "execution_start": 1642644941707,
    "execution_millis": 4,
    "deepnote_cell_type": "code"
   },
   "source": "dates, prices = get_data(df)\nprint(dates, prices)",
   "execution_count": null,
   "outputs": [
    {
     "name": "stdout",
     "text": "[2, 3, 4, 7, 8, 9, 10, 11, 14, 15, 16, 17, 18, 22, 23, 24, 25, 28, 29, 30] [39.47999954223633, 35.54750061035156, 37.064998626708984, 36.98249816894531, 37.6875, 38.32749938964844, 38.45000076293945, 38.0724983215332, 37.5, 38.26750183105469, 38.73500061035156, 38.96500015258789, 39.20500183105469, 38.32500076293945, 38.47999954223633, 38.17499923706055, 39.439998626708984, 39.07500076293945, 38.66999816894531, 41.3125]\n",
     "output_type": "stream"
    }
   ]
  },
  {
   "cell_type": "code",
   "metadata": {
    "cell_id": "840c9ec9-db93-4f44-82c4-82041e13ac5d",
    "tags": [],
    "deepnote_to_be_reexecuted": false,
    "source_hash": "40f72c6f",
    "execution_start": 1642644941709,
    "execution_millis": 0,
    "deepnote_cell_type": "code"
   },
   "source": "def predict_prices(dates, prices, x):\n    dates = np.reshape(dates,(len(dates), 1)) # Convertimos a 1 dimensión\n    x = np.reshape(x,(len(x), 1))\n    \n    svr_lin  = SVR(kernel='linear', C=1e3)\n    svr_poly = SVR(kernel='poly', C=1e3, degree=2)\n    svr_rbf = SVR(kernel='rbf', C=1e3, gamma=0.1)\n    \n    # Llenamos con los datos los modelos de regresión\n    svr_lin .fit(dates, prices)\n    svr_poly.fit(dates, prices)\n    svr_rbf.fit(dates, prices)\n    \n    plt.scatter(dates, prices, c='k', label='Data')\n    plt.plot(dates, svr_lin.predict(dates), c='g', label='Linear model')\n    plt.plot(dates, svr_rbf.predict(dates), c='r', label='RBF model')    \n    plt.plot(dates, svr_poly.predict(dates), c='b', label='Polynomial model')\n    \n    plt.xlabel('Date')\n    plt.ylabel('Price')\n    plt.title('Support Vector Regression')\n    plt.legend()\n    plt.show()\n    \n    return svr_rbf.predict(x)[0], svr_lin.predict(x)[0], svr_poly.predict(x)[0]",
   "execution_count": null,
   "outputs": []
  },
  {
   "cell_type": "code",
   "metadata": {
    "cell_id": "29fbd0fc-71fa-4957-bc74-64b45c881b73",
    "tags": [],
    "deepnote_to_be_reexecuted": false,
    "source_hash": "9c82a6f3",
    "execution_start": 1642644941710,
    "execution_millis": 446,
    "deepnote_output_heights": [
     280
    ],
    "deepnote_cell_type": "code"
   },
   "source": "predicted_price = predict_prices(dates, prices, [31])\n",
   "execution_count": null,
   "outputs": [
    {
     "data": {
      "text/plain": "<Figure size 432x288 with 1 Axes>",
      "image/png": "[encoded data removed]"
     },
     "metadata": {
      "needs_background": "light",
      "image/png": {
       "width": 382,
       "height": 278
      }
     },
     "output_type": "display_data"
    }
   ]
  },
  {
   "cell_type": "code",
   "metadata": {
    "cell_id": "095523ff-bd95-423d-834a-aaaba8586d27",
    "tags": [],
    "deepnote_to_be_reexecuted": false,
    "source_hash": "df991612",
    "execution_start": 1642644942203,
    "execution_millis": 2,
    "deepnote_output_heights": [
     21
    ],
    "deepnote_cell_type": "code"
   },
   "source": "predicted_price",
   "execution_count": null,
   "outputs": [
    {
     "output_type": "execute_result",
     "execution_count": 9,
     "data": {
      "text/plain": "(44.488942389582675, 39.387207076152066, 39.49888318426933)"
     },
     "metadata": {}
    }
   ]
  },
  {
   "cell_type": "code",
   "metadata": {
    "cell_id": "65d9bfcd-c909-4986-b69a-825cfb5af686",
    "tags": [],
    "deepnote_to_be_reexecuted": false,
    "source_hash": "48842195",
    "execution_start": 1642644942204,
    "deepnote_cell_type": "code"
   },
   "source": "# -------------------------------------------------------------------------------------------------------\n# -------------------------------------------------------------------------------------------------------\n# -------------------------------------------------------------------------------------------------------\n# -------------------------------------------------------------------------------------------------------\n# -------------------------------------------------------------------------------------------------------\n# -------------------------------------------------------------------------------------------------------",
   "execution_count": null,
   "outputs": []
  },
  {
   "cell_type": "markdown",
   "source": "<a style='text-decoration:none;line-height:16px;display:flex;color:#5B5B62;padding:10px;justify-content:end;' href='https://deepnote.com?utm_source=created-in-deepnote-cell&projectId=2e251de5-0dc4-4401-98b7-759471e83f8e' target=\"_blank\">\n<img alt='Created in deepnote.com' style='display:inline;max-height:16px;margin:0px;margin-right:7.5px;' src='data:image/svg+xml;base64,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' > </img>\nCreated in <span style='font-weight:600;margin-left:4px;'>Deepnote</span></a>",
   "metadata": {
    "tags": [],
    "created_in_deepnote_cell": true,
    "deepnote_cell_type": "markdown"
   }
  }
 ],
 "nbformat": 4,
 "nbformat_minor": 2,
 "metadata": {
  "orig_nbformat": 2,
  "deepnote": {
   "is_reactive": false
  },
  "deepnote_notebook_id": "561f52a9-6afd-4362-99b6-bde1da78639e",
  "deepnote_execution_queue": []
 }
}