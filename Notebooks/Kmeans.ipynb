{
 "cells": [
  {
   "cell_type": "code",
   "metadata": {
    "id": "HmgsizWUikLe",
    "cell_id": "0094da47-6abb-4a96-a62e-3dfc3935b568",
    "deepnote_cell_type": "code"
   },
   "source": "#%% Carga de librerías.\nimport pandas as pd\nfrom sklearn import preprocessing \nfrom sklearn.cluster import KMeans\nimport matplotlib.pyplot as plt",
   "outputs": [],
   "execution_count": null
  },
  {
   "cell_type": "code",
   "metadata": {
    "colab": {
     "base_uri": "https://localhost:8080/",
     "height": 206
    },
    "id": "o5E_RXKPisyy",
    "outputId": "a0780ca5-3ae2-49f4-b585-637654ca95e0",
    "cell_id": "00001-5e048734-a8c9-411a-98d8-47bf669550d0",
    "deepnote_output_heights": [
     177
    ],
    "deepnote_cell_type": "code"
   },
   "source": "\n#%% Carga del dataframe.\ndf = pd.read_csv(\"AMD.csv\")\ndf.head()",
   "outputs": [
    {
     "data": {
      "text/html": "<div>\n<style scoped>\n    .dataframe tbody tr th:only-of-type {\n        vertical-align: middle;\n    }\n\n    .dataframe tbody tr th {\n        vertical-align: top;\n    }\n\n    .dataframe thead th {\n        text-align: right;\n    }\n</style>\n<table border=\"1\" class=\"dataframe\">\n  <thead>\n    <tr style=\"text-align: right;\">\n      <th></th>\n      <th>Date</th>\n      <th>Open</th>\n      <th>High</th>\n      <th>Low</th>\n      <th>Close</th>\n      <th>Adj Close</th>\n      <th>Volume</th>\n    </tr>\n  </thead>\n  <tbody>\n    <tr>\n      <th>0</th>\n      <td>2017-01-23</td>\n      <td>9.68</td>\n      <td>10.06</td>\n      <td>9.68</td>\n      <td>9.91</td>\n      <td>9.91</td>\n      <td>27905700</td>\n    </tr>\n    <tr>\n      <th>1</th>\n      <td>2017-01-24</td>\n      <td>9.95</td>\n      <td>10.49</td>\n      <td>9.95</td>\n      <td>10.44</td>\n      <td>10.44</td>\n      <td>43991200</td>\n    </tr>\n    <tr>\n      <th>2</th>\n      <td>2017-01-25</td>\n      <td>10.74</td>\n      <td>10.98</td>\n      <td>10.15</td>\n      <td>10.35</td>\n      <td>10.35</td>\n      <td>61778100</td>\n    </tr>\n    <tr>\n      <th>3</th>\n      <td>2017-01-26</td>\n      <td>10.35</td>\n      <td>10.66</td>\n      <td>10.30</td>\n      <td>10.52</td>\n      <td>10.52</td>\n      <td>35866600</td>\n    </tr>\n    <tr>\n      <th>4</th>\n      <td>2017-01-27</td>\n      <td>10.60</td>\n      <td>10.73</td>\n      <td>10.52</td>\n      <td>10.67</td>\n      <td>10.67</td>\n      <td>32719200</td>\n    </tr>\n  </tbody>\n</table>\n</div>",
      "text/plain": "         Date   Open   High    Low  Close  Adj Close    Volume\n0  2017-01-23   9.68  10.06   9.68   9.91       9.91  27905700\n1  2017-01-24   9.95  10.49   9.95  10.44      10.44  43991200\n2  2017-01-25  10.74  10.98  10.15  10.35      10.35  61778100\n3  2017-01-26  10.35  10.66  10.30  10.52      10.52  35866600\n4  2017-01-27  10.60  10.73  10.52  10.67      10.67  32719200"
     },
     "execution_count": 14,
     "metadata": {},
     "output_type": "execute_result"
    }
   ],
   "execution_count": null
  },
  {
   "cell_type": "code",
   "metadata": {
    "id": "bygsJQMakmZg",
    "cell_id": "00002-711805ab-caf3-4ce8-9947-c3d47b74f108",
    "deepnote_cell_type": "code"
   },
   "source": " #%% Se eliminan filas que tengan valor NaN.\n df = df.dropna()\n df = df.reset_index(drop=True)",
   "outputs": [],
   "execution_count": null
  },
  {
   "cell_type": "code",
   "metadata": {
    "id": "Ru2hAWBdpxMT",
    "cell_id": "00003-d60a0965-5cc1-47d3-bc94-3b2f9ccb045d",
    "deepnote_cell_type": "code"
   },
   "source": "#%% Eliminamos columna de fecha que no usaremos en el algoritmo.\ndates = df['Date'] # Guardamos la columna Date.\ndf = df.drop('Date', 1) # Borramos la columna del dataframe.",
   "outputs": [],
   "execution_count": null
  },
  {
   "cell_type": "code",
   "metadata": {
    "colab": {
     "base_uri": "https://localhost:8080/",
     "height": 206
    },
    "id": "cMNNa2a7pjt-",
    "outputId": "f1666849-de56-4bd9-f6d0-de50e996bbac",
    "cell_id": "00004-5901d02a-1fc5-4fa6-9192-4a32f58c093b",
    "deepnote_output_heights": [
     177
    ],
    "deepnote_cell_type": "code"
   },
   "source": "#%% Se normalizan los datos con MinMax()\nmin_max_scaler = preprocessing.MinMaxScaler() \ndf_escalado = min_max_scaler.fit_transform(df)\ndf_escalado = pd.DataFrame(df_escalado) # Hay que convertir a DF el resultado.\ndf_escalado = df_escalado.rename(columns = {0: 'Close', 1: 'Volume'})\ndf_escalado.head()",
   "outputs": [
    {
     "data": {
      "text/html": "<div>\n<style scoped>\n    .dataframe tbody tr th:only-of-type {\n        vertical-align: middle;\n    }\n\n    .dataframe tbody tr th {\n        vertical-align: top;\n    }\n\n    .dataframe thead th {\n        text-align: right;\n    }\n</style>\n<table border=\"1\" class=\"dataframe\">\n  <thead>\n    <tr style=\"text-align: right;\">\n      <th></th>\n      <th>Close</th>\n      <th>Volume</th>\n      <th>2</th>\n      <th>3</th>\n      <th>4</th>\n      <th>5</th>\n    </tr>\n  </thead>\n  <tbody>\n    <tr>\n      <th>0</th>\n      <td>0.003891</td>\n      <td>0.001875</td>\n      <td>0.004352</td>\n      <td>0.002494</td>\n      <td>0.002494</td>\n      <td>0.053722</td>\n    </tr>\n    <tr>\n      <th>1</th>\n      <td>0.005642</td>\n      <td>0.004654</td>\n      <td>0.006188</td>\n      <td>0.005972</td>\n      <td>0.005972</td>\n      <td>0.104946</td>\n    </tr>\n    <tr>\n      <th>2</th>\n      <td>0.010765</td>\n      <td>0.007822</td>\n      <td>0.007548</td>\n      <td>0.005381</td>\n      <td>0.005381</td>\n      <td>0.161588</td>\n    </tr>\n    <tr>\n      <th>3</th>\n      <td>0.008236</td>\n      <td>0.005753</td>\n      <td>0.008568</td>\n      <td>0.006497</td>\n      <td>0.006497</td>\n      <td>0.079073</td>\n    </tr>\n    <tr>\n      <th>4</th>\n      <td>0.009857</td>\n      <td>0.006206</td>\n      <td>0.010064</td>\n      <td>0.007481</td>\n      <td>0.007481</td>\n      <td>0.069050</td>\n    </tr>\n  </tbody>\n</table>\n</div>",
      "text/plain": "      Close    Volume         2         3         4         5\n0  0.003891  0.001875  0.004352  0.002494  0.002494  0.053722\n1  0.005642  0.004654  0.006188  0.005972  0.005972  0.104946\n2  0.010765  0.007822  0.007548  0.005381  0.005381  0.161588\n3  0.008236  0.005753  0.008568  0.006497  0.006497  0.079073\n4  0.009857  0.006206  0.010064  0.007481  0.007481  0.069050"
     },
     "execution_count": 17,
     "metadata": {},
     "output_type": "execute_result"
    }
   ],
   "execution_count": null
  },
  {
   "cell_type": "code",
   "metadata": {
    "id": "i4B0g_s_p1J7",
    "cell_id": "00005-4b44ec8a-2032-400b-9a90-d7ef48debc5e",
    "deepnote_cell_type": "code"
   },
   "source": "#%% Se normalizan los datos con MinMax()\nmin_max_scaler = preprocessing.MinMaxScaler() \ndf_escalado = min_max_scaler.fit_transform(df)\ndf_escalado = pd.DataFrame(df_escalado) # Hay que convertir a DF el resultado.\ndf_escalado = df_escalado.rename(columns = {0: 'Close', 1: 'Volume'})",
   "outputs": [],
   "execution_count": null
  },
  {
   "cell_type": "code",
   "metadata": {
    "colab": {
     "base_uri": "https://localhost:8080/",
     "height": 316
    },
    "id": "djbnpt_SqSt7",
    "outputId": "cb2a102c-41f7-4e6d-dac4-e51356947f61",
    "cell_id": "00006-b9cb2a72-1379-41d9-adbe-40c6072dedb6",
    "deepnote_output_heights": [
     21.1875,
     280
    ],
    "deepnote_cell_type": "code"
   },
   "source": "#%% Representación gráfica de los datos.\nx = df_escalado['Close'].values\ny = df_escalado['Volume'].values\nplt.xlabel('Close price')\nplt.ylabel('Volume')\nplt.title('AMD vs. VOLUME')\nplt.plot(x,y,'o',markersize=1)",
   "outputs": [
    {
     "data": {
      "text/plain": "[<matplotlib.lines.Line2D at 0x215a6d15fd0>]"
     },
     "execution_count": 19,
     "metadata": {},
     "output_type": "execute_result"
    },
    {
     "data": {
      "image/png": "[encoded data removed]",
      "text/plain": "<Figure size 432x288 with 1 Axes>"
     },
     "metadata": {
      "needs_background": "light",
      "image/png": {
       "width": 386,
       "height": 278
      }
     },
     "output_type": "display_data"
    }
   ],
   "execution_count": null
  },
  {
   "cell_type": "code",
   "metadata": {
    "colab": {
     "base_uri": "https://localhost:8080/",
     "height": 1000
    },
    "id": "dE-l8puNtWlj",
    "outputId": "a90a0dfa-a6fd-4288-c629-3ed9dbcd45aa",
    "cell_id": "00007-aaf95aaa-2ee7-4825-b809-8b6e8542fd3a",
    "deepnote_output_heights": [
     null,
     21.1875,
     264
    ],
    "deepnote_cell_type": "code"
   },
   "source": "#%% Curva elbow para determinar valor óptimo de k.\nnc = range(1, 30) # El número de iteraciones que queremos hacer.\nkmeans = [KMeans(n_clusters=i) for i in nc]\nscore = [kmeans[i].fit(df_escalado).score(df_escalado) for i in range(len(kmeans))]\nscore\nplt.xlabel('Número de clústeres (k)')\nplt.ylabel('Suma de los errores cuadráticos')\nplt.plot(nc,score)",
   "outputs": [
    {
     "name": "stderr",
     "output_type": "stream",
     "text": "C:\\Users\\Renzo\\anaconda3\\lib\\site-packages\\sklearn\\cluster\\_kmeans.py:881: UserWarning: KMeans is known to have a memory leak on Windows with MKL, when there are less chunks than available threads. You can avoid it by setting the environment variable OMP_NUM_THREADS=5.\n  warnings.warn(\n"
    },
    {
     "data": {
      "text/plain": "[<matplotlib.lines.Line2D at 0x215a6d81100>]"
     },
     "execution_count": 20,
     "metadata": {},
     "output_type": "execute_result"
    },
    {
     "data": {
      "image/png": "[encoded data removed]",
      "text/plain": "<Figure size 432x288 with 1 Axes>"
     },
     "metadata": {
      "needs_background": "light",
      "image/png": {
       "width": 399,
       "height": 262
      }
     },
     "output_type": "display_data"
    }
   ],
   "execution_count": null
  },
  {
   "cell_type": "code",
   "metadata": {
    "colab": {
     "base_uri": "https://localhost:8080/"
    },
    "id": "RqGHSSH_tt8B",
    "outputId": "dd542e5a-76bd-4495-b85f-b5b6ea50197d",
    "cell_id": "00008-6c426dab-4970-418e-b1b7-82d23abd18f4",
    "deepnote_cell_type": "code"
   },
   "source": "#%% Aplicación de k-means con k = 5.\nkmeans = KMeans(n_clusters=5).fit(df_escalado)\ncentroids = kmeans.cluster_centers_\nprint(centroids)",
   "outputs": [
    {
     "name": "stdout",
     "output_type": "stream",
     "text": "[[0.51354217 0.51673152 0.52798198 0.51649019 0.51649019 0.12211096]\n [0.1071896  0.10624964 0.10836125 0.10543358 0.10543358 0.26197051]\n [0.84089418 0.85500884 0.8588361  0.84741414 0.84741414 0.16805581]\n [0.02547299 0.02245414 0.025304   0.02281934 0.02281934 0.14392303]\n [0.25988263 0.2617397  0.26563165 0.26064213 0.26064213 0.1734217 ]]\n"
    }
   ],
   "execution_count": null
  },
  {
   "cell_type": "code",
   "metadata": {
    "colab": {
     "base_uri": "https://localhost:8080/"
    },
    "id": "Tq4l6VwduvEX",
    "outputId": "ee40cc25-9e2d-4065-d169-8f790773ea63",
    "cell_id": "00009-6e43677e-4a75-4e59-8c41-f666f945ece9",
    "deepnote_cell_type": "code"
   },
   "source": "#%% Etiquetamos nuestro dataframe.\nlabels = kmeans.predict(df_escalado)\ndf['label'] = labels",
   "outputs": [],
   "execution_count": null
  },
  {
   "cell_type": "code",
   "metadata": {
    "id": "kGB5SUTfuy6O",
    "cell_id": "00010-8ad907d1-66df-4a52-b11b-d4383f14d965",
    "deepnote_cell_type": "code"
   },
   "source": "#%% Añadimos la columna de fecha\ndf.insert(0, 'Date', dates)",
   "outputs": [],
   "execution_count": null
  },
  {
   "cell_type": "code",
   "metadata": {
    "colab": {
     "base_uri": "https://localhost:8080/",
     "height": 299
    },
    "id": "qew4zs6pu2Ce",
    "outputId": "d49e5424-e68d-4f52-dad1-c08606d825ce",
    "cell_id": "00011-f85a1d9c-f59a-4c8b-9b4a-88fe6c96a2cc",
    "deepnote_output_heights": [
     280
    ],
    "deepnote_cell_type": "code"
   },
   "source": "#%% Plot k-means clustering.\ncolores=['red','green','blue','yellow','fuchsia']\nasignar=[]\nfor row in labels:\n     asignar.append(colores[row])\nplt.scatter(x, y, c=asignar, s=1)\nplt.scatter(centroids[:, 0], centroids[:, 1], marker='*', c='black', s=20) # Marco centroides.\nplt.xlabel('Close price')\nplt.ylabel('Volume')\nplt.title('AMD stocks k-means clustering')\nplt.show()",
   "outputs": [
    {
     "data": {
      "image/png": "[encoded data removed]",
      "text/plain": "<Figure size 432x288 with 1 Axes>"
     },
     "metadata": {
      "needs_background": "light",
      "image/png": {
       "width": 386,
       "height": 278
      }
     },
     "output_type": "display_data"
    }
   ],
   "execution_count": null
  },
  {
   "cell_type": "code",
   "metadata": {
    "cell_id": "00012-f8b1ae56-6383-4a02-87da-08be2e15299b",
    "deepnote_cell_type": "code"
   },
   "source": "",
   "execution_count": null,
   "outputs": []
  },
  {
   "cell_type": "markdown",
   "source": "<a style='text-decoration:none;line-height:16px;display:flex;color:#5B5B62;padding:10px;justify-content:end;' href='https://deepnote.com?utm_source=created-in-deepnote-cell&projectId=2e251de5-0dc4-4401-98b7-759471e83f8e' target=\"_blank\">\n<img alt='Created in deepnote.com' style='display:inline;max-height:16px;margin:0px;margin-right:7.5px;' src='data:image/svg+xml;base64,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' > </img>\nCreated in <span style='font-weight:600;margin-left:4px;'>Deepnote</span></a>",
   "metadata": {
    "tags": [],
    "created_in_deepnote_cell": true,
    "deepnote_cell_type": "markdown"
   }
  }
 ],
 "nbformat": 4,
 "nbformat_minor": 1,
 "metadata": {
  "colab": {
   "name": "Kmeans",
   "provenance": []
  },
  "kernelspec": {
   "display_name": "Python 3",
   "language": "python",
   "name": "python3"
  },
  "language_info": {
   "codemirror_mode": {
    "name": "ipython",
    "version": 3
   },
   "file_extension": ".py",
   "mimetype": "text/x-python",
   "name": "python",
   "nbconvert_exporter": "python",
   "pygments_lexer": "ipython3",
   "version": "3.8.8"
  },
  "deepnote_notebook_id": "b8688f63-c4e6-43dc-9dd0-11773a9a2292",
  "deepnote": {},
  "deepnote_execution_queue": []
 }
}