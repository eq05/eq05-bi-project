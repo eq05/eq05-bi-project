{
 "cells": [
  {
   "cell_type": "code",
   "metadata": {
    "cell_id": "45f055f4-9988-4233-b200-1fe4bdd3747e",
    "tags": [],
    "deepnote_app_coordinates": {
     "x": 0,
     "y": 0,
     "w": 12,
     "h": 5
    },
    "deepnote_to_be_reexecuted": false,
    "source_hash": "76374569",
    "execution_start": 1642828072394,
    "execution_millis": 43,
    "deepnote_cell_type": "code"
   },
   "source": "# --------------------------------\n# ----- Variables del modelo -----\n# --------------------------------\nACCION = 'AAPL'\nFECHA_INICIO = '2019-01-01'\nFECHA_FINAL  = '2019-12-30'",
   "outputs": [],
   "execution_count": null
  },
  {
   "cell_type": "code",
   "metadata": {
    "tags": [],
    "cell_id": "d8b74e3b-a834-43ae-a9c6-5ab60e22b76d",
    "deepnote_to_be_reexecuted": false,
    "source_hash": "72cb734f",
    "execution_start": 1642828072438,
    "execution_millis": 1822,
    "deepnote_app_coordinates": {
     "x": 0,
     "y": null,
     "w": 12,
     "h": 5
    },
    "deepnote_cell_type": "code"
   },
   "source": "# Machine learning\nfrom sklearn.svm import SVC\nfrom sklearn.metrics import accuracy_score\n  \n# For data manipulation\nimport pandas as pd\nimport numpy as np\n  \n# To plot\nimport matplotlib.pyplot as plt\nplt.style.use('seaborn-darkgrid')\n\n# Carga de datos\nfrom pandas_datareader.data import DataReader\n  \n# To ignore warnings\nimport warnings\nwarnings.filterwarnings(\"ignore\")\n\n# Metricas\nfrom sklearn.metrics import precision_score\n",
   "outputs": [],
   "execution_count": null
  },
  {
   "cell_type": "code",
   "metadata": {
    "cell_id": "0381ee26-7212-4140-953f-2e96b2f43947",
    "tags": [],
    "deepnote_app_coordinates": {
     "x": 0,
     "y": 0,
     "w": 12,
     "h": 5
    },
    "deepnote_to_be_reexecuted": false,
    "source_hash": "4d25a689",
    "execution_start": 1642828074265,
    "execution_millis": 727,
    "deepnote_cell_type": "code"
   },
   "source": "dataframe = DataReader(\n    ACCION, \n    data_source='yahoo', \n    start=FECHA_INICIO, \n    end=FECHA_FINAL\n)\ndataframe[\"Date\"] = dataframe.index\ndataframe",
   "outputs": [
    {
     "output_type": "execute_result",
     "execution_count": 3,
     "data": {
      "application/vnd.deepnote.dataframe.v3+json": {
       "column_count": 7,
       "row_count": 251,
       "columns": [
        {
         "name": "High",
         "dtype": "float64",
         "stats": {
          "unique_count": 248,
          "nan_count": 0,
          "min": "36.43000030517578",
          "max": "73.49250030517578",
          "histogram": [
           {
            "bin_start": 36.43000030517578,
            "bin_end": 40.13625030517578,
            "count": 19
           },
           {
            "bin_start": 40.13625030517578,
            "bin_end": 43.84250030517578,
            "count": 22
           },
           {
            "bin_start": 43.84250030517578,
            "bin_end": 47.54875030517578,
            "count": 31
           },
           {
            "bin_start": 47.54875030517578,
            "bin_end": 51.255000305175784,
            "count": 56
           },
           {
            "bin_start": 51.255000305175784,
            "bin_end": 54.96125030517578,
            "count": 46
           },
           {
            "bin_start": 54.96125030517578,
            "bin_end": 58.66750030517578,
            "count": 22
           },
           {
            "bin_start": 58.66750030517578,
            "bin_end": 62.373750305175776,
            "count": 14
           },
           {
            "bin_start": 62.373750305175776,
            "bin_end": 66.08000030517579,
            "count": 13
           },
           {
            "bin_start": 66.08000030517579,
            "bin_end": 69.78625030517577,
            "count": 18
           },
           {
            "bin_start": 69.78625030517577,
            "bin_end": 73.49250030517578,
            "count": 10
           }
          ]
         }
        },
        {
         "name": "Low",
         "dtype": "float64",
         "stats": {
          "unique_count": 249,
          "nan_count": 0,
          "min": "35.5",
          "max": "72.02999877929688",
          "histogram": [
           {
            "bin_start": 35.5,
            "bin_end": 39.15299987792969,
            "count": 19
           },
           {
            "bin_start": 39.15299987792969,
            "bin_end": 42.805999755859375,
            "count": 16
           },
           {
            "bin_start": 42.805999755859375,
            "bin_end": 46.45899963378906,
            "count": 35
           },
           {
            "bin_start": 46.45899963378906,
            "bin_end": 50.11199951171875,
            "count": 50
           },
           {
            "bin_start": 50.11199951171875,
            "bin_end": 53.76499938964844,
            "count": 54
           },
           {
            "bin_start": 53.76499938964844,
            "bin_end": 57.417999267578125,
            "count": 22
           },
           {
            "bin_start": 57.417999267578125,
            "bin_end": 61.07099914550781,
            "count": 14
           },
           {
            "bin_start": 61.07099914550781,
            "bin_end": 64.7239990234375,
            "count": 9
           },
           {
            "bin_start": 64.7239990234375,
            "bin_end": 68.37699890136719,
            "count": 22
           },
           {
            "bin_start": 68.37699890136719,
            "bin_end": 72.02999877929688,
            "count": 10
           }
          ]
         }
        },
        {
         "name": "Open",
         "dtype": "float64",
         "stats": {
          "unique_count": 246,
          "nan_count": 0,
          "min": "35.994998931884766",
          "max": "72.77999877929688",
          "histogram": [
           {
            "bin_start": 35.994998931884766,
            "bin_end": 39.673498916625974,
            "count": 19
           },
           {
            "bin_start": 39.673498916625974,
            "bin_end": 43.35199890136719,
            "count": 18
           },
           {
            "bin_start": 43.35199890136719,
            "bin_end": 47.0304988861084,
            "count": 34
           },
           {
            "bin_start": 47.0304988861084,
            "bin_end": 50.70899887084961,
            "count": 53
           },
           {
            "bin_start": 50.70899887084961,
            "bin_end": 54.38749885559082,
            "count": 50
           },
           {
            "bin_start": 54.38749885559082,
            "bin_end": 58.06599884033203,
            "count": 22
           },
           {
            "bin_start": 58.06599884033203,
            "bin_end": 61.74449882507324,
            "count": 12
           },
           {
            "bin_start": 61.74449882507324,
            "bin_end": 65.42299880981446,
            "count": 14
           },
           {
            "bin_start": 65.42299880981446,
            "bin_end": 69.10149879455565,
            "count": 19
           },
           {
            "bin_start": 69.10149879455565,
            "bin_end": 72.77999877929688,
            "count": 10
           }
          ]
         }
        },
        {
         "name": "Close",
         "dtype": "float64",
         "stats": {
          "unique_count": 250,
          "nan_count": 0,
          "min": "35.54750061035156",
          "max": "72.87999725341797",
          "histogram": [
           {
            "bin_start": 35.54750061035156,
            "bin_end": 39.2807502746582,
            "count": 17
           },
           {
            "bin_start": 39.2807502746582,
            "bin_end": 43.013999938964844,
            "count": 16
           },
           {
            "bin_start": 43.013999938964844,
            "bin_end": 46.747249603271484,
            "count": 34
           },
           {
            "bin_start": 46.747249603271484,
            "bin_end": 50.480499267578125,
            "count": 53
           },
           {
            "bin_start": 50.480499267578125,
            "bin_end": 54.213748931884766,
            "count": 54
           },
           {
            "bin_start": 54.213748931884766,
            "bin_end": 57.946998596191406,
            "count": 22
           },
           {
            "bin_start": 57.946998596191406,
            "bin_end": 61.68024826049805,
            "count": 13
           },
           {
            "bin_start": 61.68024826049805,
            "bin_end": 65.41349792480469,
            "count": 9
           },
           {
            "bin_start": 65.41349792480469,
            "bin_end": 69.14674758911133,
            "count": 23
           },
           {
            "bin_start": 69.14674758911133,
            "bin_end": 72.87999725341797,
            "count": 10
           }
          ]
         }
        },
        {
         "name": "Volume",
         "dtype": "float64",
         "stats": {
          "unique_count": 250,
          "nan_count": 0,
          "min": "45448000.0",
          "max": "365248800.0",
          "histogram": [
           {
            "bin_start": 45448000,
            "bin_end": 77428080,
            "count": 47
           },
           {
            "bin_start": 77428080,
            "bin_end": 109408160,
            "count": 101
           },
           {
            "bin_start": 109408160,
            "bin_end": 141388240,
            "count": 59
           },
           {
            "bin_start": 141388240,
            "bin_end": 173368320,
            "count": 24
           },
           {
            "bin_start": 173368320,
            "bin_end": 205348400,
            "count": 9
           },
           {
            "bin_start": 205348400,
            "bin_end": 237328480,
            "count": 6
           },
           {
            "bin_start": 237328480,
            "bin_end": 269308560,
            "count": 2
           },
           {
            "bin_start": 269308560,
            "bin_end": 301288640,
            "count": 2
           },
           {
            "bin_start": 301288640,
            "bin_end": 333268720,
            "count": 0
           },
           {
            "bin_start": 333268720,
            "bin_end": 365248800,
            "count": 1
           }
          ]
         }
        },
        {
         "name": "Adj Close",
         "dtype": "float64",
         "stats": {
          "unique_count": 251,
          "nan_count": 0,
          "min": "34.50870895385742",
          "max": "71.81327819824219",
          "histogram": [
           {
            "bin_start": 34.50870895385742,
            "bin_end": 38.2391658782959,
            "count": 17
           },
           {
            "bin_start": 38.2391658782959,
            "bin_end": 41.96962280273438,
            "count": 16
           },
           {
            "bin_start": 41.96962280273438,
            "bin_end": 45.70007972717285,
            "count": 34
           },
           {
            "bin_start": 45.70007972717285,
            "bin_end": 49.43053665161133,
            "count": 52
           },
           {
            "bin_start": 49.43053665161133,
            "bin_end": 53.160993576049805,
            "count": 54
           },
           {
            "bin_start": 53.160993576049805,
            "bin_end": 56.89145050048828,
            "count": 23
           },
           {
            "bin_start": 56.89145050048828,
            "bin_end": 60.62190742492676,
            "count": 13
           },
           {
            "bin_start": 60.62190742492676,
            "bin_end": 64.35236434936523,
            "count": 9
           },
           {
            "bin_start": 64.35236434936523,
            "bin_end": 68.08282127380372,
            "count": 23
           },
           {
            "bin_start": 68.08282127380372,
            "bin_end": 71.81327819824219,
            "count": 10
           }
          ]
         }
        },
        {
         "name": "Date",
         "dtype": "datetime64[ns]",
         "stats": {
          "unique_count": 251,
          "nan_count": 0,
          "min": "2019-01-02 00:00:00",
          "max": "2019-12-30 00:00:00",
          "histogram": [
           {
            "bin_start": 1546387200000000000,
            "bin_end": 1549514880000000000,
            "count": 26
           },
           {
            "bin_start": 1549514880000000000,
            "bin_end": 1552642560000000000,
            "count": 25
           },
           {
            "bin_start": 1552642560000000000,
            "bin_end": 1555770240000000000,
            "count": 24
           },
           {
            "bin_start": 1555770240000000000,
            "bin_end": 1558897920000000000,
            "count": 25
           },
           {
            "bin_start": 1558897920000000000,
            "bin_end": 1562025600000000000,
            "count": 25
           },
           {
            "bin_start": 1562025600000000000,
            "bin_end": 1565153280000000000,
            "count": 26
           },
           {
            "bin_start": 1565153280000000000,
            "bin_end": 1568280960000000000,
            "count": 25
           },
           {
            "bin_start": 1568280960000000000,
            "bin_end": 1571408640000000000,
            "count": 26
           },
           {
            "bin_start": 1571408640000000000,
            "bin_end": 1574536320000000000,
            "count": 25
           },
           {
            "bin_start": 1574536320000000000,
            "bin_end": 1577664000000000000,
            "count": 24
           }
          ]
         }
        },
        {
         "name": "_deepnote_index_column",
         "dtype": "datetime64[ns]"
        }
       ],
       "rows": [
        {
         "High": 39.712501525878906,
         "Low": 38.557498931884766,
         "Open": 38.72249984741211,
         "Close": 39.47999954223633,
         "Volume": 148158800,
         "Adj Close": 38.326290130615234,
         "Date": "2019-01-02T00:00:00.000000",
         "_deepnote_index_column": "2019-01-02T00:00:00.000000"
        },
        {
         "High": 36.43000030517578,
         "Low": 35.5,
         "Open": 35.994998931884766,
         "Close": 35.54750061035156,
         "Volume": 365248800,
         "Adj Close": 34.50870895385742,
         "Date": "2019-01-03T00:00:00.000000",
         "_deepnote_index_column": "2019-01-03T00:00:00.000000"
        },
        {
         "High": 37.13750076293945,
         "Low": 35.95000076293945,
         "Open": 36.13249969482422,
         "Close": 37.064998626708984,
         "Volume": 234428400,
         "Adj Close": 35.98186111450195,
         "Date": "2019-01-04T00:00:00.000000",
         "_deepnote_index_column": "2019-01-04T00:00:00.000000"
        },
        {
         "High": 37.20750045776367,
         "Low": 36.474998474121094,
         "Open": 37.17499923706055,
         "Close": 36.98249816894531,
         "Volume": 219111200,
         "Adj Close": 35.90177917480469,
         "Date": "2019-01-07T00:00:00.000000",
         "_deepnote_index_column": "2019-01-07T00:00:00.000000"
        },
        {
         "High": 37.95500183105469,
         "Low": 37.130001068115234,
         "Open": 37.38999938964844,
         "Close": 37.6875,
         "Volume": 164101200,
         "Adj Close": 36.586177825927734,
         "Date": "2019-01-08T00:00:00.000000",
         "_deepnote_index_column": "2019-01-08T00:00:00.000000"
        },
        {
         "High": 38.63249969482422,
         "Low": 37.407501220703125,
         "Open": 37.8224983215332,
         "Close": 38.32749938964844,
         "Volume": 180396400,
         "Adj Close": 37.20747756958008,
         "Date": "2019-01-09T00:00:00.000000",
         "_deepnote_index_column": "2019-01-09T00:00:00.000000"
        },
        {
         "High": 38.49250030517578,
         "Low": 37.71500015258789,
         "Open": 38.125,
         "Close": 38.45000076293945,
         "Volume": 143122800,
         "Adj Close": 37.32638931274414,
         "Date": "2019-01-10T00:00:00.000000",
         "_deepnote_index_column": "2019-01-10T00:00:00.000000"
        },
        {
         "High": 38.42499923706055,
         "Low": 37.877498626708984,
         "Open": 38.220001220703125,
         "Close": 38.0724983215332,
         "Volume": 108092800,
         "Adj Close": 36.959922790527344,
         "Date": "2019-01-11T00:00:00.000000",
         "_deepnote_index_column": "2019-01-11T00:00:00.000000"
        },
        {
         "High": 37.817501068115234,
         "Low": 37.30500030517578,
         "Open": 37.712501525878906,
         "Close": 37.5,
         "Volume": 129756800,
         "Adj Close": 36.404144287109375,
         "Date": "2019-01-14T00:00:00.000000",
         "_deepnote_index_column": "2019-01-14T00:00:00.000000"
        },
        {
         "High": 38.34749984741211,
         "Low": 37.51250076293945,
         "Open": 37.567501068115234,
         "Close": 38.26750183105469,
         "Volume": 114843600,
         "Adj Close": 37.14923095703125,
         "Date": "2019-01-15T00:00:00.000000",
         "_deepnote_index_column": "2019-01-15T00:00:00.000000"
        }
       ]
      },
      "text/plain": "                 High        Low       Open      Close       Volume  \\\nDate                                                                  \n2019-01-02  39.712502  38.557499  38.722500  39.480000  148158800.0   \n2019-01-03  36.430000  35.500000  35.994999  35.547501  365248800.0   \n2019-01-04  37.137501  35.950001  36.132500  37.064999  234428400.0   \n2019-01-07  37.207500  36.474998  37.174999  36.982498  219111200.0   \n2019-01-08  37.955002  37.130001  37.389999  37.687500  164101200.0   \n...               ...        ...        ...        ...          ...   \n2019-12-23  71.062500  70.092499  70.132500  71.000000   98572000.0   \n2019-12-24  71.222504  70.730003  71.172501  71.067497   48478800.0   \n2019-12-26  72.495003  71.175003  71.205002  72.477501   93121200.0   \n2019-12-27  73.492500  72.029999  72.779999  72.449997  146266000.0   \n2019-12-30  73.172501  71.305000  72.364998  72.879997  144114400.0   \n\n            Adj Close       Date  \nDate                              \n2019-01-02  38.326290 2019-01-02  \n2019-01-03  34.508709 2019-01-03  \n2019-01-04  35.981861 2019-01-04  \n2019-01-07  35.901779 2019-01-07  \n2019-01-08  36.586178 2019-01-08  \n...               ...        ...  \n2019-12-23  69.960793 2019-12-23  \n2019-12-24  70.027313 2019-12-24  \n2019-12-26  71.416679 2019-12-26  \n2019-12-27  71.389557 2019-12-27  \n2019-12-30  71.813278 2019-12-30  \n\n[251 rows x 7 columns]",
      "text/html": "<div>\n<style scoped>\n    .dataframe tbody tr th:only-of-type {\n        vertical-align: middle;\n    }\n\n    .dataframe tbody tr th {\n        vertical-align: top;\n    }\n\n    .dataframe thead th {\n        text-align: right;\n    }\n</style>\n<table border=\"1\" class=\"dataframe\">\n  <thead>\n    <tr style=\"text-align: right;\">\n      <th></th>\n      <th>High</th>\n      <th>Low</th>\n      <th>Open</th>\n      <th>Close</th>\n      <th>Volume</th>\n      <th>Adj Close</th>\n      <th>Date</th>\n    </tr>\n    <tr>\n      <th>Date</th>\n      <th></th>\n      <th></th>\n      <th></th>\n      <th></th>\n      <th></th>\n      <th></th>\n      <th></th>\n    </tr>\n  </thead>\n  <tbody>\n    <tr>\n      <th>2019-01-02</th>\n      <td>39.712502</td>\n      <td>38.557499</td>\n      <td>38.722500</td>\n      <td>39.480000</td>\n      <td>148158800.0</td>\n      <td>38.326290</td>\n      <td>2019-01-02</td>\n    </tr>\n    <tr>\n      <th>2019-01-03</th>\n      <td>36.430000</td>\n      <td>35.500000</td>\n      <td>35.994999</td>\n      <td>35.547501</td>\n      <td>365248800.0</td>\n      <td>34.508709</td>\n      <td>2019-01-03</td>\n    </tr>\n    <tr>\n      <th>2019-01-04</th>\n      <td>37.137501</td>\n      <td>35.950001</td>\n      <td>36.132500</td>\n      <td>37.064999</td>\n      <td>234428400.0</td>\n      <td>35.981861</td>\n      <td>2019-01-04</td>\n    </tr>\n    <tr>\n      <th>2019-01-07</th>\n      <td>37.207500</td>\n      <td>36.474998</td>\n      <td>37.174999</td>\n      <td>36.982498</td>\n      <td>219111200.0</td>\n      <td>35.901779</td>\n      <td>2019-01-07</td>\n    </tr>\n    <tr>\n      <th>2019-01-08</th>\n      <td>37.955002</td>\n      <td>37.130001</td>\n      <td>37.389999</td>\n      <td>37.687500</td>\n      <td>164101200.0</td>\n      <td>36.586178</td>\n      <td>2019-01-08</td>\n    </tr>\n    <tr>\n      <th>...</th>\n      <td>...</td>\n      <td>...</td>\n      <td>...</td>\n      <td>...</td>\n      <td>...</td>\n      <td>...</td>\n      <td>...</td>\n    </tr>\n    <tr>\n      <th>2019-12-23</th>\n      <td>71.062500</td>\n      <td>70.092499</td>\n      <td>70.132500</td>\n      <td>71.000000</td>\n      <td>98572000.0</td>\n      <td>69.960793</td>\n      <td>2019-12-23</td>\n    </tr>\n    <tr>\n      <th>2019-12-24</th>\n      <td>71.222504</td>\n      <td>70.730003</td>\n      <td>71.172501</td>\n      <td>71.067497</td>\n      <td>48478800.0</td>\n      <td>70.027313</td>\n      <td>2019-12-24</td>\n    </tr>\n    <tr>\n      <th>2019-12-26</th>\n      <td>72.495003</td>\n      <td>71.175003</td>\n      <td>71.205002</td>\n      <td>72.477501</td>\n      <td>93121200.0</td>\n      <td>71.416679</td>\n      <td>2019-12-26</td>\n    </tr>\n    <tr>\n      <th>2019-12-27</th>\n      <td>73.492500</td>\n      <td>72.029999</td>\n      <td>72.779999</td>\n      <td>72.449997</td>\n      <td>146266000.0</td>\n      <td>71.389557</td>\n      <td>2019-12-27</td>\n    </tr>\n    <tr>\n      <th>2019-12-30</th>\n      <td>73.172501</td>\n      <td>71.305000</td>\n      <td>72.364998</td>\n      <td>72.879997</td>\n      <td>144114400.0</td>\n      <td>71.813278</td>\n      <td>2019-12-30</td>\n    </tr>\n  </tbody>\n</table>\n<p>251 rows × 7 columns</p>\n</div>"
     },
     "metadata": {}
    }
   ],
   "execution_count": null
  },
  {
   "cell_type": "code",
   "metadata": {
    "cell_id": "4274c48a-c590-4b01-a1a3-2ab174b77057",
    "tags": [],
    "deepnote_to_be_reexecuted": false,
    "source_hash": "62f4f5f7",
    "execution_start": 1642828075015,
    "execution_millis": 63,
    "deepnote_app_coordinates": {
     "x": 0,
     "y": 6,
     "w": 12,
     "h": 5
    },
    "deepnote_cell_type": "code"
   },
   "source": "# Formateamos los datos\n\ndf = pd.DataFrame({\n    \"Open\": dataframe['Open'],\n    \"Volume\": dataframe['Volume'],\n    \"High\": dataframe['High'],\n    \"Low\": dataframe['Low'],\n    \"Close\": dataframe['Close'],\n    \"Date\": dataframe['Date'].astype(str),\n    \"Adjclose\": dataframe['Adj Close'],\n})\ndf.head()",
   "outputs": [
    {
     "output_type": "execute_result",
     "execution_count": 4,
     "data": {
      "application/vnd.deepnote.dataframe.v3+json": {
       "column_count": 7,
       "row_count": 5,
       "columns": [
        {
         "name": "Open",
         "dtype": "float64",
         "stats": {
          "unique_count": 5,
          "nan_count": 0,
          "min": "35.994998931884766",
          "max": "38.72249984741211",
          "histogram": [
           {
            "bin_start": 35.994998931884766,
            "bin_end": 36.2677490234375,
            "count": 2
           },
           {
            "bin_start": 36.2677490234375,
            "bin_end": 36.54049911499023,
            "count": 0
           },
           {
            "bin_start": 36.54049911499023,
            "bin_end": 36.81324920654297,
            "count": 0
           },
           {
            "bin_start": 36.81324920654297,
            "bin_end": 37.0859992980957,
            "count": 0
           },
           {
            "bin_start": 37.0859992980957,
            "bin_end": 37.35874938964844,
            "count": 1
           },
           {
            "bin_start": 37.35874938964844,
            "bin_end": 37.631499481201175,
            "count": 1
           },
           {
            "bin_start": 37.631499481201175,
            "bin_end": 37.904249572753905,
            "count": 0
           },
           {
            "bin_start": 37.904249572753905,
            "bin_end": 38.17699966430664,
            "count": 0
           },
           {
            "bin_start": 38.17699966430664,
            "bin_end": 38.44974975585937,
            "count": 0
           },
           {
            "bin_start": 38.44974975585937,
            "bin_end": 38.72249984741211,
            "count": 1
           }
          ]
         }
        },
        {
         "name": "Volume",
         "dtype": "float64",
         "stats": {
          "unique_count": 5,
          "nan_count": 0,
          "min": "148158800.0",
          "max": "365248800.0",
          "histogram": [
           {
            "bin_start": 148158800,
            "bin_end": 169867800,
            "count": 2
           },
           {
            "bin_start": 169867800,
            "bin_end": 191576800,
            "count": 0
           },
           {
            "bin_start": 191576800,
            "bin_end": 213285800,
            "count": 0
           },
           {
            "bin_start": 213285800,
            "bin_end": 234994800,
            "count": 2
           },
           {
            "bin_start": 234994800,
            "bin_end": 256703800,
            "count": 0
           },
           {
            "bin_start": 256703800,
            "bin_end": 278412800,
            "count": 0
           },
           {
            "bin_start": 278412800,
            "bin_end": 300121800,
            "count": 0
           },
           {
            "bin_start": 300121800,
            "bin_end": 321830800,
            "count": 0
           },
           {
            "bin_start": 321830800,
            "bin_end": 343539800,
            "count": 0
           },
           {
            "bin_start": 343539800,
            "bin_end": 365248800,
            "count": 1
           }
          ]
         }
        },
        {
         "name": "High",
         "dtype": "float64",
         "stats": {
          "unique_count": 5,
          "nan_count": 0,
          "min": "36.43000030517578",
          "max": "39.712501525878906",
          "histogram": [
           {
            "bin_start": 36.43000030517578,
            "bin_end": 36.7582504272461,
            "count": 1
           },
           {
            "bin_start": 36.7582504272461,
            "bin_end": 37.086500549316405,
            "count": 0
           },
           {
            "bin_start": 37.086500549316405,
            "bin_end": 37.41475067138672,
            "count": 2
           },
           {
            "bin_start": 37.41475067138672,
            "bin_end": 37.74300079345703,
            "count": 0
           },
           {
            "bin_start": 37.74300079345703,
            "bin_end": 38.071250915527344,
            "count": 1
           },
           {
            "bin_start": 38.071250915527344,
            "bin_end": 38.39950103759766,
            "count": 0
           },
           {
            "bin_start": 38.39950103759766,
            "bin_end": 38.72775115966797,
            "count": 0
           },
           {
            "bin_start": 38.72775115966797,
            "bin_end": 39.05600128173828,
            "count": 0
           },
           {
            "bin_start": 39.05600128173828,
            "bin_end": 39.38425140380859,
            "count": 0
           },
           {
            "bin_start": 39.38425140380859,
            "bin_end": 39.712501525878906,
            "count": 1
           }
          ]
         }
        },
        {
         "name": "Low",
         "dtype": "float64",
         "stats": {
          "unique_count": 5,
          "nan_count": 0,
          "min": "35.5",
          "max": "38.557498931884766",
          "histogram": [
           {
            "bin_start": 35.5,
            "bin_end": 35.80574989318848,
            "count": 1
           },
           {
            "bin_start": 35.80574989318848,
            "bin_end": 36.11149978637695,
            "count": 1
           },
           {
            "bin_start": 36.11149978637695,
            "bin_end": 36.41724967956543,
            "count": 0
           },
           {
            "bin_start": 36.41724967956543,
            "bin_end": 36.722999572753906,
            "count": 1
           },
           {
            "bin_start": 36.722999572753906,
            "bin_end": 37.02874946594238,
            "count": 0
           },
           {
            "bin_start": 37.02874946594238,
            "bin_end": 37.33449935913086,
            "count": 1
           },
           {
            "bin_start": 37.33449935913086,
            "bin_end": 37.640249252319336,
            "count": 0
           },
           {
            "bin_start": 37.640249252319336,
            "bin_end": 37.94599914550781,
            "count": 0
           },
           {
            "bin_start": 37.94599914550781,
            "bin_end": 38.25174903869629,
            "count": 0
           },
           {
            "bin_start": 38.25174903869629,
            "bin_end": 38.557498931884766,
            "count": 1
           }
          ]
         }
        },
        {
         "name": "Close",
         "dtype": "float64",
         "stats": {
          "unique_count": 5,
          "nan_count": 0,
          "min": "35.54750061035156",
          "max": "39.47999954223633",
          "histogram": [
           {
            "bin_start": 35.54750061035156,
            "bin_end": 35.94075050354004,
            "count": 1
           },
           {
            "bin_start": 35.94075050354004,
            "bin_end": 36.33400039672851,
            "count": 0
           },
           {
            "bin_start": 36.33400039672851,
            "bin_end": 36.727250289916995,
            "count": 0
           },
           {
            "bin_start": 36.727250289916995,
            "bin_end": 37.12050018310547,
            "count": 2
           },
           {
            "bin_start": 37.12050018310547,
            "bin_end": 37.513750076293945,
            "count": 0
           },
           {
            "bin_start": 37.513750076293945,
            "bin_end": 37.90699996948242,
            "count": 1
           },
           {
            "bin_start": 37.90699996948242,
            "bin_end": 38.300249862670896,
            "count": 0
           },
           {
            "bin_start": 38.300249862670896,
            "bin_end": 38.69349975585938,
            "count": 0
           },
           {
            "bin_start": 38.69349975585938,
            "bin_end": 39.08674964904785,
            "count": 0
           },
           {
            "bin_start": 39.08674964904785,
            "bin_end": 39.47999954223633,
            "count": 1
           }
          ]
         }
        },
        {
         "name": "Date",
         "dtype": "object",
         "stats": {
          "unique_count": 5,
          "nan_count": 0,
          "categories": [
           {
            "name": "2019-01-02",
            "count": 1
           },
           {
            "name": "2019-01-03",
            "count": 1
           },
           {
            "name": "3 others",
            "count": 3
           }
          ]
         }
        },
        {
         "name": "Adjclose",
         "dtype": "float64",
         "stats": {
          "unique_count": 5,
          "nan_count": 0,
          "min": "34.50870895385742",
          "max": "38.326290130615234",
          "histogram": [
           {
            "bin_start": 34.50870895385742,
            "bin_end": 34.8904670715332,
            "count": 1
           },
           {
            "bin_start": 34.8904670715332,
            "bin_end": 35.27222518920898,
            "count": 0
           },
           {
            "bin_start": 35.27222518920898,
            "bin_end": 35.65398330688477,
            "count": 0
           },
           {
            "bin_start": 35.65398330688477,
            "bin_end": 36.03574142456055,
            "count": 2
           },
           {
            "bin_start": 36.03574142456055,
            "bin_end": 36.41749954223633,
            "count": 0
           },
           {
            "bin_start": 36.41749954223633,
            "bin_end": 36.79925765991211,
            "count": 1
           },
           {
            "bin_start": 36.79925765991211,
            "bin_end": 37.18101577758789,
            "count": 0
           },
           {
            "bin_start": 37.18101577758789,
            "bin_end": 37.562773895263675,
            "count": 0
           },
           {
            "bin_start": 37.562773895263675,
            "bin_end": 37.944532012939455,
            "count": 0
           },
           {
            "bin_start": 37.944532012939455,
            "bin_end": 38.326290130615234,
            "count": 1
           }
          ]
         }
        },
        {
         "name": "_deepnote_index_column",
         "dtype": "datetime64[ns]"
        }
       ],
       "rows": [
        {
         "Open": 38.72249984741211,
         "Volume": 148158800,
         "High": 39.712501525878906,
         "Low": 38.557498931884766,
         "Close": 39.47999954223633,
         "Date": "2019-01-02",
         "Adjclose": 38.326290130615234,
         "_deepnote_index_column": "2019-01-02T00:00:00.000000"
        },
        {
         "Open": 35.994998931884766,
         "Volume": 365248800,
         "High": 36.43000030517578,
         "Low": 35.5,
         "Close": 35.54750061035156,
         "Date": "2019-01-03",
         "Adjclose": 34.50870895385742,
         "_deepnote_index_column": "2019-01-03T00:00:00.000000"
        },
        {
         "Open": 36.13249969482422,
         "Volume": 234428400,
         "High": 37.13750076293945,
         "Low": 35.95000076293945,
         "Close": 37.064998626708984,
         "Date": "2019-01-04",
         "Adjclose": 35.98186111450195,
         "_deepnote_index_column": "2019-01-04T00:00:00.000000"
        },
        {
         "Open": 37.17499923706055,
         "Volume": 219111200,
         "High": 37.20750045776367,
         "Low": 36.474998474121094,
         "Close": 36.98249816894531,
         "Date": "2019-01-07",
         "Adjclose": 35.90177917480469,
         "_deepnote_index_column": "2019-01-07T00:00:00.000000"
        },
        {
         "Open": 37.38999938964844,
         "Volume": 164101200,
         "High": 37.95500183105469,
         "Low": 37.130001068115234,
         "Close": 37.6875,
         "Date": "2019-01-08",
         "Adjclose": 36.586177825927734,
         "_deepnote_index_column": "2019-01-08T00:00:00.000000"
        }
       ]
      },
      "text/plain": "                 Open       Volume       High        Low      Close  \\\nDate                                                                  \n2019-01-02  38.722500  148158800.0  39.712502  38.557499  39.480000   \n2019-01-03  35.994999  365248800.0  36.430000  35.500000  35.547501   \n2019-01-04  36.132500  234428400.0  37.137501  35.950001  37.064999   \n2019-01-07  37.174999  219111200.0  37.207500  36.474998  36.982498   \n2019-01-08  37.389999  164101200.0  37.955002  37.130001  37.687500   \n\n                  Date   Adjclose  \nDate                               \n2019-01-02  2019-01-02  38.326290  \n2019-01-03  2019-01-03  34.508709  \n2019-01-04  2019-01-04  35.981861  \n2019-01-07  2019-01-07  35.901779  \n2019-01-08  2019-01-08  36.586178  ",
      "text/html": "<div>\n<style scoped>\n    .dataframe tbody tr th:only-of-type {\n        vertical-align: middle;\n    }\n\n    .dataframe tbody tr th {\n        vertical-align: top;\n    }\n\n    .dataframe thead th {\n        text-align: right;\n    }\n</style>\n<table border=\"1\" class=\"dataframe\">\n  <thead>\n    <tr style=\"text-align: right;\">\n      <th></th>\n      <th>Open</th>\n      <th>Volume</th>\n      <th>High</th>\n      <th>Low</th>\n      <th>Close</th>\n      <th>Date</th>\n      <th>Adjclose</th>\n    </tr>\n    <tr>\n      <th>Date</th>\n      <th></th>\n      <th></th>\n      <th></th>\n      <th></th>\n      <th></th>\n      <th></th>\n      <th></th>\n    </tr>\n  </thead>\n  <tbody>\n    <tr>\n      <th>2019-01-02</th>\n      <td>38.722500</td>\n      <td>148158800.0</td>\n      <td>39.712502</td>\n      <td>38.557499</td>\n      <td>39.480000</td>\n      <td>2019-01-02</td>\n      <td>38.326290</td>\n    </tr>\n    <tr>\n      <th>2019-01-03</th>\n      <td>35.994999</td>\n      <td>365248800.0</td>\n      <td>36.430000</td>\n      <td>35.500000</td>\n      <td>35.547501</td>\n      <td>2019-01-03</td>\n      <td>34.508709</td>\n    </tr>\n    <tr>\n      <th>2019-01-04</th>\n      <td>36.132500</td>\n      <td>234428400.0</td>\n      <td>37.137501</td>\n      <td>35.950001</td>\n      <td>37.064999</td>\n      <td>2019-01-04</td>\n      <td>35.981861</td>\n    </tr>\n    <tr>\n      <th>2019-01-07</th>\n      <td>37.174999</td>\n      <td>219111200.0</td>\n      <td>37.207500</td>\n      <td>36.474998</td>\n      <td>36.982498</td>\n      <td>2019-01-07</td>\n      <td>35.901779</td>\n    </tr>\n    <tr>\n      <th>2019-01-08</th>\n      <td>37.389999</td>\n      <td>164101200.0</td>\n      <td>37.955002</td>\n      <td>37.130001</td>\n      <td>37.687500</td>\n      <td>2019-01-08</td>\n      <td>36.586178</td>\n    </tr>\n  </tbody>\n</table>\n</div>"
     },
     "metadata": {}
    }
   ],
   "execution_count": null
  },
  {
   "cell_type": "code",
   "metadata": {
    "cell_id": "f96d2f2d-0ae8-4ce7-9cbf-eb463dd481da",
    "tags": [],
    "deepnote_to_be_reexecuted": false,
    "source_hash": "f58a4ee1",
    "execution_start": 1642828075085,
    "execution_millis": 80,
    "deepnote_app_coordinates": {
     "x": 0,
     "y": 12,
     "w": 12,
     "h": 5
    },
    "deepnote_cell_type": "code"
   },
   "source": "# Changes The Date column as index columns\ndf.index = pd.to_datetime(df['Date'])\ndf\n  \n# drop The original date column\ndf = df.drop(['Date'], axis='columns')\ndf",
   "outputs": [
    {
     "output_type": "execute_result",
     "execution_count": 5,
     "data": {
      "application/vnd.deepnote.dataframe.v3+json": {
       "column_count": 6,
       "row_count": 251,
       "columns": [
        {
         "name": "Open",
         "dtype": "float64",
         "stats": {
          "unique_count": 246,
          "nan_count": 0,
          "min": "35.994998931884766",
          "max": "72.77999877929688",
          "histogram": [
           {
            "bin_start": 35.994998931884766,
            "bin_end": 39.673498916625974,
            "count": 19
           },
           {
            "bin_start": 39.673498916625974,
            "bin_end": 43.35199890136719,
            "count": 18
           },
           {
            "bin_start": 43.35199890136719,
            "bin_end": 47.0304988861084,
            "count": 34
           },
           {
            "bin_start": 47.0304988861084,
            "bin_end": 50.70899887084961,
            "count": 53
           },
           {
            "bin_start": 50.70899887084961,
            "bin_end": 54.38749885559082,
            "count": 50
           },
           {
            "bin_start": 54.38749885559082,
            "bin_end": 58.06599884033203,
            "count": 22
           },
           {
            "bin_start": 58.06599884033203,
            "bin_end": 61.74449882507324,
            "count": 12
           },
           {
            "bin_start": 61.74449882507324,
            "bin_end": 65.42299880981446,
            "count": 14
           },
           {
            "bin_start": 65.42299880981446,
            "bin_end": 69.10149879455565,
            "count": 19
           },
           {
            "bin_start": 69.10149879455565,
            "bin_end": 72.77999877929688,
            "count": 10
           }
          ]
         }
        },
        {
         "name": "Volume",
         "dtype": "float64",
         "stats": {
          "unique_count": 250,
          "nan_count": 0,
          "min": "45448000.0",
          "max": "365248800.0",
          "histogram": [
           {
            "bin_start": 45448000,
            "bin_end": 77428080,
            "count": 47
           },
           {
            "bin_start": 77428080,
            "bin_end": 109408160,
            "count": 101
           },
           {
            "bin_start": 109408160,
            "bin_end": 141388240,
            "count": 59
           },
           {
            "bin_start": 141388240,
            "bin_end": 173368320,
            "count": 24
           },
           {
            "bin_start": 173368320,
            "bin_end": 205348400,
            "count": 9
           },
           {
            "bin_start": 205348400,
            "bin_end": 237328480,
            "count": 6
           },
           {
            "bin_start": 237328480,
            "bin_end": 269308560,
            "count": 2
           },
           {
            "bin_start": 269308560,
            "bin_end": 301288640,
            "count": 2
           },
           {
            "bin_start": 301288640,
            "bin_end": 333268720,
            "count": 0
           },
           {
            "bin_start": 333268720,
            "bin_end": 365248800,
            "count": 1
           }
          ]
         }
        },
        {
         "name": "High",
         "dtype": "float64",
         "stats": {
          "unique_count": 248,
          "nan_count": 0,
          "min": "36.43000030517578",
          "max": "73.49250030517578",
          "histogram": [
           {
            "bin_start": 36.43000030517578,
            "bin_end": 40.13625030517578,
            "count": 19
           },
           {
            "bin_start": 40.13625030517578,
            "bin_end": 43.84250030517578,
            "count": 22
           },
           {
            "bin_start": 43.84250030517578,
            "bin_end": 47.54875030517578,
            "count": 31
           },
           {
            "bin_start": 47.54875030517578,
            "bin_end": 51.255000305175784,
            "count": 56
           },
           {
            "bin_start": 51.255000305175784,
            "bin_end": 54.96125030517578,
            "count": 46
           },
           {
            "bin_start": 54.96125030517578,
            "bin_end": 58.66750030517578,
            "count": 22
           },
           {
            "bin_start": 58.66750030517578,
            "bin_end": 62.373750305175776,
            "count": 14
           },
           {
            "bin_start": 62.373750305175776,
            "bin_end": 66.08000030517579,
            "count": 13
           },
           {
            "bin_start": 66.08000030517579,
            "bin_end": 69.78625030517577,
            "count": 18
           },
           {
            "bin_start": 69.78625030517577,
            "bin_end": 73.49250030517578,
            "count": 10
           }
          ]
         }
        },
        {
         "name": "Low",
         "dtype": "float64",
         "stats": {
          "unique_count": 249,
          "nan_count": 0,
          "min": "35.5",
          "max": "72.02999877929688",
          "histogram": [
           {
            "bin_start": 35.5,
            "bin_end": 39.15299987792969,
            "count": 19
           },
           {
            "bin_start": 39.15299987792969,
            "bin_end": 42.805999755859375,
            "count": 16
           },
           {
            "bin_start": 42.805999755859375,
            "bin_end": 46.45899963378906,
            "count": 35
           },
           {
            "bin_start": 46.45899963378906,
            "bin_end": 50.11199951171875,
            "count": 50
           },
           {
            "bin_start": 50.11199951171875,
            "bin_end": 53.76499938964844,
            "count": 54
           },
           {
            "bin_start": 53.76499938964844,
            "bin_end": 57.417999267578125,
            "count": 22
           },
           {
            "bin_start": 57.417999267578125,
            "bin_end": 61.07099914550781,
            "count": 14
           },
           {
            "bin_start": 61.07099914550781,
            "bin_end": 64.7239990234375,
            "count": 9
           },
           {
            "bin_start": 64.7239990234375,
            "bin_end": 68.37699890136719,
            "count": 22
           },
           {
            "bin_start": 68.37699890136719,
            "bin_end": 72.02999877929688,
            "count": 10
           }
          ]
         }
        },
        {
         "name": "Close",
         "dtype": "float64",
         "stats": {
          "unique_count": 250,
          "nan_count": 0,
          "min": "35.54750061035156",
          "max": "72.87999725341797",
          "histogram": [
           {
            "bin_start": 35.54750061035156,
            "bin_end": 39.2807502746582,
            "count": 17
           },
           {
            "bin_start": 39.2807502746582,
            "bin_end": 43.013999938964844,
            "count": 16
           },
           {
            "bin_start": 43.013999938964844,
            "bin_end": 46.747249603271484,
            "count": 34
           },
           {
            "bin_start": 46.747249603271484,
            "bin_end": 50.480499267578125,
            "count": 53
           },
           {
            "bin_start": 50.480499267578125,
            "bin_end": 54.213748931884766,
            "count": 54
           },
           {
            "bin_start": 54.213748931884766,
            "bin_end": 57.946998596191406,
            "count": 22
           },
           {
            "bin_start": 57.946998596191406,
            "bin_end": 61.68024826049805,
            "count": 13
           },
           {
            "bin_start": 61.68024826049805,
            "bin_end": 65.41349792480469,
            "count": 9
           },
           {
            "bin_start": 65.41349792480469,
            "bin_end": 69.14674758911133,
            "count": 23
           },
           {
            "bin_start": 69.14674758911133,
            "bin_end": 72.87999725341797,
            "count": 10
           }
          ]
         }
        },
        {
         "name": "Adjclose",
         "dtype": "float64",
         "stats": {
          "unique_count": 251,
          "nan_count": 0,
          "min": "34.50870895385742",
          "max": "71.81327819824219",
          "histogram": [
           {
            "bin_start": 34.50870895385742,
            "bin_end": 38.2391658782959,
            "count": 17
           },
           {
            "bin_start": 38.2391658782959,
            "bin_end": 41.96962280273438,
            "count": 16
           },
           {
            "bin_start": 41.96962280273438,
            "bin_end": 45.70007972717285,
            "count": 34
           },
           {
            "bin_start": 45.70007972717285,
            "bin_end": 49.43053665161133,
            "count": 52
           },
           {
            "bin_start": 49.43053665161133,
            "bin_end": 53.160993576049805,
            "count": 54
           },
           {
            "bin_start": 53.160993576049805,
            "bin_end": 56.89145050048828,
            "count": 23
           },
           {
            "bin_start": 56.89145050048828,
            "bin_end": 60.62190742492676,
            "count": 13
           },
           {
            "bin_start": 60.62190742492676,
            "bin_end": 64.35236434936523,
            "count": 9
           },
           {
            "bin_start": 64.35236434936523,
            "bin_end": 68.08282127380372,
            "count": 23
           },
           {
            "bin_start": 68.08282127380372,
            "bin_end": 71.81327819824219,
            "count": 10
           }
          ]
         }
        },
        {
         "name": "_deepnote_index_column",
         "dtype": "datetime64[ns]"
        }
       ],
       "rows": [
        {
         "Open": 38.72249984741211,
         "Volume": 148158800,
         "High": 39.712501525878906,
         "Low": 38.557498931884766,
         "Close": 39.47999954223633,
         "Adjclose": 38.326290130615234,
         "_deepnote_index_column": "2019-01-02T00:00:00.000000"
        },
        {
         "Open": 35.994998931884766,
         "Volume": 365248800,
         "High": 36.43000030517578,
         "Low": 35.5,
         "Close": 35.54750061035156,
         "Adjclose": 34.50870895385742,
         "_deepnote_index_column": "2019-01-03T00:00:00.000000"
        },
        {
         "Open": 36.13249969482422,
         "Volume": 234428400,
         "High": 37.13750076293945,
         "Low": 35.95000076293945,
         "Close": 37.064998626708984,
         "Adjclose": 35.98186111450195,
         "_deepnote_index_column": "2019-01-04T00:00:00.000000"
        },
        {
         "Open": 37.17499923706055,
         "Volume": 219111200,
         "High": 37.20750045776367,
         "Low": 36.474998474121094,
         "Close": 36.98249816894531,
         "Adjclose": 35.90177917480469,
         "_deepnote_index_column": "2019-01-07T00:00:00.000000"
        },
        {
         "Open": 37.38999938964844,
         "Volume": 164101200,
         "High": 37.95500183105469,
         "Low": 37.130001068115234,
         "Close": 37.6875,
         "Adjclose": 36.586177825927734,
         "_deepnote_index_column": "2019-01-08T00:00:00.000000"
        },
        {
         "Open": 37.8224983215332,
         "Volume": 180396400,
         "High": 38.63249969482422,
         "Low": 37.407501220703125,
         "Close": 38.32749938964844,
         "Adjclose": 37.20747756958008,
         "_deepnote_index_column": "2019-01-09T00:00:00.000000"
        },
        {
         "Open": 38.125,
         "Volume": 143122800,
         "High": 38.49250030517578,
         "Low": 37.71500015258789,
         "Close": 38.45000076293945,
         "Adjclose": 37.32638931274414,
         "_deepnote_index_column": "2019-01-10T00:00:00.000000"
        },
        {
         "Open": 38.220001220703125,
         "Volume": 108092800,
         "High": 38.42499923706055,
         "Low": 37.877498626708984,
         "Close": 38.0724983215332,
         "Adjclose": 36.959922790527344,
         "_deepnote_index_column": "2019-01-11T00:00:00.000000"
        },
        {
         "Open": 37.712501525878906,
         "Volume": 129756800,
         "High": 37.817501068115234,
         "Low": 37.30500030517578,
         "Close": 37.5,
         "Adjclose": 36.404144287109375,
         "_deepnote_index_column": "2019-01-14T00:00:00.000000"
        },
        {
         "Open": 37.567501068115234,
         "Volume": 114843600,
         "High": 38.34749984741211,
         "Low": 37.51250076293945,
         "Close": 38.26750183105469,
         "Adjclose": 37.14923095703125,
         "_deepnote_index_column": "2019-01-15T00:00:00.000000"
        }
       ]
      },
      "text/plain": "                 Open       Volume       High        Low      Close   Adjclose\nDate                                                                          \n2019-01-02  38.722500  148158800.0  39.712502  38.557499  39.480000  38.326290\n2019-01-03  35.994999  365248800.0  36.430000  35.500000  35.547501  34.508709\n2019-01-04  36.132500  234428400.0  37.137501  35.950001  37.064999  35.981861\n2019-01-07  37.174999  219111200.0  37.207500  36.474998  36.982498  35.901779\n2019-01-08  37.389999  164101200.0  37.955002  37.130001  37.687500  36.586178\n...               ...          ...        ...        ...        ...        ...\n2019-12-23  70.132500   98572000.0  71.062500  70.092499  71.000000  69.960793\n2019-12-24  71.172501   48478800.0  71.222504  70.730003  71.067497  70.027313\n2019-12-26  71.205002   93121200.0  72.495003  71.175003  72.477501  71.416679\n2019-12-27  72.779999  146266000.0  73.492500  72.029999  72.449997  71.389557\n2019-12-30  72.364998  144114400.0  73.172501  71.305000  72.879997  71.813278\n\n[251 rows x 6 columns]",
      "text/html": "<div>\n<style scoped>\n    .dataframe tbody tr th:only-of-type {\n        vertical-align: middle;\n    }\n\n    .dataframe tbody tr th {\n        vertical-align: top;\n    }\n\n    .dataframe thead th {\n        text-align: right;\n    }\n</style>\n<table border=\"1\" class=\"dataframe\">\n  <thead>\n    <tr style=\"text-align: right;\">\n      <th></th>\n      <th>Open</th>\n      <th>Volume</th>\n      <th>High</th>\n      <th>Low</th>\n      <th>Close</th>\n      <th>Adjclose</th>\n    </tr>\n    <tr>\n      <th>Date</th>\n      <th></th>\n      <th></th>\n      <th></th>\n      <th></th>\n      <th></th>\n      <th></th>\n    </tr>\n  </thead>\n  <tbody>\n    <tr>\n      <th>2019-01-02</th>\n      <td>38.722500</td>\n      <td>148158800.0</td>\n      <td>39.712502</td>\n      <td>38.557499</td>\n      <td>39.480000</td>\n      <td>38.326290</td>\n    </tr>\n    <tr>\n      <th>2019-01-03</th>\n      <td>35.994999</td>\n      <td>365248800.0</td>\n      <td>36.430000</td>\n      <td>35.500000</td>\n      <td>35.547501</td>\n      <td>34.508709</td>\n    </tr>\n    <tr>\n      <th>2019-01-04</th>\n      <td>36.132500</td>\n      <td>234428400.0</td>\n      <td>37.137501</td>\n      <td>35.950001</td>\n      <td>37.064999</td>\n      <td>35.981861</td>\n    </tr>\n    <tr>\n      <th>2019-01-07</th>\n      <td>37.174999</td>\n      <td>219111200.0</td>\n      <td>37.207500</td>\n      <td>36.474998</td>\n      <td>36.982498</td>\n      <td>35.901779</td>\n    </tr>\n    <tr>\n      <th>2019-01-08</th>\n      <td>37.389999</td>\n      <td>164101200.0</td>\n      <td>37.955002</td>\n      <td>37.130001</td>\n      <td>37.687500</td>\n      <td>36.586178</td>\n    </tr>\n    <tr>\n      <th>...</th>\n      <td>...</td>\n      <td>...</td>\n      <td>...</td>\n      <td>...</td>\n      <td>...</td>\n      <td>...</td>\n    </tr>\n    <tr>\n      <th>2019-12-23</th>\n      <td>70.132500</td>\n      <td>98572000.0</td>\n      <td>71.062500</td>\n      <td>70.092499</td>\n      <td>71.000000</td>\n      <td>69.960793</td>\n    </tr>\n    <tr>\n      <th>2019-12-24</th>\n      <td>71.172501</td>\n      <td>48478800.0</td>\n      <td>71.222504</td>\n      <td>70.730003</td>\n      <td>71.067497</td>\n      <td>70.027313</td>\n    </tr>\n    <tr>\n      <th>2019-12-26</th>\n      <td>71.205002</td>\n      <td>93121200.0</td>\n      <td>72.495003</td>\n      <td>71.175003</td>\n      <td>72.477501</td>\n      <td>71.416679</td>\n    </tr>\n    <tr>\n      <th>2019-12-27</th>\n      <td>72.779999</td>\n      <td>146266000.0</td>\n      <td>73.492500</td>\n      <td>72.029999</td>\n      <td>72.449997</td>\n      <td>71.389557</td>\n    </tr>\n    <tr>\n      <th>2019-12-30</th>\n      <td>72.364998</td>\n      <td>144114400.0</td>\n      <td>73.172501</td>\n      <td>71.305000</td>\n      <td>72.879997</td>\n      <td>71.813278</td>\n    </tr>\n  </tbody>\n</table>\n<p>251 rows × 6 columns</p>\n</div>"
     },
     "metadata": {}
    }
   ],
   "execution_count": null
  },
  {
   "cell_type": "code",
   "metadata": {
    "cell_id": "85796853-f76c-403b-98fd-446f81a0a12b",
    "tags": [],
    "deepnote_to_be_reexecuted": false,
    "source_hash": "e6fe5c2c",
    "execution_start": 1642828075169,
    "execution_millis": 263,
    "deepnote_app_coordinates": {
     "x": 0,
     "y": 18,
     "w": 12,
     "h": 5
    },
    "deepnote_cell_type": "code"
   },
   "source": "\n# Create predictor variables\ndf['Open-Close'] = df.Open - df.Close\ndf['High-Low'] = df.High - df.Low\n  \n# Store all predictor variables in a variable X\nX = df[['Open-Close', 'High-Low']]\nX.head()",
   "outputs": [
    {
     "output_type": "execute_result",
     "execution_count": 6,
     "data": {
      "application/vnd.deepnote.dataframe.v3+json": {
       "column_count": 2,
       "row_count": 5,
       "columns": [
        {
         "name": "Open-Close",
         "dtype": "float64",
         "stats": {
          "unique_count": 5,
          "nan_count": 0,
          "min": "-0.9324989318847656",
          "max": "0.4474983215332031",
          "histogram": [
           {
            "bin_start": -0.9324989318847656,
            "bin_end": -0.7944992065429688,
            "count": 1
           },
           {
            "bin_start": -0.7944992065429688,
            "bin_end": -0.6564994812011719,
            "count": 1
           },
           {
            "bin_start": -0.6564994812011719,
            "bin_end": -0.5184997558593749,
            "count": 0
           },
           {
            "bin_start": -0.5184997558593749,
            "bin_end": -0.3805000305175781,
            "count": 0
           },
           {
            "bin_start": -0.3805000305175781,
            "bin_end": -0.24250030517578125,
            "count": 1
           },
           {
            "bin_start": -0.24250030517578125,
            "bin_end": -0.10450057983398431,
            "count": 0
           },
           {
            "bin_start": -0.10450057983398431,
            "bin_end": 0.03349914550781263,
            "count": 0
           },
           {
            "bin_start": 0.03349914550781263,
            "bin_end": 0.17149887084960946,
            "count": 0
           },
           {
            "bin_start": 0.17149887084960946,
            "bin_end": 0.3094985961914063,
            "count": 1
           },
           {
            "bin_start": 0.3094985961914063,
            "bin_end": 0.4474983215332031,
            "count": 1
           }
          ]
         }
        },
        {
         "name": "High-Low",
         "dtype": "float64",
         "stats": {
          "unique_count": 5,
          "nan_count": 0,
          "min": "0.7325019836425781",
          "max": "1.1875",
          "histogram": [
           {
            "bin_start": 0.7325019836425781,
            "bin_end": 0.7780017852783203,
            "count": 1
           },
           {
            "bin_start": 0.7780017852783203,
            "bin_end": 0.8235015869140625,
            "count": 0
           },
           {
            "bin_start": 0.8235015869140625,
            "bin_end": 0.8690013885498047,
            "count": 1
           },
           {
            "bin_start": 0.8690013885498047,
            "bin_end": 0.9145011901855469,
            "count": 0
           },
           {
            "bin_start": 0.9145011901855469,
            "bin_end": 0.9600009918212891,
            "count": 1
           },
           {
            "bin_start": 0.9600009918212891,
            "bin_end": 1.0055007934570312,
            "count": 0
           },
           {
            "bin_start": 1.0055007934570312,
            "bin_end": 1.0510005950927734,
            "count": 0
           },
           {
            "bin_start": 1.0510005950927734,
            "bin_end": 1.0965003967285156,
            "count": 0
           },
           {
            "bin_start": 1.0965003967285156,
            "bin_end": 1.1420001983642578,
            "count": 0
           },
           {
            "bin_start": 1.1420001983642578,
            "bin_end": 1.1875,
            "count": 2
           }
          ]
         }
        },
        {
         "name": "_deepnote_index_column",
         "dtype": "datetime64[ns]"
        }
       ],
       "rows": [
        {
         "Open-Close": -0.7574996948242188,
         "High-Low": 1.1550025939941406,
         "_deepnote_index_column": "2019-01-02T00:00:00.000000"
        },
        {
         "Open-Close": 0.4474983215332031,
         "High-Low": 0.9300003051757812,
         "_deepnote_index_column": "2019-01-03T00:00:00.000000"
        },
        {
         "Open-Close": -0.9324989318847656,
         "High-Low": 1.1875,
         "_deepnote_index_column": "2019-01-04T00:00:00.000000"
        },
        {
         "Open-Close": 0.19250106811523438,
         "High-Low": 0.7325019836425781,
         "_deepnote_index_column": "2019-01-07T00:00:00.000000"
        },
        {
         "Open-Close": -0.2975006103515625,
         "High-Low": 0.8250007629394531,
         "_deepnote_index_column": "2019-01-08T00:00:00.000000"
        }
       ]
      },
      "text/plain": "            Open-Close  High-Low\nDate                            \n2019-01-02   -0.757500  1.155003\n2019-01-03    0.447498  0.930000\n2019-01-04   -0.932499  1.187500\n2019-01-07    0.192501  0.732502\n2019-01-08   -0.297501  0.825001",
      "text/html": "<div>\n<style scoped>\n    .dataframe tbody tr th:only-of-type {\n        vertical-align: middle;\n    }\n\n    .dataframe tbody tr th {\n        vertical-align: top;\n    }\n\n    .dataframe thead th {\n        text-align: right;\n    }\n</style>\n<table border=\"1\" class=\"dataframe\">\n  <thead>\n    <tr style=\"text-align: right;\">\n      <th></th>\n      <th>Open-Close</th>\n      <th>High-Low</th>\n    </tr>\n    <tr>\n      <th>Date</th>\n      <th></th>\n      <th></th>\n    </tr>\n  </thead>\n  <tbody>\n    <tr>\n      <th>2019-01-02</th>\n      <td>-0.757500</td>\n      <td>1.155003</td>\n    </tr>\n    <tr>\n      <th>2019-01-03</th>\n      <td>0.447498</td>\n      <td>0.930000</td>\n    </tr>\n    <tr>\n      <th>2019-01-04</th>\n      <td>-0.932499</td>\n      <td>1.187500</td>\n    </tr>\n    <tr>\n      <th>2019-01-07</th>\n      <td>0.192501</td>\n      <td>0.732502</td>\n    </tr>\n    <tr>\n      <th>2019-01-08</th>\n      <td>-0.297501</td>\n      <td>0.825001</td>\n    </tr>\n  </tbody>\n</table>\n</div>"
     },
     "metadata": {}
    }
   ],
   "execution_count": null
  },
  {
   "cell_type": "code",
   "metadata": {
    "cell_id": "fb08053a-6a2f-4567-94b9-b9fd1847dd07",
    "tags": [],
    "deepnote_to_be_reexecuted": false,
    "source_hash": "657fb411",
    "execution_start": 1642828075201,
    "execution_millis": 307,
    "deepnote_output_heights": [
     232
    ],
    "deepnote_app_coordinates": {
     "x": 0,
     "y": 24,
     "w": 12,
     "h": 5
    },
    "deepnote_cell_type": "code"
   },
   "source": "\n# Target variables\ny = np.where(df['Close'].shift(-1) > df['Close'], 1, 0)\ny",
   "outputs": [
    {
     "output_type": "execute_result",
     "execution_count": 7,
     "data": {
      "text/plain": "array([0, 1, 0, 1, 1, 1, 0, 0, 1, 1, 1, 1, 0, 1, 0, 1, 0, 0, 1, 1, 1, 1,\n       1, 1, 0, 0, 0, 1, 0, 1, 0, 1, 1, 0, 1, 1, 1, 1, 0, 1, 1, 0, 0, 0,\n       1, 1, 1, 1, 1, 1, 1, 0, 1, 1, 0, 0, 0, 1, 1, 1, 1, 1, 1, 1, 1, 1,\n       0, 1, 0, 0, 1, 1, 1, 1, 1, 1, 0, 0, 0, 1, 0, 1, 0, 1, 0, 0, 1, 0,\n       0, 0, 1, 1, 0, 0, 0, 1, 0, 0, 0, 0, 0, 1, 0, 0, 1, 1, 1, 1, 1, 1,\n       0, 0, 0, 1, 1, 0, 1, 0, 0, 0, 1, 0, 0, 1, 1, 1, 0, 0, 1, 1, 0, 1,\n       1, 0, 0, 1, 0, 1, 1, 0, 0, 1, 1, 0, 1, 0, 0, 0, 1, 1, 1, 0, 0, 1,\n       0, 0, 1, 1, 1, 1, 0, 0, 1, 0, 1, 1, 0, 0, 1, 1, 0, 1, 1, 1, 0, 0,\n       1, 1, 1, 0, 0, 1, 0, 1, 0, 0, 1, 1, 0, 1, 1, 1, 0, 1, 1, 1, 0, 0,\n       0, 1, 1, 1, 0, 1, 1, 1, 1, 0, 0, 1, 1, 1, 0, 1, 1, 1, 1, 0, 1, 0,\n       1, 1, 0, 0, 0, 0, 1, 0, 1, 0, 0, 0, 1, 1, 1, 0, 1, 1, 1, 1, 1, 1,\n       0, 1, 0, 1, 1, 1, 0, 1, 0])"
     },
     "metadata": {}
    }
   ],
   "execution_count": null
  },
  {
   "cell_type": "code",
   "metadata": {
    "cell_id": "65d4a02b-b18c-450e-834d-e69b192edb37",
    "tags": [],
    "deepnote_to_be_reexecuted": false,
    "source_hash": "d9691210",
    "execution_start": 1642828075245,
    "execution_millis": 0,
    "deepnote_app_coordinates": {
     "x": 0,
     "y": 30,
     "w": 12,
     "h": 5
    },
    "deepnote_cell_type": "code"
   },
   "source": "split_percentage = 0.8\nsplit = int(split_percentage*len(df))\n  \n# Train data set\nX_train = X[:split]\ny_train = y[:split]\n  \n# Test data set\nX_test = X[split:]\ny_test = y[split:]",
   "outputs": [],
   "execution_count": null
  },
  {
   "cell_type": "code",
   "metadata": {
    "cell_id": "e4041089-2215-421f-892e-8ad0c4799016",
    "tags": [],
    "deepnote_to_be_reexecuted": false,
    "source_hash": "6624fac7",
    "execution_start": 1642828075246,
    "execution_millis": 266,
    "deepnote_app_coordinates": {
     "x": 0,
     "y": 36,
     "w": 12,
     "h": 5
    },
    "deepnote_output_heights": [
     51.1875
    ],
    "deepnote_cell_type": "code"
   },
   "source": "\n# Support vector classifier\ncls = SVC().fit(X_train, y_train)\n\ny_prediction = cls.predict(X_test)\n\nprint(precision_score(y_test, y_prediction, average='micro'))\n\nprint(y_prediction)\nprint(y_test)\n",
   "outputs": [
    {
     "name": "stdout",
     "text": "0.6274509803921569\n[1 1 1 1 1 1 1 1 1 1 1 0 1 1 1 1 1 1 1 1 1 1 1 1 1 1 1 1 1 1 1 1 1 1 1 1 1\n 1 1 1 1 1 1 1 1 1 1 1 0 1 1]\n[1 1 0 1 1 1 1 0 0 1 1 1 0 1 1 1 1 0 1 0 1 1 0 0 0 0 1 0 1 0 0 0 1 1 1 0 1\n 1 1 1 1 1 0 1 0 1 1 1 0 1 0]\n",
     "output_type": "stream"
    }
   ],
   "execution_count": null
  },
  {
   "cell_type": "code",
   "metadata": {
    "cell_id": "ff6776d5-a6d1-4635-b639-3b29d18f2e24",
    "tags": [],
    "deepnote_to_be_reexecuted": false,
    "source_hash": "a2bfa225",
    "execution_start": 1642828075247,
    "execution_millis": 0,
    "deepnote_app_coordinates": {
     "x": 0,
     "y": 42,
     "w": 12,
     "h": 5
    },
    "deepnote_cell_type": "code"
   },
   "source": "df['Predicted_Signal'] = cls.predict(X)",
   "outputs": [],
   "execution_count": null
  },
  {
   "cell_type": "code",
   "metadata": {
    "cell_id": "7ce39470-0764-4a62-bfbd-cfbd7bfc5160",
    "tags": [],
    "deepnote_to_be_reexecuted": false,
    "source_hash": "6aaa66fe",
    "execution_start": 1642828075248,
    "execution_millis": 3,
    "deepnote_app_coordinates": {
     "x": 0,
     "y": 48,
     "w": 12,
     "h": 5
    },
    "deepnote_cell_type": "code"
   },
   "source": "# Calculate daily returns\ndf['Return'] = df.Close.pct_change()",
   "outputs": [],
   "execution_count": null
  },
  {
   "cell_type": "code",
   "metadata": {
    "cell_id": "e355df3f-1050-4dac-920b-c7a40bd5f49b",
    "tags": [],
    "deepnote_to_be_reexecuted": false,
    "source_hash": "6d59fd09",
    "execution_start": 1642828075254,
    "execution_millis": 4,
    "deepnote_app_coordinates": {
     "x": 0,
     "y": 54,
     "w": 12,
     "h": 5
    },
    "deepnote_cell_type": "code"
   },
   "source": "\n# Calculate strategy returns\ndf['Strategy_Return'] = df.Return * df.Predicted_Signal.shift(1)",
   "outputs": [],
   "execution_count": null
  },
  {
   "cell_type": "code",
   "metadata": {
    "cell_id": "395425d7-ac7c-4e9a-98cd-d2a05019fcbc",
    "tags": [],
    "deepnote_to_be_reexecuted": false,
    "source_hash": "4bd7eac6",
    "execution_start": 1642828075261,
    "execution_millis": 253,
    "deepnote_app_coordinates": {
     "x": 0,
     "y": 60,
     "w": 12,
     "h": 5
    },
    "deepnote_cell_type": "code"
   },
   "source": "# Calculate Cumulutive returns\ndf['Cum_Ret'] = df['Return'].cumsum()\ndf.tail()",
   "outputs": [
    {
     "output_type": "execute_result",
     "execution_count": 13,
     "data": {
      "application/vnd.deepnote.dataframe.v3+json": {
       "column_count": 12,
       "row_count": 5,
       "columns": [
        {
         "name": "Open",
         "dtype": "float64",
         "stats": {
          "unique_count": 5,
          "nan_count": 0,
          "min": "70.13249969482422",
          "max": "72.77999877929688",
          "histogram": [
           {
            "bin_start": 70.13249969482422,
            "bin_end": 70.39724960327149,
            "count": 1
           },
           {
            "bin_start": 70.39724960327149,
            "bin_end": 70.66199951171875,
            "count": 0
           },
           {
            "bin_start": 70.66199951171875,
            "bin_end": 70.92674942016602,
            "count": 0
           },
           {
            "bin_start": 70.92674942016602,
            "bin_end": 71.19149932861328,
            "count": 1
           },
           {
            "bin_start": 71.19149932861328,
            "bin_end": 71.45624923706055,
            "count": 1
           },
           {
            "bin_start": 71.45624923706055,
            "bin_end": 71.72099914550782,
            "count": 0
           },
           {
            "bin_start": 71.72099914550782,
            "bin_end": 71.98574905395508,
            "count": 0
           },
           {
            "bin_start": 71.98574905395508,
            "bin_end": 72.25049896240235,
            "count": 0
           },
           {
            "bin_start": 72.25049896240235,
            "bin_end": 72.5152488708496,
            "count": 1
           },
           {
            "bin_start": 72.5152488708496,
            "bin_end": 72.77999877929688,
            "count": 1
           }
          ]
         }
        },
        {
         "name": "Volume",
         "dtype": "float64",
         "stats": {
          "unique_count": 5,
          "nan_count": 0,
          "min": "48478800.0",
          "max": "146266000.0",
          "histogram": [
           {
            "bin_start": 48478800,
            "bin_end": 58257520,
            "count": 1
           },
           {
            "bin_start": 58257520,
            "bin_end": 68036240,
            "count": 0
           },
           {
            "bin_start": 68036240,
            "bin_end": 77814960,
            "count": 0
           },
           {
            "bin_start": 77814960,
            "bin_end": 87593680,
            "count": 0
           },
           {
            "bin_start": 87593680,
            "bin_end": 97372400,
            "count": 1
           },
           {
            "bin_start": 97372400,
            "bin_end": 107151120,
            "count": 1
           },
           {
            "bin_start": 107151120,
            "bin_end": 116929840,
            "count": 0
           },
           {
            "bin_start": 116929840,
            "bin_end": 126708560,
            "count": 0
           },
           {
            "bin_start": 126708560,
            "bin_end": 136487280,
            "count": 0
           },
           {
            "bin_start": 136487280,
            "bin_end": 146266000,
            "count": 2
           }
          ]
         }
        },
        {
         "name": "High",
         "dtype": "float64",
         "stats": {
          "unique_count": 5,
          "nan_count": 0,
          "min": "71.0625",
          "max": "73.49250030517578",
          "histogram": [
           {
            "bin_start": 71.0625,
            "bin_end": 71.30550003051758,
            "count": 2
           },
           {
            "bin_start": 71.30550003051758,
            "bin_end": 71.54850006103516,
            "count": 0
           },
           {
            "bin_start": 71.54850006103516,
            "bin_end": 71.79150009155273,
            "count": 0
           },
           {
            "bin_start": 71.79150009155273,
            "bin_end": 72.03450012207031,
            "count": 0
           },
           {
            "bin_start": 72.03450012207031,
            "bin_end": 72.27750015258789,
            "count": 0
           },
           {
            "bin_start": 72.27750015258789,
            "bin_end": 72.52050018310547,
            "count": 1
           },
           {
            "bin_start": 72.52050018310547,
            "bin_end": 72.76350021362305,
            "count": 0
           },
           {
            "bin_start": 72.76350021362305,
            "bin_end": 73.00650024414062,
            "count": 0
           },
           {
            "bin_start": 73.00650024414062,
            "bin_end": 73.2495002746582,
            "count": 1
           },
           {
            "bin_start": 73.2495002746582,
            "bin_end": 73.49250030517578,
            "count": 1
           }
          ]
         }
        },
        {
         "name": "Low",
         "dtype": "float64",
         "stats": {
          "unique_count": 5,
          "nan_count": 0,
          "min": "70.09249877929688",
          "max": "72.02999877929688",
          "histogram": [
           {
            "bin_start": 70.09249877929688,
            "bin_end": 70.28624877929687,
            "count": 1
           },
           {
            "bin_start": 70.28624877929687,
            "bin_end": 70.47999877929688,
            "count": 0
           },
           {
            "bin_start": 70.47999877929688,
            "bin_end": 70.67374877929687,
            "count": 0
           },
           {
            "bin_start": 70.67374877929687,
            "bin_end": 70.86749877929688,
            "count": 1
           },
           {
            "bin_start": 70.86749877929688,
            "bin_end": 71.06124877929688,
            "count": 0
           },
           {
            "bin_start": 71.06124877929688,
            "bin_end": 71.25499877929687,
            "count": 1
           },
           {
            "bin_start": 71.25499877929687,
            "bin_end": 71.44874877929688,
            "count": 1
           },
           {
            "bin_start": 71.44874877929688,
            "bin_end": 71.64249877929687,
            "count": 0
           },
           {
            "bin_start": 71.64249877929687,
            "bin_end": 71.83624877929688,
            "count": 0
           },
           {
            "bin_start": 71.83624877929688,
            "bin_end": 72.02999877929688,
            "count": 1
           }
          ]
         }
        },
        {
         "name": "Close",
         "dtype": "float64",
         "stats": {
          "unique_count": 5,
          "nan_count": 0,
          "min": "71.0",
          "max": "72.87999725341797",
          "histogram": [
           {
            "bin_start": 71,
            "bin_end": 71.1879997253418,
            "count": 2
           },
           {
            "bin_start": 71.1879997253418,
            "bin_end": 71.3759994506836,
            "count": 0
           },
           {
            "bin_start": 71.3759994506836,
            "bin_end": 71.56399917602539,
            "count": 0
           },
           {
            "bin_start": 71.56399917602539,
            "bin_end": 71.75199890136719,
            "count": 0
           },
           {
            "bin_start": 71.75199890136719,
            "bin_end": 71.93999862670898,
            "count": 0
           },
           {
            "bin_start": 71.93999862670898,
            "bin_end": 72.12799835205078,
            "count": 0
           },
           {
            "bin_start": 72.12799835205078,
            "bin_end": 72.31599807739258,
            "count": 0
           },
           {
            "bin_start": 72.31599807739258,
            "bin_end": 72.50399780273438,
            "count": 2
           },
           {
            "bin_start": 72.50399780273438,
            "bin_end": 72.69199752807617,
            "count": 0
           },
           {
            "bin_start": 72.69199752807617,
            "bin_end": 72.87999725341797,
            "count": 1
           }
          ]
         }
        },
        {
         "name": "Adjclose",
         "dtype": "float64",
         "stats": {
          "unique_count": 5,
          "nan_count": 0,
          "min": "69.9607925415039",
          "max": "71.81327819824219",
          "histogram": [
           {
            "bin_start": 69.9607925415039,
            "bin_end": 70.14604110717774,
            "count": 2
           },
           {
            "bin_start": 70.14604110717774,
            "bin_end": 70.33128967285157,
            "count": 0
           },
           {
            "bin_start": 70.33128967285157,
            "bin_end": 70.51653823852538,
            "count": 0
           },
           {
            "bin_start": 70.51653823852538,
            "bin_end": 70.70178680419922,
            "count": 0
           },
           {
            "bin_start": 70.70178680419922,
            "bin_end": 70.88703536987305,
            "count": 0
           },
           {
            "bin_start": 70.88703536987305,
            "bin_end": 71.07228393554688,
            "count": 0
           },
           {
            "bin_start": 71.07228393554688,
            "bin_end": 71.25753250122071,
            "count": 0
           },
           {
            "bin_start": 71.25753250122071,
            "bin_end": 71.44278106689453,
            "count": 2
           },
           {
            "bin_start": 71.44278106689453,
            "bin_end": 71.62802963256836,
            "count": 0
           },
           {
            "bin_start": 71.62802963256836,
            "bin_end": 71.81327819824219,
            "count": 1
           }
          ]
         }
        },
        {
         "name": "Open-Close",
         "dtype": "float64",
         "stats": {
          "unique_count": 5,
          "nan_count": 0,
          "min": "-1.2724990844726562",
          "max": "0.3300018310546875",
          "histogram": [
           {
            "bin_start": -1.2724990844726562,
            "bin_end": -1.112248992919922,
            "count": 1
           },
           {
            "bin_start": -1.112248992919922,
            "bin_end": -0.9519989013671875,
            "count": 0
           },
           {
            "bin_start": -0.9519989013671875,
            "bin_end": -0.7917488098144532,
            "count": 1
           },
           {
            "bin_start": -0.7917488098144532,
            "bin_end": -0.6314987182617188,
            "count": 0
           },
           {
            "bin_start": -0.6314987182617188,
            "bin_end": -0.4712486267089844,
            "count": 1
           },
           {
            "bin_start": -0.4712486267089844,
            "bin_end": -0.3109985351562501,
            "count": 0
           },
           {
            "bin_start": -0.3109985351562501,
            "bin_end": -0.15074844360351558,
            "count": 0
           },
           {
            "bin_start": -0.15074844360351558,
            "bin_end": 0.009501647949218706,
            "count": 0
           },
           {
            "bin_start": 0.009501647949218706,
            "bin_end": 0.169751739501953,
            "count": 1
           },
           {
            "bin_start": 0.169751739501953,
            "bin_end": 0.3300018310546875,
            "count": 1
           }
          ]
         }
        },
        {
         "name": "High-Low",
         "dtype": "float64",
         "stats": {
          "unique_count": 5,
          "nan_count": 0,
          "min": "0.49250030517578125",
          "max": "1.8675003051757812",
          "histogram": [
           {
            "bin_start": 0.49250030517578125,
            "bin_end": 0.6300003051757812,
            "count": 1
           },
           {
            "bin_start": 0.6300003051757812,
            "bin_end": 0.7675003051757813,
            "count": 0
           },
           {
            "bin_start": 0.7675003051757813,
            "bin_end": 0.9050003051757813,
            "count": 0
           },
           {
            "bin_start": 0.9050003051757813,
            "bin_end": 1.0425003051757813,
            "count": 1
           },
           {
            "bin_start": 1.0425003051757813,
            "bin_end": 1.1800003051757812,
            "count": 0
           },
           {
            "bin_start": 1.1800003051757812,
            "bin_end": 1.3175003051757814,
            "count": 0
           },
           {
            "bin_start": 1.3175003051757814,
            "bin_end": 1.4550003051757814,
            "count": 1
           },
           {
            "bin_start": 1.4550003051757814,
            "bin_end": 1.5925003051757813,
            "count": 1
           },
           {
            "bin_start": 1.5925003051757813,
            "bin_end": 1.7300003051757813,
            "count": 0
           },
           {
            "bin_start": 1.7300003051757813,
            "bin_end": 1.8675003051757812,
            "count": 1
           }
          ]
         }
        },
        {
         "name": "Predicted_Signal",
         "dtype": "int64",
         "stats": {
          "unique_count": 2,
          "nan_count": 0,
          "min": "0",
          "max": "1",
          "histogram": [
           {
            "bin_start": 0,
            "bin_end": 0.1,
            "count": 1
           },
           {
            "bin_start": 0.1,
            "bin_end": 0.2,
            "count": 0
           },
           {
            "bin_start": 0.2,
            "bin_end": 0.30000000000000004,
            "count": 0
           },
           {
            "bin_start": 0.30000000000000004,
            "bin_end": 0.4,
            "count": 0
           },
           {
            "bin_start": 0.4,
            "bin_end": 0.5,
            "count": 0
           },
           {
            "bin_start": 0.5,
            "bin_end": 0.6000000000000001,
            "count": 0
           },
           {
            "bin_start": 0.6000000000000001,
            "bin_end": 0.7000000000000001,
            "count": 0
           },
           {
            "bin_start": 0.7000000000000001,
            "bin_end": 0.8,
            "count": 0
           },
           {
            "bin_start": 0.8,
            "bin_end": 0.9,
            "count": 0
           },
           {
            "bin_start": 0.9,
            "bin_end": 1,
            "count": 4
           }
          ]
         }
        },
        {
         "name": "Return",
         "dtype": "float64",
         "stats": {
          "unique_count": 5,
          "nan_count": 0,
          "min": "-0.00037948283174404907",
          "max": "0.01984034497629028",
          "histogram": [
           {
            "bin_start": -0.00037948283174404907,
            "bin_end": 0.001642499949059384,
            "count": 2
           },
           {
            "bin_start": 0.001642499949059384,
            "bin_end": 0.003664482729862817,
            "count": 0
           },
           {
            "bin_start": 0.003664482729862817,
            "bin_end": 0.0056864655106662505,
            "count": 0
           },
           {
            "bin_start": 0.0056864655106662505,
            "bin_end": 0.007708448291469683,
            "count": 1
           },
           {
            "bin_start": 0.007708448291469683,
            "bin_end": 0.009730431072273116,
            "count": 0
           },
           {
            "bin_start": 0.009730431072273116,
            "bin_end": 0.01175241385307655,
            "count": 0
           },
           {
            "bin_start": 0.01175241385307655,
            "bin_end": 0.013774396633879983,
            "count": 0
           },
           {
            "bin_start": 0.013774396633879983,
            "bin_end": 0.015796379414683415,
            "count": 0
           },
           {
            "bin_start": 0.015796379414683415,
            "bin_end": 0.01781836219548685,
            "count": 1
           },
           {
            "bin_start": 0.01781836219548685,
            "bin_end": 0.01984034497629028,
            "count": 1
           }
          ]
         }
        },
        {
         "name": "Strategy_Return",
         "dtype": "float64",
         "stats": {
          "unique_count": 5,
          "nan_count": 0,
          "min": "-0.0",
          "max": "0.01984034497629028",
          "histogram": [
           {
            "bin_start": 0,
            "bin_end": 0.0019840344976290282,
            "count": 2
           },
           {
            "bin_start": 0.0019840344976290282,
            "bin_end": 0.0039680689952580565,
            "count": 0
           },
           {
            "bin_start": 0.0039680689952580565,
            "bin_end": 0.005952103492887085,
            "count": 1
           },
           {
            "bin_start": 0.005952103492887085,
            "bin_end": 0.007936137990516113,
            "count": 0
           },
           {
            "bin_start": 0.007936137990516113,
            "bin_end": 0.00992017248814514,
            "count": 0
           },
           {
            "bin_start": 0.00992017248814514,
            "bin_end": 0.01190420698577417,
            "count": 0
           },
           {
            "bin_start": 0.01190420698577417,
            "bin_end": 0.013888241483403199,
            "count": 0
           },
           {
            "bin_start": 0.013888241483403199,
            "bin_end": 0.015872275981032226,
            "count": 0
           },
           {
            "bin_start": 0.015872275981032226,
            "bin_end": 0.017856310478661253,
            "count": 1
           },
           {
            "bin_start": 0.017856310478661253,
            "bin_end": 0.01984034497629028,
            "count": 1
           }
          ]
         }
        },
        {
         "name": "Cum_Ret",
         "dtype": "float64",
         "stats": {
          "unique_count": 5,
          "nan_count": 0,
          "min": "0.6218436269528973",
          "max": "0.6481902867750271",
          "histogram": [
           {
            "bin_start": 0.6218436269528973,
            "bin_end": 0.6244782929351103,
            "count": 2
           },
           {
            "bin_start": 0.6244782929351103,
            "bin_end": 0.6271129589173232,
            "count": 0
           },
           {
            "bin_start": 0.6271129589173232,
            "bin_end": 0.6297476248995363,
            "count": 0
           },
           {
            "bin_start": 0.6297476248995363,
            "bin_end": 0.6323822908817492,
            "count": 0
           },
           {
            "bin_start": 0.6323822908817492,
            "bin_end": 0.6350169568639622,
            "count": 0
           },
           {
            "bin_start": 0.6350169568639622,
            "bin_end": 0.6376516228461752,
            "count": 0
           },
           {
            "bin_start": 0.6376516228461752,
            "bin_end": 0.6402862888283881,
            "count": 0
           },
           {
            "bin_start": 0.6402862888283881,
            "bin_end": 0.6429209548106012,
            "count": 2
           },
           {
            "bin_start": 0.6429209548106012,
            "bin_end": 0.6455556207928141,
            "count": 0
           },
           {
            "bin_start": 0.6455556207928141,
            "bin_end": 0.6481902867750271,
            "count": 1
           }
          ]
         }
        },
        {
         "name": "_deepnote_index_column",
         "dtype": "datetime64[ns]"
        }
       ],
       "rows": [
        {
         "Open": 70.13249969482422,
         "Volume": 98572000,
         "High": 71.0625,
         "Low": 70.09249877929688,
         "Close": 71,
         "Adjclose": 69.9607925415039,
         "Open-Close": -0.8675003051757812,
         "High-Low": 0.970001220703125,
         "Predicted_Signal": 1,
         "Return": 0.01631834210833838,
         "Strategy_Return": 0.01631834210833838,
         "Cum_Ret": 0.6218436269528973,
         "_deepnote_index_column": "2019-12-23T00:00:00.000000"
        },
        {
         "Open": 71.17250061035156,
         "Volume": 48478800,
         "High": 71.22250366210938,
         "Low": 70.7300033569336,
         "Close": 71.06749725341797,
         "Adjclose": 70.02731323242188,
         "Open-Close": 0.10500335693359375,
         "High-Low": 0.49250030517578125,
         "Predicted_Signal": 1,
         "Return": 0.000950665541098239,
         "Strategy_Return": 0.000950665541098239,
         "Cum_Ret": 0.6227942924939955,
         "_deepnote_index_column": "2019-12-24T00:00:00.000000"
        },
        {
         "Open": 71.20500183105469,
         "Volume": 93121200,
         "High": 72.49500274658203,
         "Low": 71.17500305175781,
         "Close": 72.47750091552734,
         "Adjclose": 71.41667938232422,
         "Open-Close": -1.2724990844726562,
         "High-Low": 1.3199996948242188,
         "Predicted_Signal": 0,
         "Return": 0.01984034497629028,
         "Strategy_Return": 0.01984034497629028,
         "Cum_Ret": 0.6426346374702858,
         "_deepnote_index_column": "2019-12-26T00:00:00.000000"
        },
        {
         "Open": 72.77999877929688,
         "Volume": 146266000,
         "High": 73.49250030517578,
         "Low": 72.02999877929688,
         "Close": 72.44999694824219,
         "Adjclose": 71.38955688476562,
         "Open-Close": 0.3300018310546875,
         "High-Low": 1.4625015258789062,
         "Predicted_Signal": 1,
         "Return": -0.00037948283174404907,
         "Strategy_Return": 0,
         "Cum_Ret": 0.6422551546385418,
         "_deepnote_index_column": "2019-12-27T00:00:00.000000"
        },
        {
         "Open": 72.36499786376953,
         "Volume": 144114400,
         "High": 73.17250061035156,
         "Low": 71.30500030517578,
         "Close": 72.87999725341797,
         "Adjclose": 71.81327819824219,
         "Open-Close": -0.5149993896484375,
         "High-Low": 1.8675003051757812,
         "Predicted_Signal": 1,
         "Return": 0.005935132136485333,
         "Strategy_Return": 0.005935132136485333,
         "Cum_Ret": 0.6481902867750271,
         "_deepnote_index_column": "2019-12-30T00:00:00.000000"
        }
       ]
      },
      "text/plain": "                 Open       Volume       High        Low      Close  \\\nDate                                                                  \n2019-12-23  70.132500   98572000.0  71.062500  70.092499  71.000000   \n2019-12-24  71.172501   48478800.0  71.222504  70.730003  71.067497   \n2019-12-26  71.205002   93121200.0  72.495003  71.175003  72.477501   \n2019-12-27  72.779999  146266000.0  73.492500  72.029999  72.449997   \n2019-12-30  72.364998  144114400.0  73.172501  71.305000  72.879997   \n\n             Adjclose  Open-Close  High-Low  Predicted_Signal    Return  \\\nDate                                                                      \n2019-12-23  69.960793   -0.867500  0.970001                 1  0.016318   \n2019-12-24  70.027313    0.105003  0.492500                 1  0.000951   \n2019-12-26  71.416679   -1.272499  1.320000                 0  0.019840   \n2019-12-27  71.389557    0.330002  1.462502                 1 -0.000379   \n2019-12-30  71.813278   -0.514999  1.867500                 1  0.005935   \n\n            Strategy_Return   Cum_Ret  \nDate                                   \n2019-12-23         0.016318  0.621844  \n2019-12-24         0.000951  0.622794  \n2019-12-26         0.019840  0.642635  \n2019-12-27        -0.000000  0.642255  \n2019-12-30         0.005935  0.648190  ",
      "text/html": "<div>\n<style scoped>\n    .dataframe tbody tr th:only-of-type {\n        vertical-align: middle;\n    }\n\n    .dataframe tbody tr th {\n        vertical-align: top;\n    }\n\n    .dataframe thead th {\n        text-align: right;\n    }\n</style>\n<table border=\"1\" class=\"dataframe\">\n  <thead>\n    <tr style=\"text-align: right;\">\n      <th></th>\n      <th>Open</th>\n      <th>Volume</th>\n      <th>High</th>\n      <th>Low</th>\n      <th>Close</th>\n      <th>Adjclose</th>\n      <th>Open-Close</th>\n      <th>High-Low</th>\n      <th>Predicted_Signal</th>\n      <th>Return</th>\n      <th>Strategy_Return</th>\n      <th>Cum_Ret</th>\n    </tr>\n    <tr>\n      <th>Date</th>\n      <th></th>\n      <th></th>\n      <th></th>\n      <th></th>\n      <th></th>\n      <th></th>\n      <th></th>\n      <th></th>\n      <th></th>\n      <th></th>\n      <th></th>\n      <th></th>\n    </tr>\n  </thead>\n  <tbody>\n    <tr>\n      <th>2019-12-23</th>\n      <td>70.132500</td>\n      <td>98572000.0</td>\n      <td>71.062500</td>\n      <td>70.092499</td>\n      <td>71.000000</td>\n      <td>69.960793</td>\n      <td>-0.867500</td>\n      <td>0.970001</td>\n      <td>1</td>\n      <td>0.016318</td>\n      <td>0.016318</td>\n      <td>0.621844</td>\n    </tr>\n    <tr>\n      <th>2019-12-24</th>\n      <td>71.172501</td>\n      <td>48478800.0</td>\n      <td>71.222504</td>\n      <td>70.730003</td>\n      <td>71.067497</td>\n      <td>70.027313</td>\n      <td>0.105003</td>\n      <td>0.492500</td>\n      <td>1</td>\n      <td>0.000951</td>\n      <td>0.000951</td>\n      <td>0.622794</td>\n    </tr>\n    <tr>\n      <th>2019-12-26</th>\n      <td>71.205002</td>\n      <td>93121200.0</td>\n      <td>72.495003</td>\n      <td>71.175003</td>\n      <td>72.477501</td>\n      <td>71.416679</td>\n      <td>-1.272499</td>\n      <td>1.320000</td>\n      <td>0</td>\n      <td>0.019840</td>\n      <td>0.019840</td>\n      <td>0.642635</td>\n    </tr>\n    <tr>\n      <th>2019-12-27</th>\n      <td>72.779999</td>\n      <td>146266000.0</td>\n      <td>73.492500</td>\n      <td>72.029999</td>\n      <td>72.449997</td>\n      <td>71.389557</td>\n      <td>0.330002</td>\n      <td>1.462502</td>\n      <td>1</td>\n      <td>-0.000379</td>\n      <td>-0.000000</td>\n      <td>0.642255</td>\n    </tr>\n    <tr>\n      <th>2019-12-30</th>\n      <td>72.364998</td>\n      <td>144114400.0</td>\n      <td>73.172501</td>\n      <td>71.305000</td>\n      <td>72.879997</td>\n      <td>71.813278</td>\n      <td>-0.514999</td>\n      <td>1.867500</td>\n      <td>1</td>\n      <td>0.005935</td>\n      <td>0.005935</td>\n      <td>0.648190</td>\n    </tr>\n  </tbody>\n</table>\n</div>"
     },
     "metadata": {}
    }
   ],
   "execution_count": null
  },
  {
   "cell_type": "code",
   "metadata": {
    "cell_id": "5ffc6df1-13f5-4ed2-91a1-d487408ff62d",
    "tags": [],
    "deepnote_to_be_reexecuted": false,
    "source_hash": "52c2b920",
    "execution_start": 1642828075340,
    "execution_millis": 178,
    "deepnote_app_coordinates": {
     "x": 0,
     "y": 66,
     "w": 12,
     "h": 5
    },
    "deepnote_cell_type": "code"
   },
   "source": "# Plot Strategy Cumulative returns \ndf['Cum_Strategy'] = df['Strategy_Return'].cumsum()\ndf",
   "outputs": [
    {
     "output_type": "execute_result",
     "execution_count": 14,
     "data": {
      "application/vnd.deepnote.dataframe.v3+json": {
       "column_count": 13,
       "row_count": 251,
       "columns": [
        {
         "name": "Open",
         "dtype": "float64",
         "stats": {
          "unique_count": 246,
          "nan_count": 0,
          "min": "35.994998931884766",
          "max": "72.77999877929688",
          "histogram": [
           {
            "bin_start": 35.994998931884766,
            "bin_end": 39.673498916625974,
            "count": 19
           },
           {
            "bin_start": 39.673498916625974,
            "bin_end": 43.35199890136719,
            "count": 18
           },
           {
            "bin_start": 43.35199890136719,
            "bin_end": 47.0304988861084,
            "count": 34
           },
           {
            "bin_start": 47.0304988861084,
            "bin_end": 50.70899887084961,
            "count": 53
           },
           {
            "bin_start": 50.70899887084961,
            "bin_end": 54.38749885559082,
            "count": 50
           },
           {
            "bin_start": 54.38749885559082,
            "bin_end": 58.06599884033203,
            "count": 22
           },
           {
            "bin_start": 58.06599884033203,
            "bin_end": 61.74449882507324,
            "count": 12
           },
           {
            "bin_start": 61.74449882507324,
            "bin_end": 65.42299880981446,
            "count": 14
           },
           {
            "bin_start": 65.42299880981446,
            "bin_end": 69.10149879455565,
            "count": 19
           },
           {
            "bin_start": 69.10149879455565,
            "bin_end": 72.77999877929688,
            "count": 10
           }
          ]
         }
        },
        {
         "name": "Volume",
         "dtype": "float64",
         "stats": {
          "unique_count": 250,
          "nan_count": 0,
          "min": "45448000.0",
          "max": "365248800.0",
          "histogram": [
           {
            "bin_start": 45448000,
            "bin_end": 77428080,
            "count": 47
           },
           {
            "bin_start": 77428080,
            "bin_end": 109408160,
            "count": 101
           },
           {
            "bin_start": 109408160,
            "bin_end": 141388240,
            "count": 59
           },
           {
            "bin_start": 141388240,
            "bin_end": 173368320,
            "count": 24
           },
           {
            "bin_start": 173368320,
            "bin_end": 205348400,
            "count": 9
           },
           {
            "bin_start": 205348400,
            "bin_end": 237328480,
            "count": 6
           },
           {
            "bin_start": 237328480,
            "bin_end": 269308560,
            "count": 2
           },
           {
            "bin_start": 269308560,
            "bin_end": 301288640,
            "count": 2
           },
           {
            "bin_start": 301288640,
            "bin_end": 333268720,
            "count": 0
           },
           {
            "bin_start": 333268720,
            "bin_end": 365248800,
            "count": 1
           }
          ]
         }
        },
        {
         "name": "High",
         "dtype": "float64",
         "stats": {
          "unique_count": 248,
          "nan_count": 0,
          "min": "36.43000030517578",
          "max": "73.49250030517578",
          "histogram": [
           {
            "bin_start": 36.43000030517578,
            "bin_end": 40.13625030517578,
            "count": 19
           },
           {
            "bin_start": 40.13625030517578,
            "bin_end": 43.84250030517578,
            "count": 22
           },
           {
            "bin_start": 43.84250030517578,
            "bin_end": 47.54875030517578,
            "count": 31
           },
           {
            "bin_start": 47.54875030517578,
            "bin_end": 51.255000305175784,
            "count": 56
           },
           {
            "bin_start": 51.255000305175784,
            "bin_end": 54.96125030517578,
            "count": 46
           },
           {
            "bin_start": 54.96125030517578,
            "bin_end": 58.66750030517578,
            "count": 22
           },
           {
            "bin_start": 58.66750030517578,
            "bin_end": 62.373750305175776,
            "count": 14
           },
           {
            "bin_start": 62.373750305175776,
            "bin_end": 66.08000030517579,
            "count": 13
           },
           {
            "bin_start": 66.08000030517579,
            "bin_end": 69.78625030517577,
            "count": 18
           },
           {
            "bin_start": 69.78625030517577,
            "bin_end": 73.49250030517578,
            "count": 10
           }
          ]
         }
        },
        {
         "name": "Low",
         "dtype": "float64",
         "stats": {
          "unique_count": 249,
          "nan_count": 0,
          "min": "35.5",
          "max": "72.02999877929688",
          "histogram": [
           {
            "bin_start": 35.5,
            "bin_end": 39.15299987792969,
            "count": 19
           },
           {
            "bin_start": 39.15299987792969,
            "bin_end": 42.805999755859375,
            "count": 16
           },
           {
            "bin_start": 42.805999755859375,
            "bin_end": 46.45899963378906,
            "count": 35
           },
           {
            "bin_start": 46.45899963378906,
            "bin_end": 50.11199951171875,
            "count": 50
           },
           {
            "bin_start": 50.11199951171875,
            "bin_end": 53.76499938964844,
            "count": 54
           },
           {
            "bin_start": 53.76499938964844,
            "bin_end": 57.417999267578125,
            "count": 22
           },
           {
            "bin_start": 57.417999267578125,
            "bin_end": 61.07099914550781,
            "count": 14
           },
           {
            "bin_start": 61.07099914550781,
            "bin_end": 64.7239990234375,
            "count": 9
           },
           {
            "bin_start": 64.7239990234375,
            "bin_end": 68.37699890136719,
            "count": 22
           },
           {
            "bin_start": 68.37699890136719,
            "bin_end": 72.02999877929688,
            "count": 10
           }
          ]
         }
        },
        {
         "name": "Close",
         "dtype": "float64",
         "stats": {
          "unique_count": 250,
          "nan_count": 0,
          "min": "35.54750061035156",
          "max": "72.87999725341797",
          "histogram": [
           {
            "bin_start": 35.54750061035156,
            "bin_end": 39.2807502746582,
            "count": 17
           },
           {
            "bin_start": 39.2807502746582,
            "bin_end": 43.013999938964844,
            "count": 16
           },
           {
            "bin_start": 43.013999938964844,
            "bin_end": 46.747249603271484,
            "count": 34
           },
           {
            "bin_start": 46.747249603271484,
            "bin_end": 50.480499267578125,
            "count": 53
           },
           {
            "bin_start": 50.480499267578125,
            "bin_end": 54.213748931884766,
            "count": 54
           },
           {
            "bin_start": 54.213748931884766,
            "bin_end": 57.946998596191406,
            "count": 22
           },
           {
            "bin_start": 57.946998596191406,
            "bin_end": 61.68024826049805,
            "count": 13
           },
           {
            "bin_start": 61.68024826049805,
            "bin_end": 65.41349792480469,
            "count": 9
           },
           {
            "bin_start": 65.41349792480469,
            "bin_end": 69.14674758911133,
            "count": 23
           },
           {
            "bin_start": 69.14674758911133,
            "bin_end": 72.87999725341797,
            "count": 10
           }
          ]
         }
        },
        {
         "name": "Adjclose",
         "dtype": "float64",
         "stats": {
          "unique_count": 251,
          "nan_count": 0,
          "min": "34.50870895385742",
          "max": "71.81327819824219",
          "histogram": [
           {
            "bin_start": 34.50870895385742,
            "bin_end": 38.2391658782959,
            "count": 17
           },
           {
            "bin_start": 38.2391658782959,
            "bin_end": 41.96962280273438,
            "count": 16
           },
           {
            "bin_start": 41.96962280273438,
            "bin_end": 45.70007972717285,
            "count": 34
           },
           {
            "bin_start": 45.70007972717285,
            "bin_end": 49.43053665161133,
            "count": 52
           },
           {
            "bin_start": 49.43053665161133,
            "bin_end": 53.160993576049805,
            "count": 54
           },
           {
            "bin_start": 53.160993576049805,
            "bin_end": 56.89145050048828,
            "count": 23
           },
           {
            "bin_start": 56.89145050048828,
            "bin_end": 60.62190742492676,
            "count": 13
           },
           {
            "bin_start": 60.62190742492676,
            "bin_end": 64.35236434936523,
            "count": 9
           },
           {
            "bin_start": 64.35236434936523,
            "bin_end": 68.08282127380372,
            "count": 23
           },
           {
            "bin_start": 68.08282127380372,
            "bin_end": 71.81327819824219,
            "count": 10
           }
          ]
         }
        },
        {
         "name": "Open-Close",
         "dtype": "float64",
         "stats": {
          "unique_count": 233,
          "nan_count": 0,
          "min": "-1.9874992370605469",
          "max": "1.6974983215332031",
          "histogram": [
           {
            "bin_start": -1.9874992370605469,
            "bin_end": -1.6189994812011719,
            "count": 1
           },
           {
            "bin_start": -1.6189994812011719,
            "bin_end": -1.2504997253417969,
            "count": 4
           },
           {
            "bin_start": -1.2504997253417969,
            "bin_end": -0.8819999694824219,
            "count": 14
           },
           {
            "bin_start": -0.8819999694824219,
            "bin_end": -0.5135002136230469,
            "count": 31
           },
           {
            "bin_start": -0.5135002136230469,
            "bin_end": -0.14500045776367188,
            "count": 68
           },
           {
            "bin_start": -0.14500045776367188,
            "bin_end": 0.22349929809570312,
            "count": 73
           },
           {
            "bin_start": 0.22349929809570312,
            "bin_end": 0.5919990539550781,
            "count": 39
           },
           {
            "bin_start": 0.5919990539550781,
            "bin_end": 0.9604988098144531,
            "count": 14
           },
           {
            "bin_start": 0.9604988098144531,
            "bin_end": 1.3289985656738281,
            "count": 4
           },
           {
            "bin_start": 1.3289985656738281,
            "bin_end": 1.6974983215332031,
            "count": 3
           }
          ]
         }
        },
        {
         "name": "High-Low",
         "dtype": "float64",
         "stats": {
          "unique_count": 207,
          "nan_count": 0,
          "min": "0.29250335693359375",
          "max": "2.9775009155273438",
          "histogram": [
           {
            "bin_start": 0.29250335693359375,
            "bin_end": 0.5610031127929688,
            "count": 55
           },
           {
            "bin_start": 0.5610031127929688,
            "bin_end": 0.8295028686523438,
            "count": 79
           },
           {
            "bin_start": 0.8295028686523438,
            "bin_end": 1.098002624511719,
            "count": 65
           },
           {
            "bin_start": 1.098002624511719,
            "bin_end": 1.3665023803710938,
            "count": 24
           },
           {
            "bin_start": 1.3665023803710938,
            "bin_end": 1.6350021362304688,
            "count": 15
           },
           {
            "bin_start": 1.6350021362304688,
            "bin_end": 1.9035018920898439,
            "count": 6
           },
           {
            "bin_start": 1.9035018920898439,
            "bin_end": 2.172001647949219,
            "count": 2
           },
           {
            "bin_start": 2.172001647949219,
            "bin_end": 2.440501403808594,
            "count": 0
           },
           {
            "bin_start": 2.440501403808594,
            "bin_end": 2.709001159667969,
            "count": 1
           },
           {
            "bin_start": 2.709001159667969,
            "bin_end": 2.9775009155273438,
            "count": 4
           }
          ]
         }
        },
        {
         "name": "Predicted_Signal",
         "dtype": "int64",
         "stats": {
          "unique_count": 2,
          "nan_count": 0,
          "min": "0",
          "max": "1",
          "histogram": [
           {
            "bin_start": 0,
            "bin_end": 0.1,
            "count": 6
           },
           {
            "bin_start": 0.1,
            "bin_end": 0.2,
            "count": 0
           },
           {
            "bin_start": 0.2,
            "bin_end": 0.30000000000000004,
            "count": 0
           },
           {
            "bin_start": 0.30000000000000004,
            "bin_end": 0.4,
            "count": 0
           },
           {
            "bin_start": 0.4,
            "bin_end": 0.5,
            "count": 0
           },
           {
            "bin_start": 0.5,
            "bin_end": 0.6000000000000001,
            "count": 0
           },
           {
            "bin_start": 0.6000000000000001,
            "bin_end": 0.7000000000000001,
            "count": 0
           },
           {
            "bin_start": 0.7000000000000001,
            "bin_end": 0.8,
            "count": 0
           },
           {
            "bin_start": 0.8,
            "bin_end": 0.9,
            "count": 0
           },
           {
            "bin_start": 0.9,
            "bin_end": 1,
            "count": 245
           }
          ]
         }
        },
        {
         "name": "Return",
         "dtype": "float64",
         "stats": {
          "unique_count": 250,
          "nan_count": 1,
          "min": "-0.09960737025028876",
          "max": "0.06833467691179762",
          "histogram": [
           {
            "bin_start": -0.09960737025028876,
            "bin_end": -0.08281316553408012,
            "count": 1
           },
           {
            "bin_start": -0.08281316553408012,
            "bin_end": -0.06601896081787148,
            "count": 0
           },
           {
            "bin_start": -0.06601896081787148,
            "bin_end": -0.04922475610166285,
            "count": 2
           },
           {
            "bin_start": -0.04922475610166285,
            "bin_end": -0.03243055138545421,
            "count": 1
           },
           {
            "bin_start": -0.03243055138545421,
            "bin_end": -0.01563634666924557,
            "count": 18
           },
           {
            "bin_start": -0.01563634666924557,
            "bin_end": 0.0011578580469630562,
            "count": 94
           },
           {
            "bin_start": 0.0011578580469630562,
            "bin_end": 0.017952062763171697,
            "count": 101
           },
           {
            "bin_start": 0.017952062763171697,
            "bin_end": 0.03474626747938034,
            "count": 27
           },
           {
            "bin_start": 0.03474626747938034,
            "bin_end": 0.051540472195588966,
            "count": 5
           },
           {
            "bin_start": 0.051540472195588966,
            "bin_end": 0.06833467691179762,
            "count": 1
           }
          ]
         }
        },
        {
         "name": "Strategy_Return",
         "dtype": "float64",
         "stats": {
          "unique_count": 245,
          "nan_count": 1,
          "min": "-0.09960737025028876",
          "max": "0.06833467691179762",
          "histogram": [
           {
            "bin_start": -0.09960737025028876,
            "bin_end": -0.08281316553408012,
            "count": 1
           },
           {
            "bin_start": -0.08281316553408012,
            "bin_end": -0.06601896081787148,
            "count": 0
           },
           {
            "bin_start": -0.06601896081787148,
            "bin_end": -0.04922475610166285,
            "count": 2
           },
           {
            "bin_start": -0.04922475610166285,
            "bin_end": -0.03243055138545421,
            "count": 1
           },
           {
            "bin_start": -0.03243055138545421,
            "bin_end": -0.01563634666924557,
            "count": 16
           },
           {
            "bin_start": -0.01563634666924557,
            "bin_end": 0.0011578580469630562,
            "count": 97
           },
           {
            "bin_start": 0.0011578580469630562,
            "bin_end": 0.017952062763171697,
            "count": 100
           },
           {
            "bin_start": 0.017952062763171697,
            "bin_end": 0.03474626747938034,
            "count": 27
           },
           {
            "bin_start": 0.03474626747938034,
            "bin_end": 0.051540472195588966,
            "count": 5
           },
           {
            "bin_start": 0.051540472195588966,
            "bin_end": 0.06833467691179762,
            "count": 1
           }
          ]
         }
        },
        {
         "name": "Cum_Ret",
         "dtype": "float64",
         "stats": {
          "unique_count": 250,
          "nan_count": 1,
          "min": "-0.09960737025028876",
          "max": "0.6481902867750271",
          "histogram": [
           {
            "bin_start": -0.09960737025028876,
            "bin_end": -0.024827604547757176,
            "count": 7
           },
           {
            "bin_start": -0.024827604547757176,
            "bin_end": 0.04995216115477441,
            "count": 11
           },
           {
            "bin_start": 0.04995216115477441,
            "bin_end": 0.124731926857306,
            "count": 29
           },
           {
            "bin_start": 0.124731926857306,
            "bin_end": 0.19951169255983758,
            "count": 27
           },
           {
            "bin_start": 0.19951169255983758,
            "bin_end": 0.27429145826236917,
            "count": 54
           },
           {
            "bin_start": 0.27429145826236917,
            "bin_end": 0.34907122396490076,
            "count": 45
           },
           {
            "bin_start": 0.34907122396490076,
            "bin_end": 0.4238509896674324,
            "count": 22
           },
           {
            "bin_start": 0.4238509896674324,
            "bin_end": 0.49863075536996393,
            "count": 15
           },
           {
            "bin_start": 0.49863075536996393,
            "bin_end": 0.5734105210724955,
            "count": 27
           },
           {
            "bin_start": 0.5734105210724955,
            "bin_end": 0.6481902867750271,
            "count": 13
           }
          ]
         }
        },
        {
         "name": "Cum_Strategy",
         "dtype": "float64",
         "stats": {
          "unique_count": 244,
          "nan_count": 1,
          "min": "-0.09960737025028876",
          "max": "0.6991120470564444",
          "histogram": [
           {
            "bin_start": -0.09960737025028876,
            "bin_end": -0.019735428519615447,
            "count": 11
           },
           {
            "bin_start": -0.019735428519615447,
            "bin_end": 0.06013651321105787,
            "count": 8
           },
           {
            "bin_start": 0.06013651321105787,
            "bin_end": 0.1400084549417312,
            "count": 28
           },
           {
            "bin_start": 0.1400084549417312,
            "bin_end": 0.2198803966724045,
            "count": 26
           },
           {
            "bin_start": 0.2198803966724045,
            "bin_end": 0.2997523384030778,
            "count": 56
           },
           {
            "bin_start": 0.2997523384030778,
            "bin_end": 0.37962428013375116,
            "count": 39
           },
           {
            "bin_start": 0.37962428013375116,
            "bin_end": 0.4594962218644244,
            "count": 26
           },
           {
            "bin_start": 0.4594962218644244,
            "bin_end": 0.5393681635950978,
            "count": 14
           },
           {
            "bin_start": 0.5393681635950978,
            "bin_end": 0.6192401053257711,
            "count": 28
           },
           {
            "bin_start": 0.6192401053257711,
            "bin_end": 0.6991120470564444,
            "count": 14
           }
          ]
         }
        },
        {
         "name": "_deepnote_index_column",
         "dtype": "datetime64[ns]"
        }
       ],
       "rows": [
        {
         "Open": 38.72249984741211,
         "Volume": 148158800,
         "High": 39.712501525878906,
         "Low": 38.557498931884766,
         "Close": 39.47999954223633,
         "Adjclose": 38.326290130615234,
         "Open-Close": -0.7574996948242188,
         "High-Low": 1.1550025939941406,
         "Predicted_Signal": 1,
         "Return": "nan",
         "Strategy_Return": "nan",
         "Cum_Ret": "nan",
         "Cum_Strategy": "nan",
         "_deepnote_index_column": "2019-01-02T00:00:00.000000"
        },
        {
         "Open": 35.994998931884766,
         "Volume": 365248800,
         "High": 36.43000030517578,
         "Low": 35.5,
         "Close": 35.54750061035156,
         "Adjclose": 34.50870895385742,
         "Open-Close": 0.4474983215332031,
         "High-Low": 0.9300003051757812,
         "Predicted_Signal": 1,
         "Return": -0.09960737025028876,
         "Strategy_Return": -0.09960737025028876,
         "Cum_Ret": -0.09960737025028876,
         "Cum_Strategy": -0.09960737025028876,
         "_deepnote_index_column": "2019-01-03T00:00:00.000000"
        },
        {
         "Open": 36.13249969482422,
         "Volume": 234428400,
         "High": 37.13750076293945,
         "Low": 35.95000076293945,
         "Close": 37.064998626708984,
         "Adjclose": 35.98186111450195,
         "Open-Close": -0.9324989318847656,
         "High-Low": 1.1875,
         "Predicted_Signal": 1,
         "Return": 0.04268930277240135,
         "Strategy_Return": 0.04268930277240135,
         "Cum_Ret": -0.05691806747788741,
         "Cum_Strategy": -0.05691806747788741,
         "_deepnote_index_column": "2019-01-04T00:00:00.000000"
        },
        {
         "Open": 37.17499923706055,
         "Volume": 219111200,
         "High": 37.20750045776367,
         "Low": 36.474998474121094,
         "Close": 36.98249816894531,
         "Adjclose": 35.90177917480469,
         "Open-Close": 0.19250106811523438,
         "High-Low": 0.7325019836425781,
         "Predicted_Signal": 1,
         "Return": -0.002225831939036471,
         "Strategy_Return": -0.002225831939036471,
         "Cum_Ret": -0.059143899416923884,
         "Cum_Strategy": -0.059143899416923884,
         "_deepnote_index_column": "2019-01-07T00:00:00.000000"
        },
        {
         "Open": 37.38999938964844,
         "Volume": 164101200,
         "High": 37.95500183105469,
         "Low": 37.130001068115234,
         "Close": 37.6875,
         "Adjclose": 36.586177825927734,
         "Open-Close": -0.2975006103515625,
         "High-Low": 0.8250007629394531,
         "Predicted_Signal": 1,
         "Return": 0.01906312082634498,
         "Strategy_Return": 0.01906312082634498,
         "Cum_Ret": -0.0400807785905789,
         "Cum_Strategy": -0.0400807785905789,
         "_deepnote_index_column": "2019-01-08T00:00:00.000000"
        },
        {
         "Open": 37.8224983215332,
         "Volume": 180396400,
         "High": 38.63249969482422,
         "Low": 37.407501220703125,
         "Close": 38.32749938964844,
         "Adjclose": 37.20747756958008,
         "Open-Close": -0.5050010681152344,
         "High-Low": 1.2249984741210938,
         "Predicted_Signal": 1,
         "Return": 0.016981741682214002,
         "Strategy_Return": 0.016981741682214002,
         "Cum_Ret": -0.0230990369083649,
         "Cum_Strategy": -0.0230990369083649,
         "_deepnote_index_column": "2019-01-09T00:00:00.000000"
        },
        {
         "Open": 38.125,
         "Volume": 143122800,
         "High": 38.49250030517578,
         "Low": 37.71500015258789,
         "Close": 38.45000076293945,
         "Adjclose": 37.32638931274414,
         "Open-Close": -0.3250007629394531,
         "High-Low": 0.7775001525878906,
         "Predicted_Signal": 1,
         "Return": 0.003196174424155096,
         "Strategy_Return": 0.003196174424155096,
         "Cum_Ret": -0.019902862484209805,
         "Cum_Strategy": -0.019902862484209805,
         "_deepnote_index_column": "2019-01-10T00:00:00.000000"
        },
        {
         "Open": 38.220001220703125,
         "Volume": 108092800,
         "High": 38.42499923706055,
         "Low": 37.877498626708984,
         "Close": 38.0724983215332,
         "Adjclose": 36.959922790527344,
         "Open-Close": 0.14750289916992188,
         "High-Low": 0.5475006103515625,
         "Predicted_Signal": 1,
         "Return": -0.009818008684413626,
         "Strategy_Return": -0.009818008684413626,
         "Cum_Ret": -0.02972087116862343,
         "Cum_Strategy": -0.02972087116862343,
         "_deepnote_index_column": "2019-01-11T00:00:00.000000"
        },
        {
         "Open": 37.712501525878906,
         "Volume": 129756800,
         "High": 37.817501068115234,
         "Low": 37.30500030517578,
         "Close": 37.5,
         "Adjclose": 36.404144287109375,
         "Open-Close": 0.21250152587890625,
         "High-Low": 0.5125007629394531,
         "Predicted_Signal": 1,
         "Return": -0.015037056846080588,
         "Strategy_Return": -0.015037056846080588,
         "Cum_Ret": -0.04475792801470402,
         "Cum_Strategy": -0.04475792801470402,
         "_deepnote_index_column": "2019-01-14T00:00:00.000000"
        },
        {
         "Open": 37.567501068115234,
         "Volume": 114843600,
         "High": 38.34749984741211,
         "Low": 37.51250076293945,
         "Close": 38.26750183105469,
         "Adjclose": 37.14923095703125,
         "Open-Close": -0.7000007629394531,
         "High-Low": 0.8349990844726562,
         "Predicted_Signal": 1,
         "Return": 0.020466715494791732,
         "Strategy_Return": 0.020466715494791732,
         "Cum_Ret": -0.024291212519912286,
         "Cum_Strategy": -0.024291212519912286,
         "_deepnote_index_column": "2019-01-15T00:00:00.000000"
        }
       ]
      },
      "text/plain": "                 Open       Volume       High        Low      Close  \\\nDate                                                                  \n2019-01-02  38.722500  148158800.0  39.712502  38.557499  39.480000   \n2019-01-03  35.994999  365248800.0  36.430000  35.500000  35.547501   \n2019-01-04  36.132500  234428400.0  37.137501  35.950001  37.064999   \n2019-01-07  37.174999  219111200.0  37.207500  36.474998  36.982498   \n2019-01-08  37.389999  164101200.0  37.955002  37.130001  37.687500   \n...               ...          ...        ...        ...        ...   \n2019-12-23  70.132500   98572000.0  71.062500  70.092499  71.000000   \n2019-12-24  71.172501   48478800.0  71.222504  70.730003  71.067497   \n2019-12-26  71.205002   93121200.0  72.495003  71.175003  72.477501   \n2019-12-27  72.779999  146266000.0  73.492500  72.029999  72.449997   \n2019-12-30  72.364998  144114400.0  73.172501  71.305000  72.879997   \n\n             Adjclose  Open-Close  High-Low  Predicted_Signal    Return  \\\nDate                                                                      \n2019-01-02  38.326290   -0.757500  1.155003                 1       NaN   \n2019-01-03  34.508709    0.447498  0.930000                 1 -0.099607   \n2019-01-04  35.981861   -0.932499  1.187500                 1  0.042689   \n2019-01-07  35.901779    0.192501  0.732502                 1 -0.002226   \n2019-01-08  36.586178   -0.297501  0.825001                 1  0.019063   \n...               ...         ...       ...               ...       ...   \n2019-12-23  69.960793   -0.867500  0.970001                 1  0.016318   \n2019-12-24  70.027313    0.105003  0.492500                 1  0.000951   \n2019-12-26  71.416679   -1.272499  1.320000                 0  0.019840   \n2019-12-27  71.389557    0.330002  1.462502                 1 -0.000379   \n2019-12-30  71.813278   -0.514999  1.867500                 1  0.005935   \n\n            Strategy_Return   Cum_Ret  Cum_Strategy  \nDate                                                 \n2019-01-02              NaN       NaN           NaN  \n2019-01-03        -0.099607 -0.099607     -0.099607  \n2019-01-04         0.042689 -0.056918     -0.056918  \n2019-01-07        -0.002226 -0.059144     -0.059144  \n2019-01-08         0.019063 -0.040081     -0.040081  \n...                     ...       ...           ...  \n2019-12-23         0.016318  0.621844      0.672386  \n2019-12-24         0.000951  0.622794      0.673337  \n2019-12-26         0.019840  0.642635      0.693177  \n2019-12-27        -0.000000  0.642255      0.693177  \n2019-12-30         0.005935  0.648190      0.699112  \n\n[251 rows x 13 columns]",
      "text/html": "<div>\n<style scoped>\n    .dataframe tbody tr th:only-of-type {\n        vertical-align: middle;\n    }\n\n    .dataframe tbody tr th {\n        vertical-align: top;\n    }\n\n    .dataframe thead th {\n        text-align: right;\n    }\n</style>\n<table border=\"1\" class=\"dataframe\">\n  <thead>\n    <tr style=\"text-align: right;\">\n      <th></th>\n      <th>Open</th>\n      <th>Volume</th>\n      <th>High</th>\n      <th>Low</th>\n      <th>Close</th>\n      <th>Adjclose</th>\n      <th>Open-Close</th>\n      <th>High-Low</th>\n      <th>Predicted_Signal</th>\n      <th>Return</th>\n      <th>Strategy_Return</th>\n      <th>Cum_Ret</th>\n      <th>Cum_Strategy</th>\n    </tr>\n    <tr>\n      <th>Date</th>\n      <th></th>\n      <th></th>\n      <th></th>\n      <th></th>\n      <th></th>\n      <th></th>\n      <th></th>\n      <th></th>\n      <th></th>\n      <th></th>\n      <th></th>\n      <th></th>\n      <th></th>\n    </tr>\n  </thead>\n  <tbody>\n    <tr>\n      <th>2019-01-02</th>\n      <td>38.722500</td>\n      <td>148158800.0</td>\n      <td>39.712502</td>\n      <td>38.557499</td>\n      <td>39.480000</td>\n      <td>38.326290</td>\n      <td>-0.757500</td>\n      <td>1.155003</td>\n      <td>1</td>\n      <td>NaN</td>\n      <td>NaN</td>\n      <td>NaN</td>\n      <td>NaN</td>\n    </tr>\n    <tr>\n      <th>2019-01-03</th>\n      <td>35.994999</td>\n      <td>365248800.0</td>\n      <td>36.430000</td>\n      <td>35.500000</td>\n      <td>35.547501</td>\n      <td>34.508709</td>\n      <td>0.447498</td>\n      <td>0.930000</td>\n      <td>1</td>\n      <td>-0.099607</td>\n      <td>-0.099607</td>\n      <td>-0.099607</td>\n      <td>-0.099607</td>\n    </tr>\n    <tr>\n      <th>2019-01-04</th>\n      <td>36.132500</td>\n      <td>234428400.0</td>\n      <td>37.137501</td>\n      <td>35.950001</td>\n      <td>37.064999</td>\n      <td>35.981861</td>\n      <td>-0.932499</td>\n      <td>1.187500</td>\n      <td>1</td>\n      <td>0.042689</td>\n      <td>0.042689</td>\n      <td>-0.056918</td>\n      <td>-0.056918</td>\n    </tr>\n    <tr>\n      <th>2019-01-07</th>\n      <td>37.174999</td>\n      <td>219111200.0</td>\n      <td>37.207500</td>\n      <td>36.474998</td>\n      <td>36.982498</td>\n      <td>35.901779</td>\n      <td>0.192501</td>\n      <td>0.732502</td>\n      <td>1</td>\n      <td>-0.002226</td>\n      <td>-0.002226</td>\n      <td>-0.059144</td>\n      <td>-0.059144</td>\n    </tr>\n    <tr>\n      <th>2019-01-08</th>\n      <td>37.389999</td>\n      <td>164101200.0</td>\n      <td>37.955002</td>\n      <td>37.130001</td>\n      <td>37.687500</td>\n      <td>36.586178</td>\n      <td>-0.297501</td>\n      <td>0.825001</td>\n      <td>1</td>\n      <td>0.019063</td>\n      <td>0.019063</td>\n      <td>-0.040081</td>\n      <td>-0.040081</td>\n    </tr>\n    <tr>\n      <th>...</th>\n      <td>...</td>\n      <td>...</td>\n      <td>...</td>\n      <td>...</td>\n      <td>...</td>\n      <td>...</td>\n      <td>...</td>\n      <td>...</td>\n      <td>...</td>\n      <td>...</td>\n      <td>...</td>\n      <td>...</td>\n      <td>...</td>\n    </tr>\n    <tr>\n      <th>2019-12-23</th>\n      <td>70.132500</td>\n      <td>98572000.0</td>\n      <td>71.062500</td>\n      <td>70.092499</td>\n      <td>71.000000</td>\n      <td>69.960793</td>\n      <td>-0.867500</td>\n      <td>0.970001</td>\n      <td>1</td>\n      <td>0.016318</td>\n      <td>0.016318</td>\n      <td>0.621844</td>\n      <td>0.672386</td>\n    </tr>\n    <tr>\n      <th>2019-12-24</th>\n      <td>71.172501</td>\n      <td>48478800.0</td>\n      <td>71.222504</td>\n      <td>70.730003</td>\n      <td>71.067497</td>\n      <td>70.027313</td>\n      <td>0.105003</td>\n      <td>0.492500</td>\n      <td>1</td>\n      <td>0.000951</td>\n      <td>0.000951</td>\n      <td>0.622794</td>\n      <td>0.673337</td>\n    </tr>\n    <tr>\n      <th>2019-12-26</th>\n      <td>71.205002</td>\n      <td>93121200.0</td>\n      <td>72.495003</td>\n      <td>71.175003</td>\n      <td>72.477501</td>\n      <td>71.416679</td>\n      <td>-1.272499</td>\n      <td>1.320000</td>\n      <td>0</td>\n      <td>0.019840</td>\n      <td>0.019840</td>\n      <td>0.642635</td>\n      <td>0.693177</td>\n    </tr>\n    <tr>\n      <th>2019-12-27</th>\n      <td>72.779999</td>\n      <td>146266000.0</td>\n      <td>73.492500</td>\n      <td>72.029999</td>\n      <td>72.449997</td>\n      <td>71.389557</td>\n      <td>0.330002</td>\n      <td>1.462502</td>\n      <td>1</td>\n      <td>-0.000379</td>\n      <td>-0.000000</td>\n      <td>0.642255</td>\n      <td>0.693177</td>\n    </tr>\n    <tr>\n      <th>2019-12-30</th>\n      <td>72.364998</td>\n      <td>144114400.0</td>\n      <td>73.172501</td>\n      <td>71.305000</td>\n      <td>72.879997</td>\n      <td>71.813278</td>\n      <td>-0.514999</td>\n      <td>1.867500</td>\n      <td>1</td>\n      <td>0.005935</td>\n      <td>0.005935</td>\n      <td>0.648190</td>\n      <td>0.699112</td>\n    </tr>\n  </tbody>\n</table>\n<p>251 rows × 13 columns</p>\n</div>"
     },
     "metadata": {}
    }
   ],
   "execution_count": null
  },
  {
   "cell_type": "code",
   "metadata": {
    "cell_id": "1c88c86f-bbf0-4623-ba63-03a3b8dc7723",
    "tags": [],
    "deepnote_to_be_reexecuted": false,
    "source_hash": "2c08ed3c",
    "execution_start": 1642828075498,
    "execution_millis": 309,
    "deepnote_output_heights": [
     21.1875,
     247
    ],
    "deepnote_app_coordinates": {
     "x": 0,
     "y": 72,
     "w": 12,
     "h": 5
    },
    "deepnote_cell_type": "code"
   },
   "source": "\nimport matplotlib.pyplot as plt\n%matplotlib inline\n  \nplt.plot(df['Cum_Ret'],color='red')\nplt.plot(df['Cum_Strategy'],color='blue')",
   "outputs": [
    {
     "output_type": "execute_result",
     "execution_count": 15,
     "data": {
      "text/plain": "[<matplotlib.lines.Line2D at 0x7efe78348c10>]"
     },
     "metadata": {}
    },
    {
     "data": {
      "text/plain": "<Figure size 432x288 with 1 Axes>",
      "image/png": "[encoded data removed]"
     },
     "metadata": {
      "needs_background": "light",
      "image/png": {
       "width": 384,
       "height": 245
      }
     },
     "output_type": "display_data"
    }
   ],
   "execution_count": null
  },
  {
   "cell_type": "code",
   "metadata": {
    "cell_id": "777fd64c-6673-4a69-9445-561d34a0103c",
    "tags": [],
    "deepnote_app_coordinates": {
     "x": 0,
     "y": 0,
     "w": 12,
     "h": 5
    },
    "deepnote_to_be_reexecuted": false,
    "source_hash": "b623e53d",
    "execution_start": 1642828075841,
    "execution_millis": 0,
    "deepnote_cell_type": "code"
   },
   "source": "",
   "outputs": [],
   "execution_count": null
  },
  {
   "cell_type": "markdown",
   "source": "<a style='text-decoration:none;line-height:16px;display:flex;color:#5B5B62;padding:10px;justify-content:end;' href='https://deepnote.com?utm_source=created-in-deepnote-cell&projectId=2e251de5-0dc4-4401-98b7-759471e83f8e' target=\"_blank\">\n<img alt='Created in deepnote.com' style='display:inline;max-height:16px;margin:0px;margin-right:7.5px;' src='data:image/svg+xml;base64,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' > </img>\nCreated in <span style='font-weight:600;margin-left:4px;'>Deepnote</span></a>",
   "metadata": {
    "tags": [],
    "created_in_deepnote_cell": true,
    "deepnote_cell_type": "markdown"
   }
  }
 ],
 "nbformat": 4,
 "nbformat_minor": 2,
 "metadata": {
  "orig_nbformat": 2,
  "deepnote": {
   "is_reactive": false
  },
  "deepnote_notebook_id": "cfc5c79a-4657-46a7-8729-aa48f3b891f2",
  "deepnote_execution_queue": [],
  "deepnote_app_layout": "article"
 }
}